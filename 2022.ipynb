{
 "cells": [
  {
   "cell_type": "code",
   "execution_count": null,
   "id": "f9bc9889-8afe-4667-b9c0-b36519ba28a5",
   "metadata": {},
   "outputs": [],
   "source": [
    "import geopandas as gpd\n",
    "import pandas as pd\n",
    "import plotly.express as px\n",
    "import plotly.graph_objects as go\n",
    "from plotly.subplots import make_subplots\n",
    "from unidecode import unidecode\n",
    "\n",
    "# pd.set_option('display.max_columns', None)"
   ]
  },
  {
   "cell_type": "markdown",
   "id": "3f09ca0a-e4ec-488f-a48d-c573a162cfc6",
   "metadata": {},
   "source": [
    "## Prétraitement des données"
   ]
  },
  {
   "cell_type": "markdown",
   "id": "142b6341-c119-4784-bb0d-5f3ba169d01d",
   "metadata": {},
   "source": [
    "### Premier tour"
   ]
  },
  {
   "cell_type": "code",
   "execution_count": null,
   "id": "0e9d15f5-164c-43ec-b13f-d881f6936d24",
   "metadata": {},
   "outputs": [],
   "source": [
    "t1_dep = pd.read_csv('https://www.data.gouv.fr/fr/datasets/r/bf616688-8478-46fa-8abe-cd1cc1a53b83')\n",
    "\n",
    "t1_dep.drop(t1_dep.columns[28:52], axis=1, inplace=True)\n",
    "t1_dep.drop(t1_dep.columns[[3, 5, 6, 7, 8, 10, 11, 13, 14]], axis=1, inplace=True)\n",
    "\n",
    "t1_dep.columns = ['Code Département','Département', 'Inscrits', 'Taux Abstention', 'Taux Blanc', 'Taux Nul', 'Taux Exprimé',\n",
    "                  'ARTHAUD', 'ROUSSEL', 'MACRON', 'LASSALLE', 'LE PEN', 'ZEMMOUR', 'MÉLENCHON', 'HIDALGO', 'JADOT', 'PÉCRESSE', 'POUTOU', 'DUPONT-AIGNAN']"
   ]
  },
  {
   "cell_type": "code",
   "execution_count": null,
   "id": "2d8a4de9-5110-476c-b7ea-6bcd92321522",
   "metadata": {},
   "outputs": [],
   "source": [
    "t1_dep.head()"
   ]
  },
  {
   "cell_type": "code",
   "execution_count": null,
   "id": "50a5253b-b478-4622-8cda-4979af159e8c",
   "metadata": {},
   "outputs": [],
   "source": [
    "t1_parole = pd.read_csv('https://www.data.gouv.fr/fr/datasets/r/573e3191-c31d-4893-8bc2-d0429df3bf80',\n",
    "                         encoding='ISO-8859-1', sep=';')\n",
    "\n",
    "t1_parole.drop(t1_parole[t1_parole['Type de temps'] != 'Total Temps d\\'antenne'].index,\n",
    "               inplace=True)\n",
    "t1_parole.drop(['Circonscription'], axis=1, inplace=True)\n",
    "t1_parole.replace(['ARTHAUD NATHALIE','DUPONT AIGNAN NICOLAS', 'HIDALGO ANNE',\n",
    "                   'JADOT YANNICK', 'LASSALLE JEAN', 'LE PEN MARINE',\n",
    "                   'MACRON EMMANUEL', 'MELENCHON JEAN LUC', 'PECRESSE VALERIE',\n",
    "                   'POUTOU PHILIPPE', 'ROUSSEL FABIEN', 'ZEMMOUR ERIC'],\n",
    "                  ['ARTHAUD','DUPONT-AIGNAN', 'HIDALGO',\n",
    "                   'JADOT', 'LASSALLE', 'LE PEN',\n",
    "                   'MACRON', 'MELENCHON', 'PECRESSE',\n",
    "                   'POUTOU', 'ROUSSEL', 'ZEMMOUR'],\n",
    "                  inplace=True)        \n",
    "t1_parole.drop(t1_parole[~t1_parole['Candidat'].isin(t1_dep.columns[7:])].index,\n",
    "               inplace=True)\n",
    "t1_parole['Heures'] = pd.to_timedelta(t1_parole['Durée']).dt.seconds / 3600\n",
    "t1_parole.drop(['Type de temps', 'Durée'], axis=1, inplace=True)\n",
    "t1_parole.reset_index(drop=True, inplace=True)"
   ]
  },
  {
   "cell_type": "code",
   "execution_count": null,
   "id": "886c6038-36d5-4d51-a8a3-d1c2a3930e5c",
   "metadata": {},
   "outputs": [],
   "source": [
    "t1_parole.head()"
   ]
  },
  {
   "cell_type": "markdown",
   "id": "e258462b-752d-4bc9-b1a1-ad0d64226e6b",
   "metadata": {},
   "source": [
    "### Second tour"
   ]
  },
  {
   "cell_type": "code",
   "execution_count": null,
   "id": "e3bd7555-8263-481b-9245-877c2c8c17b4",
   "metadata": {},
   "outputs": [],
   "source": [
    "t2_dep = pd.read_csv('https://www.data.gouv.fr/fr/datasets/r/c7b72e78-5e78-4976-995f-30533f0a35d3')\n",
    "\n",
    "t2_dep.drop(t2_dep.columns[18:52], axis=1, inplace=True)\n",
    "t2_dep.drop(t2_dep.columns[[3, 5, 6, 7, 8, 10, 11, 13, 14]], axis=1, inplace=True)\n",
    "\n",
    "t2_dep.columns = ['Code Département','Département', 'Inscrits', 'Taux Abstention', 'Taux Blanc', 'Taux Nul', 'Taux Exprimé',\n",
    "                  'MACRON', 'LE PEN']"
   ]
  },
  {
   "cell_type": "code",
   "execution_count": null,
   "id": "76d41680-f0d3-4eaa-833c-4c175cd233da",
   "metadata": {},
   "outputs": [],
   "source": [
    "t2_dep.head()"
   ]
  },
  {
   "cell_type": "markdown",
   "id": "fb6c8d6f-b3b3-410b-a199-77ef5cff53fa",
   "metadata": {},
   "source": [
    "### Données géographiques"
   ]
  },
  {
   "cell_type": "code",
   "execution_count": null,
   "id": "aa5dad48-48b0-4391-8eef-bb67eb24eaa6",
   "metadata": {
    "tags": []
   },
   "outputs": [],
   "source": [
    "geo_dep = gpd.read_file('https://www.data.gouv.fr/fr/datasets/r/92f37c92-3aae-452c-8af1-c77e6dd590e5')\n",
    "\n",
    "for i in geo_dep.index[96:]:\n",
    "    dep = geo_dep.loc[i, 'libgeo']\n",
    "    code = geo_dep.loc[i, 'dep']\n",
    "    \n",
    "    t1_dep.loc[t1_dep['Département'] == dep, 'Code Département'] = code\n",
    "    t2_dep.loc[t2_dep['Département'] == dep, 'Code Département'] = code"
   ]
  },
  {
   "cell_type": "code",
   "execution_count": null,
   "id": "7af4be57-3351-43d4-9607-f5fab532b432",
   "metadata": {},
   "outputs": [],
   "source": [
    "geo_dep.head()"
   ]
  },
  {
   "cell_type": "markdown",
   "id": "58215e64-2d36-4148-9ef5-be9861cb9459",
   "metadata": {},
   "source": [
    "## Candidats"
   ]
  },
  {
   "cell_type": "markdown",
   "id": "a590977b-a3b8-4203-ba82-1dbc3d4e78bb",
   "metadata": {},
   "source": [
    "### Répartition de la parole"
   ]
  },
  {
   "cell_type": "code",
   "execution_count": null,
   "id": "9d711cdc-7fb9-41b2-b782-de0422d735d2",
   "metadata": {},
   "outputs": [],
   "source": [
    "fig = px.bar(t1_parole,\n",
    "             x='Service', y='Heures',\n",
    "             color='Candidat')\n",
    "\n",
    "fig.update_layout(xaxis={'categoryorder': 'total descending'})\n",
    "\n",
    "fig.show()"
   ]
  },
  {
   "cell_type": "code",
   "execution_count": null,
   "id": "cdbf8965-c92d-48df-b2e0-ad8eabbfb272",
   "metadata": {},
   "outputs": [],
   "source": [
    "fig = px.bar(t1_parole,\n",
    "             x='Candidat', y='Heures',\n",
    "             color='Service')\n",
    "\n",
    "fig.update_layout(xaxis={'categoryorder': 'total descending'})\n",
    "\n",
    "fig.show()"
   ]
  },
  {
   "cell_type": "markdown",
   "id": "aa3eb2de-2f2b-4213-a877-5a3f4d5d71c8",
   "metadata": {},
   "source": [
    "## Résultats du premier tour"
   ]
  },
  {
   "cell_type": "markdown",
   "id": "bb7ab903-5016-47de-86ad-319df7c630a0",
   "metadata": {
    "jp-MarkdownHeadingCollapsed": true,
    "tags": []
   },
   "source": [
    "### Participation"
   ]
  },
  {
   "cell_type": "markdown",
   "id": "9d823c98-2bf0-44e3-9337-dab4d284392e",
   "metadata": {},
   "source": [
    "### Répartition des votes"
   ]
  },
  {
   "cell_type": "code",
   "execution_count": null,
   "id": "14c2cd81-a92d-47f6-90e2-9a3b743398b8",
   "metadata": {},
   "outputs": [],
   "source": [
    "# Premier tour\n",
    "t1_rep_votes = t1_dep[t1_dep.columns[7:]].apply(sum).to_frame(name='Votes Obtenus')\n",
    "\n",
    "t1_rep_votes.reset_index(inplace=True)\n",
    "t1_rep_votes.rename(columns = {'index':'Candidats'}, inplace=True)\n",
    "t1_rep_votes.sort_values(ascending=False, by='Votes Obtenus', inplace=True)\n",
    "\n",
    "# Second tour\n",
    "t2_rep_votes = t2_dep[t2_dep.columns[7:]].apply(sum).to_frame(name='Votes Obtenus')\n",
    "\n",
    "t2_rep_votes.reset_index(inplace=True)\n",
    "t2_rep_votes.rename(columns = {'index':'Candidats'}, inplace=True)\n",
    "t2_rep_votes.sort_values(ascending=False, by='Votes Obtenus', inplace=True)"
   ]
  },
  {
   "cell_type": "code",
   "execution_count": null,
   "id": "d5c3b421-3154-41da-a026-e207bfce1798",
   "metadata": {},
   "outputs": [],
   "source": [
    "fig = make_subplots(rows=1, cols=2,\n",
    "                    column_widths=[0.6, 0.4],\n",
    "                    subplot_titles=['Premier tour', 'Second tour'],\n",
    "                    y_title='Votes obtenus')\n",
    "\n",
    "fig.add_trace(go.Bar(x=t1_rep_votes['Candidats'], y=t1_rep_votes['Votes Obtenus'],\n",
    "                     text=t1_rep_votes['Votes Obtenus']),\n",
    "             row=1, col=1)\n",
    "fig.add_trace(go.Bar(x=t2_rep_votes['Candidats'], y=t2_rep_votes['Votes Obtenus'],\n",
    "                     text=t2_rep_votes['Votes Obtenus']),\n",
    "             row=1, col=2)\n",
    "\n",
    "fig.update_layout(title_text='Élection Présidentielle 2022 - Répartition des votes',\n",
    "                  showlegend=False)\n",
    "fig.show()"
   ]
  },
  {
   "cell_type": "markdown",
   "id": "d5ee1e2e-1b9d-483f-8e1d-f10c01ec3076",
   "metadata": {},
   "source": [
    "### Taux d'abstention"
   ]
  },
  {
   "cell_type": "code",
   "execution_count": null,
   "id": "e546123a-7ddf-42a5-96fc-1d7725bef669",
   "metadata": {
    "tags": []
   },
   "outputs": [],
   "source": [
    "fig_t1 = px.choropleth_mapbox(t1_dep,\n",
    "                              locations='Code Département',\n",
    "                              geojson=geo_dep,\n",
    "                              color='Taux Abstention',\n",
    "                              featureidkey='properties.dep',\n",
    "                              hover_name='Département')\n",
    "fig_t2 = px.choropleth_mapbox(t2_dep,\n",
    "                              locations='Code Département',\n",
    "                              geojson=geo_dep,\n",
    "                              color='Taux Abstention',\n",
    "                              featureidkey='properties.dep',\n",
    "                              hover_name='Département')\n",
    "\n",
    "fig = make_subplots(rows=1, cols=2,\n",
    "                    subplot_titles=['Premier tour', 'Second tour'],\n",
    "                    specs=[[{'type': 'choroplethmapbox'}, {'type': 'choroplethmapbox'}]])\n",
    "\n",
    "fig.add_trace(fig_t1['data'][0], row=1, col=1)\n",
    "fig.add_trace(fig_t2['data'][0], row=1, col=2)\n",
    "\n",
    "fig.update_mapboxes(style='white-bg',\n",
    "                    center={'lat': 46.3, 'lon': 1.6751},\n",
    "                    zoom=4.2)\n",
    "fig.update_layout(title_text='Élection Présidentielle 2022 - Taux d\\'abstention',\n",
    "                  margin={'l': 0, 'r': 0, 't': 100, 'b': 0},\n",
    "                  height=500,\n",
    "                  coloraxis = {'colorscale': 'delta',\n",
    "                               'cmin': 0,\n",
    "                               'cmax': 100})\n",
    "\n",
    "fig.show()"
   ]
  },
  {
   "cell_type": "markdown",
   "id": "580b3592-5f27-4ce7-884a-21adce5479e2",
   "metadata": {},
   "source": [
    "### Vainqueurs"
   ]
  },
  {
   "cell_type": "code",
   "execution_count": null,
   "id": "1d5f1020-3233-49ad-9fd1-f962abbf35d0",
   "metadata": {},
   "outputs": [],
   "source": [
    "t1_vainq_dep = t1_dep[t1_dep.columns[7:]].idxmax(axis=1).to_frame(name='Vainqueur')\n",
    "t1_vainq_dep['Code Département'] = t1_dep['Code Département']\n",
    "t1_vainq_dep['Département'] = t1_dep['Département']\n",
    "\n",
    "t2_vainq_dep = t2_dep[t2_dep.columns[7:]].idxmax(axis=1).to_frame(name='Vainqueur')\n",
    "t2_vainq_dep['Code Département'] = t2_dep['Code Département']\n",
    "t2_vainq_dep['Département'] = t2_dep['Département']"
   ]
  },
  {
   "cell_type": "code",
   "execution_count": null,
   "id": "9c2f38b8-7f35-4c29-832f-441a1d8a7ea6",
   "metadata": {},
   "outputs": [],
   "source": [
    "fig = px.choropleth_mapbox(t2_vainq_dep,\n",
    "                           locations='Code Département',\n",
    "                           geojson=geo_dep,\n",
    "                           color='Vainqueur',\n",
    "                           featureidkey='properties.dep',\n",
    "                           hover_name='Département',\n",
    "                           mapbox_style='white-bg',\n",
    "                           center={'lat': 46.3, 'lon': 1.6751},\n",
    "                           zoom=4)\n",
    "fig.update_layout(margin={'l': 0, 'r': 0, 't': 0, 'b': 0})\n",
    "fig.show()"
   ]
  },
  {
   "cell_type": "code",
   "execution_count": null,
   "id": "a2673b38-94e2-415e-a8f9-230600902681",
   "metadata": {},
   "outputs": [],
   "source": [
    "fig_t1 = px.choropleth_mapbox(t1_vainq_dep,\n",
    "                              locations='Code Département',\n",
    "                              geojson=geo_dep,\n",
    "                              color='Vainqueur',\n",
    "                              featureidkey='properties.dep',\n",
    "                              hover_name='Vainqueur')\n",
    "fig_t2 = px.choropleth_mapbox(t2_vainq_dep,\n",
    "                              locations='Code Département',\n",
    "                              geojson=geo_dep,\n",
    "                              color='Vainqueur',\n",
    "                              featureidkey='properties.dep',\n",
    "                              hover_name='Vainqueur')\n",
    "\n",
    "fig = make_subplots(rows=1, cols=2,\n",
    "                    subplot_titles=['Premier tour', 'Second tour'],\n",
    "                    specs=[[{'type': 'choroplethmapbox'}, {'type': 'choroplethmapbox'}]])\n",
    "\n",
    "fig.add_trace(fig_t1['data'][0], row=1, col=1)\n",
    "fig.add_trace(fig_t2['data'][0], row=1, col=2)\n",
    "\n",
    "fig.update_mapboxes(style='white-bg',\n",
    "                    center={'lat': 46.3, 'lon': 1.6751},\n",
    "                    zoom=4.2)\n",
    "fig.update_layout(title_text='Élection Présidentielle 2022 - Vainqueur par département',\n",
    "                  margin={'l': 0, 'r': 0, 't': 100, 'b': 0},\n",
    "                  height=500)\n",
    "\n",
    "fig.show()"
   ]
  },
  {
   "cell_type": "markdown",
   "id": "ebb44412-0dd7-4f92-86cd-1edc79a65244",
   "metadata": {
    "tags": []
   },
   "source": [
    "# Correlation\n",
    "\n",
    "age, patrimoine, bugjet campagne, temps antennes\n",
    "\n",
    "https://www.lemonde.fr/les-decodeurs/article/2022/03/10/presidentielle-2022-ce-que-revelent-les-declarations-d-interets-et-de-patrimoine-des-candidats_6116984_4355770.html"
   ]
  },
  {
   "cell_type": "markdown",
   "id": "2a8f0357-a132-47fd-bfe4-d0b632c59504",
   "metadata": {},
   "source": [
    "## Correlations ?"
   ]
  },
  {
   "cell_type": "code",
   "execution_count": 53,
   "id": "d81e59cc-1638-4b19-9f0f-94a628e4dc28",
   "metadata": {
    "tags": []
   },
   "outputs": [
    {
     "data": {
      "text/html": [
       "<div>\n",
       "<style scoped>\n",
       "    .dataframe tbody tr th:only-of-type {\n",
       "        vertical-align: middle;\n",
       "    }\n",
       "\n",
       "    .dataframe tbody tr th {\n",
       "        vertical-align: top;\n",
       "    }\n",
       "\n",
       "    .dataframe thead th {\n",
       "        text-align: right;\n",
       "    }\n",
       "</style>\n",
       "<table border=\"1\" class=\"dataframe\">\n",
       "  <thead>\n",
       "    <tr style=\"text-align: right;\">\n",
       "      <th></th>\n",
       "      <th>Nom</th>\n",
       "      <th>Age</th>\n",
       "      <th>Patrimoine (EUR)</th>\n",
       "      <th>Votes</th>\n",
       "      <th>Temps de parole (h)</th>\n",
       "      <th>% Votes</th>\n",
       "      <th>% Temps de parole</th>\n",
       "    </tr>\n",
       "  </thead>\n",
       "  <tbody>\n",
       "    <tr>\n",
       "      <th>0</th>\n",
       "      <td>ARTHAUD</td>\n",
       "      <td>52</td>\n",
       "      <td>219000</td>\n",
       "      <td>197094</td>\n",
       "      <td>10.055833</td>\n",
       "      <td>0.560995</td>\n",
       "      <td>1.415768</td>\n",
       "    </tr>\n",
       "    <tr>\n",
       "      <th>1</th>\n",
       "      <td>DUPONT-AIGNAN</td>\n",
       "      <td>61</td>\n",
       "      <td>2000000</td>\n",
       "      <td>725176</td>\n",
       "      <td>19.425556</td>\n",
       "      <td>2.064091</td>\n",
       "      <td>2.734939</td>\n",
       "    </tr>\n",
       "    <tr>\n",
       "      <th>2</th>\n",
       "      <td>HIDALGO</td>\n",
       "      <td>62</td>\n",
       "      <td>575000</td>\n",
       "      <td>616478</td>\n",
       "      <td>8.663333</td>\n",
       "      <td>1.754701</td>\n",
       "      <td>1.219717</td>\n",
       "    </tr>\n",
       "    <tr>\n",
       "      <th>3</th>\n",
       "      <td>JADOT</td>\n",
       "      <td>54</td>\n",
       "      <td>412000</td>\n",
       "      <td>1627853</td>\n",
       "      <td>56.452500</td>\n",
       "      <td>4.633409</td>\n",
       "      <td>7.947990</td>\n",
       "    </tr>\n",
       "    <tr>\n",
       "      <th>4</th>\n",
       "      <td>LASSALLE</td>\n",
       "      <td>66</td>\n",
       "      <td>630000</td>\n",
       "      <td>1101387</td>\n",
       "      <td>91.538333</td>\n",
       "      <td>3.134912</td>\n",
       "      <td>12.887751</td>\n",
       "    </tr>\n",
       "    <tr>\n",
       "      <th>5</th>\n",
       "      <td>LE PEN</td>\n",
       "      <td>53</td>\n",
       "      <td>1200000</td>\n",
       "      <td>8133828</td>\n",
       "      <td>10.031111</td>\n",
       "      <td>23.151568</td>\n",
       "      <td>1.412288</td>\n",
       "    </tr>\n",
       "    <tr>\n",
       "      <th>6</th>\n",
       "      <td>MACRON</td>\n",
       "      <td>44</td>\n",
       "      <td>550000</td>\n",
       "      <td>9783058</td>\n",
       "      <td>74.096111</td>\n",
       "      <td>27.845822</td>\n",
       "      <td>10.432048</td>\n",
       "    </tr>\n",
       "    <tr>\n",
       "      <th>7</th>\n",
       "      <td>MÉLENCHON</td>\n",
       "      <td>70</td>\n",
       "      <td>1400000</td>\n",
       "      <td>7712520</td>\n",
       "      <td>159.490556</td>\n",
       "      <td>21.952386</td>\n",
       "      <td>22.454796</td>\n",
       "    </tr>\n",
       "    <tr>\n",
       "      <th>8</th>\n",
       "      <td>POUTOU</td>\n",
       "      <td>55</td>\n",
       "      <td>122000</td>\n",
       "      <td>268904</td>\n",
       "      <td>10.055833</td>\n",
       "      <td>0.765390</td>\n",
       "      <td>1.415768</td>\n",
       "    </tr>\n",
       "    <tr>\n",
       "      <th>9</th>\n",
       "      <td>PÉCRESSE</td>\n",
       "      <td>54</td>\n",
       "      <td>9700000</td>\n",
       "      <td>1679001</td>\n",
       "      <td>120.229722</td>\n",
       "      <td>4.778993</td>\n",
       "      <td>16.927234</td>\n",
       "    </tr>\n",
       "    <tr>\n",
       "      <th>10</th>\n",
       "      <td>ROUSSEL</td>\n",
       "      <td>53</td>\n",
       "      <td>220000</td>\n",
       "      <td>802422</td>\n",
       "      <td>19.425556</td>\n",
       "      <td>2.283959</td>\n",
       "      <td>2.734939</td>\n",
       "    </tr>\n",
       "    <tr>\n",
       "      <th>11</th>\n",
       "      <td>ZEMMOUR</td>\n",
       "      <td>63</td>\n",
       "      <td>4200000</td>\n",
       "      <td>2485226</td>\n",
       "      <td>130.809444</td>\n",
       "      <td>7.073776</td>\n",
       "      <td>18.416761</td>\n",
       "    </tr>\n",
       "  </tbody>\n",
       "</table>\n",
       "</div>"
      ],
      "text/plain": [
       "              Nom  Age  Patrimoine (EUR)    Votes  Temps de parole (h)  \\\n",
       "0         ARTHAUD   52            219000   197094            10.055833   \n",
       "1   DUPONT-AIGNAN   61           2000000   725176            19.425556   \n",
       "2         HIDALGO   62            575000   616478             8.663333   \n",
       "3           JADOT   54            412000  1627853            56.452500   \n",
       "4        LASSALLE   66            630000  1101387            91.538333   \n",
       "5          LE PEN   53           1200000  8133828            10.031111   \n",
       "6          MACRON   44            550000  9783058            74.096111   \n",
       "7       MÉLENCHON   70           1400000  7712520           159.490556   \n",
       "8          POUTOU   55            122000   268904            10.055833   \n",
       "9        PÉCRESSE   54           9700000  1679001           120.229722   \n",
       "10        ROUSSEL   53            220000   802422            19.425556   \n",
       "11        ZEMMOUR   63           4200000  2485226           130.809444   \n",
       "\n",
       "      % Votes  % Temps de parole  \n",
       "0    0.560995           1.415768  \n",
       "1    2.064091           2.734939  \n",
       "2    1.754701           1.219717  \n",
       "3    4.633409           7.947990  \n",
       "4    3.134912          12.887751  \n",
       "5   23.151568           1.412288  \n",
       "6   27.845822          10.432048  \n",
       "7   21.952386          22.454796  \n",
       "8    0.765390           1.415768  \n",
       "9    4.778993          16.927234  \n",
       "10   2.283959           2.734939  \n",
       "11   7.073776          18.416761  "
      ]
     },
     "execution_count": 53,
     "metadata": {},
     "output_type": "execute_result"
    }
   ],
   "source": [
    "candidats = pd.DataFrame()\n",
    "\n",
    "candidats['Nom'] = t1_dep.columns[7:].values\n",
    "candidats['Age'] = [52, 53, 44, 66, 53, 63, 70, 62, 54, 54, 55, 61]\n",
    "candidats['Patrimoine (EUR)'] = [219_000, 220_000, 550_000, 630_000, 1_200_000,\n",
    "                                 4_200_000, 1_400_000, 575_000, 412_000,\n",
    "                                 9_700_000, 122_000, 2_000_000]\n",
    "candidats['Votes'] = t1_dep[t1_dep.columns[7:]].apply(sum).values\n",
    "candidats.sort_values(by='Nom', ascending=True, inplace=True)\n",
    "# Check le pen\n",
    "candidats['Temps de parole (h)'] = t1_parole.sort_values(by='Candidat', ascending=True).groupby('Candidat', sort=False)['Heures'].transform('sum')\n",
    "candidats.reset_index(drop=True, inplace=True)\n",
    "\n",
    "candidats['% Votes'] = candidats['Votes'] / candidats['Votes'].sum() * 100\n",
    "candidats['% Temps de parole'] = candidats['Temps de parole (h)'] / candidats['Temps de parole (h)'].sum() * 100\n",
    "\n",
    "# https://www.europe1.fr/politique/presidentielle-voici-les-declarations-de-patrimoine-et-dinterets-des-12-candidats-4098301\n",
    "\n",
    "candidats"
   ]
  },
  {
   "cell_type": "code",
   "execution_count": 69,
   "id": "9c7e2f6a-8c7e-423d-ab82-a9ec920b5aee",
   "metadata": {},
   "outputs": [
    {
     "data": {
      "application/vnd.plotly.v1+json": {
       "config": {
        "plotlyServerURL": "https://plot.ly"
       },
       "data": [
        {
         "hovertemplate": "Nom=%{x}<br>% Temps de parole=%{y}<extra></extra>",
         "legendgroup": "",
         "marker": {
          "color": "#636efa",
          "symbol": "circle"
         },
         "mode": "markers",
         "name": "",
         "orientation": "v",
         "showlegend": false,
         "type": "scatter",
         "x": [
          "ARTHAUD",
          "DUPONT-AIGNAN",
          "HIDALGO",
          "JADOT",
          "LASSALLE",
          "LE PEN",
          "MACRON",
          "MÉLENCHON",
          "POUTOU",
          "PÉCRESSE",
          "ROUSSEL",
          "ZEMMOUR"
         ],
         "xaxis": "x",
         "y": [
          1.4157684085872977,
          2.7349387130003837,
          1.2197172765122686,
          7.9479903292391905,
          12.8877514386078,
          1.41228774815349,
          10.432047731196025,
          22.45479638918633,
          1.4157684085872977,
          16.927233860490436,
          2.7349387130003837,
          18.416760983439097
         ],
         "yaxis": "y"
        },
        {
         "type": "scatter",
         "x": [
          "ARTHAUD",
          "DUPONT-AIGNAN",
          "HIDALGO",
          "JADOT",
          "LASSALLE",
          "LE PEN",
          "MACRON",
          "MÉLENCHON",
          "POUTOU",
          "PÉCRESSE",
          "ROUSSEL",
          "ZEMMOUR"
         ],
         "y": [
          0.5609947836143663,
          2.064091008363176,
          1.7547005094676513,
          4.633408634920378,
          3.1349120812438533,
          23.151567672361786,
          27.845822327401116,
          21.95238560545462,
          0.7653898205578941,
          4.778992778487953,
          2.283958701215699,
          7.073776076911511
         ]
        }
       ],
       "layout": {
        "autosize": true,
        "legend": {
         "tracegroupgap": 0
        },
        "margin": {
         "t": 60
        },
        "template": {
         "data": {
          "bar": [
           {
            "error_x": {
             "color": "#2a3f5f"
            },
            "error_y": {
             "color": "#2a3f5f"
            },
            "marker": {
             "line": {
              "color": "#E5ECF6",
              "width": 0.5
             },
             "pattern": {
              "fillmode": "overlay",
              "size": 10,
              "solidity": 0.2
             }
            },
            "type": "bar"
           }
          ],
          "barpolar": [
           {
            "marker": {
             "line": {
              "color": "#E5ECF6",
              "width": 0.5
             },
             "pattern": {
              "fillmode": "overlay",
              "size": 10,
              "solidity": 0.2
             }
            },
            "type": "barpolar"
           }
          ],
          "carpet": [
           {
            "aaxis": {
             "endlinecolor": "#2a3f5f",
             "gridcolor": "white",
             "linecolor": "white",
             "minorgridcolor": "white",
             "startlinecolor": "#2a3f5f"
            },
            "baxis": {
             "endlinecolor": "#2a3f5f",
             "gridcolor": "white",
             "linecolor": "white",
             "minorgridcolor": "white",
             "startlinecolor": "#2a3f5f"
            },
            "type": "carpet"
           }
          ],
          "choropleth": [
           {
            "colorbar": {
             "outlinewidth": 0,
             "ticks": ""
            },
            "type": "choropleth"
           }
          ],
          "contour": [
           {
            "colorbar": {
             "outlinewidth": 0,
             "ticks": ""
            },
            "colorscale": [
             [
              0,
              "#0d0887"
             ],
             [
              0.1111111111111111,
              "#46039f"
             ],
             [
              0.2222222222222222,
              "#7201a8"
             ],
             [
              0.3333333333333333,
              "#9c179e"
             ],
             [
              0.4444444444444444,
              "#bd3786"
             ],
             [
              0.5555555555555556,
              "#d8576b"
             ],
             [
              0.6666666666666666,
              "#ed7953"
             ],
             [
              0.7777777777777778,
              "#fb9f3a"
             ],
             [
              0.8888888888888888,
              "#fdca26"
             ],
             [
              1,
              "#f0f921"
             ]
            ],
            "type": "contour"
           }
          ],
          "contourcarpet": [
           {
            "colorbar": {
             "outlinewidth": 0,
             "ticks": ""
            },
            "type": "contourcarpet"
           }
          ],
          "heatmap": [
           {
            "colorbar": {
             "outlinewidth": 0,
             "ticks": ""
            },
            "colorscale": [
             [
              0,
              "#0d0887"
             ],
             [
              0.1111111111111111,
              "#46039f"
             ],
             [
              0.2222222222222222,
              "#7201a8"
             ],
             [
              0.3333333333333333,
              "#9c179e"
             ],
             [
              0.4444444444444444,
              "#bd3786"
             ],
             [
              0.5555555555555556,
              "#d8576b"
             ],
             [
              0.6666666666666666,
              "#ed7953"
             ],
             [
              0.7777777777777778,
              "#fb9f3a"
             ],
             [
              0.8888888888888888,
              "#fdca26"
             ],
             [
              1,
              "#f0f921"
             ]
            ],
            "type": "heatmap"
           }
          ],
          "heatmapgl": [
           {
            "colorbar": {
             "outlinewidth": 0,
             "ticks": ""
            },
            "colorscale": [
             [
              0,
              "#0d0887"
             ],
             [
              0.1111111111111111,
              "#46039f"
             ],
             [
              0.2222222222222222,
              "#7201a8"
             ],
             [
              0.3333333333333333,
              "#9c179e"
             ],
             [
              0.4444444444444444,
              "#bd3786"
             ],
             [
              0.5555555555555556,
              "#d8576b"
             ],
             [
              0.6666666666666666,
              "#ed7953"
             ],
             [
              0.7777777777777778,
              "#fb9f3a"
             ],
             [
              0.8888888888888888,
              "#fdca26"
             ],
             [
              1,
              "#f0f921"
             ]
            ],
            "type": "heatmapgl"
           }
          ],
          "histogram": [
           {
            "marker": {
             "pattern": {
              "fillmode": "overlay",
              "size": 10,
              "solidity": 0.2
             }
            },
            "type": "histogram"
           }
          ],
          "histogram2d": [
           {
            "colorbar": {
             "outlinewidth": 0,
             "ticks": ""
            },
            "colorscale": [
             [
              0,
              "#0d0887"
             ],
             [
              0.1111111111111111,
              "#46039f"
             ],
             [
              0.2222222222222222,
              "#7201a8"
             ],
             [
              0.3333333333333333,
              "#9c179e"
             ],
             [
              0.4444444444444444,
              "#bd3786"
             ],
             [
              0.5555555555555556,
              "#d8576b"
             ],
             [
              0.6666666666666666,
              "#ed7953"
             ],
             [
              0.7777777777777778,
              "#fb9f3a"
             ],
             [
              0.8888888888888888,
              "#fdca26"
             ],
             [
              1,
              "#f0f921"
             ]
            ],
            "type": "histogram2d"
           }
          ],
          "histogram2dcontour": [
           {
            "colorbar": {
             "outlinewidth": 0,
             "ticks": ""
            },
            "colorscale": [
             [
              0,
              "#0d0887"
             ],
             [
              0.1111111111111111,
              "#46039f"
             ],
             [
              0.2222222222222222,
              "#7201a8"
             ],
             [
              0.3333333333333333,
              "#9c179e"
             ],
             [
              0.4444444444444444,
              "#bd3786"
             ],
             [
              0.5555555555555556,
              "#d8576b"
             ],
             [
              0.6666666666666666,
              "#ed7953"
             ],
             [
              0.7777777777777778,
              "#fb9f3a"
             ],
             [
              0.8888888888888888,
              "#fdca26"
             ],
             [
              1,
              "#f0f921"
             ]
            ],
            "type": "histogram2dcontour"
           }
          ],
          "mesh3d": [
           {
            "colorbar": {
             "outlinewidth": 0,
             "ticks": ""
            },
            "type": "mesh3d"
           }
          ],
          "parcoords": [
           {
            "line": {
             "colorbar": {
              "outlinewidth": 0,
              "ticks": ""
             }
            },
            "type": "parcoords"
           }
          ],
          "pie": [
           {
            "automargin": true,
            "type": "pie"
           }
          ],
          "scatter": [
           {
            "fillpattern": {
             "fillmode": "overlay",
             "size": 10,
             "solidity": 0.2
            },
            "type": "scatter"
           }
          ],
          "scatter3d": [
           {
            "line": {
             "colorbar": {
              "outlinewidth": 0,
              "ticks": ""
             }
            },
            "marker": {
             "colorbar": {
              "outlinewidth": 0,
              "ticks": ""
             }
            },
            "type": "scatter3d"
           }
          ],
          "scattercarpet": [
           {
            "marker": {
             "colorbar": {
              "outlinewidth": 0,
              "ticks": ""
             }
            },
            "type": "scattercarpet"
           }
          ],
          "scattergeo": [
           {
            "marker": {
             "colorbar": {
              "outlinewidth": 0,
              "ticks": ""
             }
            },
            "type": "scattergeo"
           }
          ],
          "scattergl": [
           {
            "marker": {
             "colorbar": {
              "outlinewidth": 0,
              "ticks": ""
             }
            },
            "type": "scattergl"
           }
          ],
          "scattermapbox": [
           {
            "marker": {
             "colorbar": {
              "outlinewidth": 0,
              "ticks": ""
             }
            },
            "type": "scattermapbox"
           }
          ],
          "scatterpolar": [
           {
            "marker": {
             "colorbar": {
              "outlinewidth": 0,
              "ticks": ""
             }
            },
            "type": "scatterpolar"
           }
          ],
          "scatterpolargl": [
           {
            "marker": {
             "colorbar": {
              "outlinewidth": 0,
              "ticks": ""
             }
            },
            "type": "scatterpolargl"
           }
          ],
          "scatterternary": [
           {
            "marker": {
             "colorbar": {
              "outlinewidth": 0,
              "ticks": ""
             }
            },
            "type": "scatterternary"
           }
          ],
          "surface": [
           {
            "colorbar": {
             "outlinewidth": 0,
             "ticks": ""
            },
            "colorscale": [
             [
              0,
              "#0d0887"
             ],
             [
              0.1111111111111111,
              "#46039f"
             ],
             [
              0.2222222222222222,
              "#7201a8"
             ],
             [
              0.3333333333333333,
              "#9c179e"
             ],
             [
              0.4444444444444444,
              "#bd3786"
             ],
             [
              0.5555555555555556,
              "#d8576b"
             ],
             [
              0.6666666666666666,
              "#ed7953"
             ],
             [
              0.7777777777777778,
              "#fb9f3a"
             ],
             [
              0.8888888888888888,
              "#fdca26"
             ],
             [
              1,
              "#f0f921"
             ]
            ],
            "type": "surface"
           }
          ],
          "table": [
           {
            "cells": {
             "fill": {
              "color": "#EBF0F8"
             },
             "line": {
              "color": "white"
             }
            },
            "header": {
             "fill": {
              "color": "#C8D4E3"
             },
             "line": {
              "color": "white"
             }
            },
            "type": "table"
           }
          ]
         },
         "layout": {
          "annotationdefaults": {
           "arrowcolor": "#2a3f5f",
           "arrowhead": 0,
           "arrowwidth": 1
          },
          "autotypenumbers": "strict",
          "coloraxis": {
           "colorbar": {
            "outlinewidth": 0,
            "ticks": ""
           }
          },
          "colorscale": {
           "diverging": [
            [
             0,
             "#8e0152"
            ],
            [
             0.1,
             "#c51b7d"
            ],
            [
             0.2,
             "#de77ae"
            ],
            [
             0.3,
             "#f1b6da"
            ],
            [
             0.4,
             "#fde0ef"
            ],
            [
             0.5,
             "#f7f7f7"
            ],
            [
             0.6,
             "#e6f5d0"
            ],
            [
             0.7,
             "#b8e186"
            ],
            [
             0.8,
             "#7fbc41"
            ],
            [
             0.9,
             "#4d9221"
            ],
            [
             1,
             "#276419"
            ]
           ],
           "sequential": [
            [
             0,
             "#0d0887"
            ],
            [
             0.1111111111111111,
             "#46039f"
            ],
            [
             0.2222222222222222,
             "#7201a8"
            ],
            [
             0.3333333333333333,
             "#9c179e"
            ],
            [
             0.4444444444444444,
             "#bd3786"
            ],
            [
             0.5555555555555556,
             "#d8576b"
            ],
            [
             0.6666666666666666,
             "#ed7953"
            ],
            [
             0.7777777777777778,
             "#fb9f3a"
            ],
            [
             0.8888888888888888,
             "#fdca26"
            ],
            [
             1,
             "#f0f921"
            ]
           ],
           "sequentialminus": [
            [
             0,
             "#0d0887"
            ],
            [
             0.1111111111111111,
             "#46039f"
            ],
            [
             0.2222222222222222,
             "#7201a8"
            ],
            [
             0.3333333333333333,
             "#9c179e"
            ],
            [
             0.4444444444444444,
             "#bd3786"
            ],
            [
             0.5555555555555556,
             "#d8576b"
            ],
            [
             0.6666666666666666,
             "#ed7953"
            ],
            [
             0.7777777777777778,
             "#fb9f3a"
            ],
            [
             0.8888888888888888,
             "#fdca26"
            ],
            [
             1,
             "#f0f921"
            ]
           ]
          },
          "colorway": [
           "#636efa",
           "#EF553B",
           "#00cc96",
           "#ab63fa",
           "#FFA15A",
           "#19d3f3",
           "#FF6692",
           "#B6E880",
           "#FF97FF",
           "#FECB52"
          ],
          "font": {
           "color": "#2a3f5f"
          },
          "geo": {
           "bgcolor": "white",
           "lakecolor": "white",
           "landcolor": "#E5ECF6",
           "showlakes": true,
           "showland": true,
           "subunitcolor": "white"
          },
          "hoverlabel": {
           "align": "left"
          },
          "hovermode": "closest",
          "mapbox": {
           "style": "light"
          },
          "paper_bgcolor": "white",
          "plot_bgcolor": "#E5ECF6",
          "polar": {
           "angularaxis": {
            "gridcolor": "white",
            "linecolor": "white",
            "ticks": ""
           },
           "bgcolor": "#E5ECF6",
           "radialaxis": {
            "gridcolor": "white",
            "linecolor": "white",
            "ticks": ""
           }
          },
          "scene": {
           "xaxis": {
            "backgroundcolor": "#E5ECF6",
            "gridcolor": "white",
            "gridwidth": 2,
            "linecolor": "white",
            "showbackground": true,
            "ticks": "",
            "zerolinecolor": "white"
           },
           "yaxis": {
            "backgroundcolor": "#E5ECF6",
            "gridcolor": "white",
            "gridwidth": 2,
            "linecolor": "white",
            "showbackground": true,
            "ticks": "",
            "zerolinecolor": "white"
           },
           "zaxis": {
            "backgroundcolor": "#E5ECF6",
            "gridcolor": "white",
            "gridwidth": 2,
            "linecolor": "white",
            "showbackground": true,
            "ticks": "",
            "zerolinecolor": "white"
           }
          },
          "shapedefaults": {
           "line": {
            "color": "#2a3f5f"
           }
          },
          "ternary": {
           "aaxis": {
            "gridcolor": "white",
            "linecolor": "white",
            "ticks": ""
           },
           "baxis": {
            "gridcolor": "white",
            "linecolor": "white",
            "ticks": ""
           },
           "bgcolor": "#E5ECF6",
           "caxis": {
            "gridcolor": "white",
            "linecolor": "white",
            "ticks": ""
           }
          },
          "title": {
           "x": 0.05
          },
          "xaxis": {
           "automargin": true,
           "gridcolor": "white",
           "linecolor": "white",
           "ticks": "",
           "title": {
            "standoff": 15
           },
           "zerolinecolor": "white",
           "zerolinewidth": 2
          },
          "yaxis": {
           "automargin": true,
           "gridcolor": "white",
           "linecolor": "white",
           "ticks": "",
           "title": {
            "standoff": 15
           },
           "zerolinecolor": "white",
           "zerolinewidth": 2
          }
         }
        },
        "xaxis": {
         "anchor": "y",
         "autorange": true,
         "domain": [
          0,
          1
         ],
         "range": [
          -0.6623100983020554,
          11.662310098302056
         ],
         "title": {
          "text": "Nom"
         },
         "type": "category"
        },
        "yaxis": {
         "anchor": "x",
         "autorange": true,
         "domain": [
          0,
          1
         ],
         "range": [
          -1.5516099737129543,
          29.958427084728438
         ],
         "title": {
          "text": "% Temps de parole"
         },
         "type": "linear"
        }
       }
      },
      "image/png": "[encoded data removed]",
      "text/html": [
       "<div>                            <div id=\"772ad569-f329-45d4-a233-6b8cbe4d0a07\" class=\"plotly-graph-div\" style=\"height:525px; width:100%;\"></div>            <script type=\"text/javascript\">                require([\"plotly\"], function(Plotly) {                    window.PLOTLYENV=window.PLOTLYENV || {};                                    if (document.getElementById(\"772ad569-f329-45d4-a233-6b8cbe4d0a07\")) {                    Plotly.newPlot(                        \"772ad569-f329-45d4-a233-6b8cbe4d0a07\",                        [{\"hovertemplate\":\"Nom=%{x}<br>% Temps de parole=%{y}<extra></extra>\",\"legendgroup\":\"\",\"marker\":{\"color\":\"#636efa\",\"symbol\":\"circle\"},\"mode\":\"markers\",\"name\":\"\",\"orientation\":\"v\",\"showlegend\":false,\"x\":[\"ARTHAUD\",\"DUPONT-AIGNAN\",\"HIDALGO\",\"JADOT\",\"LASSALLE\",\"LE PEN\",\"MACRON\",\"M\\u00c9LENCHON\",\"POUTOU\",\"P\\u00c9CRESSE\",\"ROUSSEL\",\"ZEMMOUR\"],\"xaxis\":\"x\",\"y\":[1.4157684085872977,2.7349387130003837,1.2197172765122686,7.9479903292391905,12.8877514386078,1.41228774815349,10.432047731196025,22.45479638918633,1.4157684085872977,16.927233860490436,2.7349387130003837,18.416760983439097],\"yaxis\":\"y\",\"type\":\"scatter\"},{\"x\":[\"ARTHAUD\",\"DUPONT-AIGNAN\",\"HIDALGO\",\"JADOT\",\"LASSALLE\",\"LE PEN\",\"MACRON\",\"M\\u00c9LENCHON\",\"POUTOU\",\"P\\u00c9CRESSE\",\"ROUSSEL\",\"ZEMMOUR\"],\"y\":[0.5609947836143663,2.064091008363176,1.7547005094676513,4.633408634920378,3.1349120812438533,23.151567672361786,27.845822327401116,21.95238560545462,0.7653898205578941,4.778992778487953,2.283958701215699,7.073776076911511],\"type\":\"scatter\"}],                        {\"template\":{\"data\":{\"histogram2dcontour\":[{\"type\":\"histogram2dcontour\",\"colorbar\":{\"outlinewidth\":0,\"ticks\":\"\"},\"colorscale\":[[0.0,\"#0d0887\"],[0.1111111111111111,\"#46039f\"],[0.2222222222222222,\"#7201a8\"],[0.3333333333333333,\"#9c179e\"],[0.4444444444444444,\"#bd3786\"],[0.5555555555555556,\"#d8576b\"],[0.6666666666666666,\"#ed7953\"],[0.7777777777777778,\"#fb9f3a\"],[0.8888888888888888,\"#fdca26\"],[1.0,\"#f0f921\"]]}],\"choropleth\":[{\"type\":\"choropleth\",\"colorbar\":{\"outlinewidth\":0,\"ticks\":\"\"}}],\"histogram2d\":[{\"type\":\"histogram2d\",\"colorbar\":{\"outlinewidth\":0,\"ticks\":\"\"},\"colorscale\":[[0.0,\"#0d0887\"],[0.1111111111111111,\"#46039f\"],[0.2222222222222222,\"#7201a8\"],[0.3333333333333333,\"#9c179e\"],[0.4444444444444444,\"#bd3786\"],[0.5555555555555556,\"#d8576b\"],[0.6666666666666666,\"#ed7953\"],[0.7777777777777778,\"#fb9f3a\"],[0.8888888888888888,\"#fdca26\"],[1.0,\"#f0f921\"]]}],\"heatmap\":[{\"type\":\"heatmap\",\"colorbar\":{\"outlinewidth\":0,\"ticks\":\"\"},\"colorscale\":[[0.0,\"#0d0887\"],[0.1111111111111111,\"#46039f\"],[0.2222222222222222,\"#7201a8\"],[0.3333333333333333,\"#9c179e\"],[0.4444444444444444,\"#bd3786\"],[0.5555555555555556,\"#d8576b\"],[0.6666666666666666,\"#ed7953\"],[0.7777777777777778,\"#fb9f3a\"],[0.8888888888888888,\"#fdca26\"],[1.0,\"#f0f921\"]]}],\"heatmapgl\":[{\"type\":\"heatmapgl\",\"colorbar\":{\"outlinewidth\":0,\"ticks\":\"\"},\"colorscale\":[[0.0,\"#0d0887\"],[0.1111111111111111,\"#46039f\"],[0.2222222222222222,\"#7201a8\"],[0.3333333333333333,\"#9c179e\"],[0.4444444444444444,\"#bd3786\"],[0.5555555555555556,\"#d8576b\"],[0.6666666666666666,\"#ed7953\"],[0.7777777777777778,\"#fb9f3a\"],[0.8888888888888888,\"#fdca26\"],[1.0,\"#f0f921\"]]}],\"contourcarpet\":[{\"type\":\"contourcarpet\",\"colorbar\":{\"outlinewidth\":0,\"ticks\":\"\"}}],\"contour\":[{\"type\":\"contour\",\"colorbar\":{\"outlinewidth\":0,\"ticks\":\"\"},\"colorscale\":[[0.0,\"#0d0887\"],[0.1111111111111111,\"#46039f\"],[0.2222222222222222,\"#7201a8\"],[0.3333333333333333,\"#9c179e\"],[0.4444444444444444,\"#bd3786\"],[0.5555555555555556,\"#d8576b\"],[0.6666666666666666,\"#ed7953\"],[0.7777777777777778,\"#fb9f3a\"],[0.8888888888888888,\"#fdca26\"],[1.0,\"#f0f921\"]]}],\"surface\":[{\"type\":\"surface\",\"colorbar\":{\"outlinewidth\":0,\"ticks\":\"\"},\"colorscale\":[[0.0,\"#0d0887\"],[0.1111111111111111,\"#46039f\"],[0.2222222222222222,\"#7201a8\"],[0.3333333333333333,\"#9c179e\"],[0.4444444444444444,\"#bd3786\"],[0.5555555555555556,\"#d8576b\"],[0.6666666666666666,\"#ed7953\"],[0.7777777777777778,\"#fb9f3a\"],[0.8888888888888888,\"#fdca26\"],[1.0,\"#f0f921\"]]}],\"mesh3d\":[{\"type\":\"mesh3d\",\"colorbar\":{\"outlinewidth\":0,\"ticks\":\"\"}}],\"scatter\":[{\"fillpattern\":{\"fillmode\":\"overlay\",\"size\":10,\"solidity\":0.2},\"type\":\"scatter\"}],\"parcoords\":[{\"type\":\"parcoords\",\"line\":{\"colorbar\":{\"outlinewidth\":0,\"ticks\":\"\"}}}],\"scatterpolargl\":[{\"type\":\"scatterpolargl\",\"marker\":{\"colorbar\":{\"outlinewidth\":0,\"ticks\":\"\"}}}],\"bar\":[{\"error_x\":{\"color\":\"#2a3f5f\"},\"error_y\":{\"color\":\"#2a3f5f\"},\"marker\":{\"line\":{\"color\":\"#E5ECF6\",\"width\":0.5},\"pattern\":{\"fillmode\":\"overlay\",\"size\":10,\"solidity\":0.2}},\"type\":\"bar\"}],\"scattergeo\":[{\"type\":\"scattergeo\",\"marker\":{\"colorbar\":{\"outlinewidth\":0,\"ticks\":\"\"}}}],\"scatterpolar\":[{\"type\":\"scatterpolar\",\"marker\":{\"colorbar\":{\"outlinewidth\":0,\"ticks\":\"\"}}}],\"histogram\":[{\"marker\":{\"pattern\":{\"fillmode\":\"overlay\",\"size\":10,\"solidity\":0.2}},\"type\":\"histogram\"}],\"scattergl\":[{\"type\":\"scattergl\",\"marker\":{\"colorbar\":{\"outlinewidth\":0,\"ticks\":\"\"}}}],\"scatter3d\":[{\"type\":\"scatter3d\",\"line\":{\"colorbar\":{\"outlinewidth\":0,\"ticks\":\"\"}},\"marker\":{\"colorbar\":{\"outlinewidth\":0,\"ticks\":\"\"}}}],\"scattermapbox\":[{\"type\":\"scattermapbox\",\"marker\":{\"colorbar\":{\"outlinewidth\":0,\"ticks\":\"\"}}}],\"scatterternary\":[{\"type\":\"scatterternary\",\"marker\":{\"colorbar\":{\"outlinewidth\":0,\"ticks\":\"\"}}}],\"scattercarpet\":[{\"type\":\"scattercarpet\",\"marker\":{\"colorbar\":{\"outlinewidth\":0,\"ticks\":\"\"}}}],\"carpet\":[{\"aaxis\":{\"endlinecolor\":\"#2a3f5f\",\"gridcolor\":\"white\",\"linecolor\":\"white\",\"minorgridcolor\":\"white\",\"startlinecolor\":\"#2a3f5f\"},\"baxis\":{\"endlinecolor\":\"#2a3f5f\",\"gridcolor\":\"white\",\"linecolor\":\"white\",\"minorgridcolor\":\"white\",\"startlinecolor\":\"#2a3f5f\"},\"type\":\"carpet\"}],\"table\":[{\"cells\":{\"fill\":{\"color\":\"#EBF0F8\"},\"line\":{\"color\":\"white\"}},\"header\":{\"fill\":{\"color\":\"#C8D4E3\"},\"line\":{\"color\":\"white\"}},\"type\":\"table\"}],\"barpolar\":[{\"marker\":{\"line\":{\"color\":\"#E5ECF6\",\"width\":0.5},\"pattern\":{\"fillmode\":\"overlay\",\"size\":10,\"solidity\":0.2}},\"type\":\"barpolar\"}],\"pie\":[{\"automargin\":true,\"type\":\"pie\"}]},\"layout\":{\"autotypenumbers\":\"strict\",\"colorway\":[\"#636efa\",\"#EF553B\",\"#00cc96\",\"#ab63fa\",\"#FFA15A\",\"#19d3f3\",\"#FF6692\",\"#B6E880\",\"#FF97FF\",\"#FECB52\"],\"font\":{\"color\":\"#2a3f5f\"},\"hovermode\":\"closest\",\"hoverlabel\":{\"align\":\"left\"},\"paper_bgcolor\":\"white\",\"plot_bgcolor\":\"#E5ECF6\",\"polar\":{\"bgcolor\":\"#E5ECF6\",\"angularaxis\":{\"gridcolor\":\"white\",\"linecolor\":\"white\",\"ticks\":\"\"},\"radialaxis\":{\"gridcolor\":\"white\",\"linecolor\":\"white\",\"ticks\":\"\"}},\"ternary\":{\"bgcolor\":\"#E5ECF6\",\"aaxis\":{\"gridcolor\":\"white\",\"linecolor\":\"white\",\"ticks\":\"\"},\"baxis\":{\"gridcolor\":\"white\",\"linecolor\":\"white\",\"ticks\":\"\"},\"caxis\":{\"gridcolor\":\"white\",\"linecolor\":\"white\",\"ticks\":\"\"}},\"coloraxis\":{\"colorbar\":{\"outlinewidth\":0,\"ticks\":\"\"}},\"colorscale\":{\"sequential\":[[0.0,\"#0d0887\"],[0.1111111111111111,\"#46039f\"],[0.2222222222222222,\"#7201a8\"],[0.3333333333333333,\"#9c179e\"],[0.4444444444444444,\"#bd3786\"],[0.5555555555555556,\"#d8576b\"],[0.6666666666666666,\"#ed7953\"],[0.7777777777777778,\"#fb9f3a\"],[0.8888888888888888,\"#fdca26\"],[1.0,\"#f0f921\"]],\"sequentialminus\":[[0.0,\"#0d0887\"],[0.1111111111111111,\"#46039f\"],[0.2222222222222222,\"#7201a8\"],[0.3333333333333333,\"#9c179e\"],[0.4444444444444444,\"#bd3786\"],[0.5555555555555556,\"#d8576b\"],[0.6666666666666666,\"#ed7953\"],[0.7777777777777778,\"#fb9f3a\"],[0.8888888888888888,\"#fdca26\"],[1.0,\"#f0f921\"]],\"diverging\":[[0,\"#8e0152\"],[0.1,\"#c51b7d\"],[0.2,\"#de77ae\"],[0.3,\"#f1b6da\"],[0.4,\"#fde0ef\"],[0.5,\"#f7f7f7\"],[0.6,\"#e6f5d0\"],[0.7,\"#b8e186\"],[0.8,\"#7fbc41\"],[0.9,\"#4d9221\"],[1,\"#276419\"]]},\"xaxis\":{\"gridcolor\":\"white\",\"linecolor\":\"white\",\"ticks\":\"\",\"title\":{\"standoff\":15},\"zerolinecolor\":\"white\",\"automargin\":true,\"zerolinewidth\":2},\"yaxis\":{\"gridcolor\":\"white\",\"linecolor\":\"white\",\"ticks\":\"\",\"title\":{\"standoff\":15},\"zerolinecolor\":\"white\",\"automargin\":true,\"zerolinewidth\":2},\"scene\":{\"xaxis\":{\"backgroundcolor\":\"#E5ECF6\",\"gridcolor\":\"white\",\"linecolor\":\"white\",\"showbackground\":true,\"ticks\":\"\",\"zerolinecolor\":\"white\",\"gridwidth\":2},\"yaxis\":{\"backgroundcolor\":\"#E5ECF6\",\"gridcolor\":\"white\",\"linecolor\":\"white\",\"showbackground\":true,\"ticks\":\"\",\"zerolinecolor\":\"white\",\"gridwidth\":2},\"zaxis\":{\"backgroundcolor\":\"#E5ECF6\",\"gridcolor\":\"white\",\"linecolor\":\"white\",\"showbackground\":true,\"ticks\":\"\",\"zerolinecolor\":\"white\",\"gridwidth\":2}},\"shapedefaults\":{\"line\":{\"color\":\"#2a3f5f\"}},\"annotationdefaults\":{\"arrowcolor\":\"#2a3f5f\",\"arrowhead\":0,\"arrowwidth\":1},\"geo\":{\"bgcolor\":\"white\",\"landcolor\":\"#E5ECF6\",\"subunitcolor\":\"white\",\"showland\":true,\"showlakes\":true,\"lakecolor\":\"white\"},\"title\":{\"x\":0.05},\"mapbox\":{\"style\":\"light\"}}},\"xaxis\":{\"anchor\":\"y\",\"domain\":[0.0,1.0],\"title\":{\"text\":\"Nom\"}},\"yaxis\":{\"anchor\":\"x\",\"domain\":[0.0,1.0],\"title\":{\"text\":\"% Temps de parole\"}},\"legend\":{\"tracegroupgap\":0},\"margin\":{\"t\":60}},                        {\"responsive\": true}                    ).then(function(){\n",
       "                            \n",
       "var gd = document.getElementById('772ad569-f329-45d4-a233-6b8cbe4d0a07');\n",
       "var x = new MutationObserver(function (mutations, observer) {{\n",
       "        var display = window.getComputedStyle(gd).display;\n",
       "        if (!display || display === 'none') {{\n",
       "            console.log([gd, 'removed!']);\n",
       "            Plotly.purge(gd);\n",
       "            observer.disconnect();\n",
       "        }}\n",
       "}});\n",
       "\n",
       "// Listen for the removal of the full notebook cells\n",
       "var notebookContainer = gd.closest('#notebook-container');\n",
       "if (notebookContainer) {{\n",
       "    x.observe(notebookContainer, {childList: true});\n",
       "}}\n",
       "\n",
       "// Listen for the clearing of the current output cell\n",
       "var outputEl = gd.closest('.output');\n",
       "if (outputEl) {{\n",
       "    x.observe(outputEl, {childList: true});\n",
       "}}\n",
       "\n",
       "                        })                };                });            </script>        </div>"
      ]
     },
     "metadata": {},
     "output_type": "display_data"
    }
   ],
   "source": [
    "fig = px.scatter(candidats,\n",
    "                 x='Nom', y='% Temps de parole')\n",
    "\n",
    "fig.add_scatter(x=candidats['Nom'], y=candidats['% Votes'])\n",
    "fig.show()"
   ]
  }
 ],
 "metadata": {
  "kernelspec": {
   "display_name": "Python 3 (ipykernel)",
   "language": "python",
   "name": "python3"
  },
  "language_info": {
   "codemirror_mode": {
    "name": "ipython",
    "version": 3
   },
   "file_extension": ".py",
   "mimetype": "text/x-python",
   "name": "python",
   "nbconvert_exporter": "python",
   "pygments_lexer": "ipython3",
   "version": "3.10.4"
  }
 },
 "nbformat": 4,
 "nbformat_minor": 5
}
