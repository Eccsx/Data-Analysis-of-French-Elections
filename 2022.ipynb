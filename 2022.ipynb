{
 "cells": [
  {
   "cell_type": "code",
   "execution_count": null,
   "id": "f9bc9889-8afe-4667-b9c0-b36519ba28a5",
   "metadata": {},
   "outputs": [],
   "source": [
    "import geopandas as gpd\n",
    "import pandas as pd\n",
    "import plotly.express as px\n",
    "from unidecode import unidecode\n",
    "\n",
    "# pd.set_option('display.max_columns', None)"
   ]
  },
  {
   "cell_type": "markdown",
   "id": "142b6341-c119-4784-bb0d-5f3ba169d01d",
   "metadata": {},
   "source": [
    "## Départements"
   ]
  },
  {
   "cell_type": "code",
   "execution_count": null,
   "id": "0e9d15f5-164c-43ec-b13f-d881f6936d24",
   "metadata": {},
   "outputs": [],
   "source": [
    "t1_dep = pd.read_csv('https://www.data.gouv.fr/fr/datasets/r/bf616688-8478-46fa-8abe-cd1cc1a53b83')\n",
    "\n",
    "t1_dep.drop(t1_dep.columns[16:40], axis=1, inplace=True)\n",
    "t1_dep.drop(t1_dep.columns[[3, 5, 6, 7, 8, 10, 11, 13, 14]], axis=1, inplace=True)\n",
    "\n",
    "t1_dep.columns = ['Code Département','Département', 'Inscrits', 'Taux Abstention', 'Taux Blanc', 'Taux Nul', 'Taux Exprimé',\n",
    "                  'ARTHAUD', 'ROUSSEL', 'MACRON', 'LASSALLE', 'LE PEN', 'ZEMMOUR', 'MÉLENCHON', 'HIDALGO', 'JADOT', 'PÉCRESSE', 'POUTOU', 'DUPONT-AIGNAN']"
   ]
  },
  {
   "cell_type": "code",
   "execution_count": null,
   "id": "2d8a4de9-5110-476c-b7ea-6bcd92321522",
   "metadata": {},
   "outputs": [],
   "source": [
    "t1_dep.head()"
   ]
  },
  {
   "cell_type": "code",
   "execution_count": null,
   "id": "aa5dad48-48b0-4391-8eef-bb67eb24eaa6",
   "metadata": {},
   "outputs": [],
   "source": [
    "geo_dep = gpd.read_file('https://www.data.gouv.fr/fr/datasets/r/92f37c92-3aae-452c-8af1-c77e6dd590e5')\n",
    "\n",
    "for i in geo_dep.index[96:]:\n",
    "    dep = geo_dep.loc[i, 'libgeo']\n",
    "    code = geo_dep.loc[i, 'dep']\n",
    "    \n",
    "    t1_dep.loc[t1_dep['Département'] == dep, 'Code Département'] = code"
   ]
  },
  {
   "cell_type": "code",
   "execution_count": null,
   "id": "7af4be57-3351-43d4-9607-f5fab532b432",
   "metadata": {},
   "outputs": [],
   "source": [
    "t1_dep.head()"
   ]
  },
  {
   "cell_type": "markdown",
   "id": "e519ecef-8aaa-4573-9866-083ae4d0452b",
   "metadata": {},
   "source": [
    "## Communes"
   ]
  },
  {
   "cell_type": "code",
   "execution_count": null,
   "id": "75e22ed9-5612-4564-90ce-567f97c25a66",
   "metadata": {},
   "outputs": [],
   "source": [
    "t1_com = pd.read_csv('https://www.data.gouv.fr/fr/datasets/r/38107a2b-67e6-4d74-a179-c587a25dc6f7',\n",
    "                     low_memory=False)\n",
    "\n",
    "t1_com.drop(t1_com.columns[17:41], axis=1, inplace=True)\n",
    "t1_com.drop(t1_com.columns[[4, 6, 7, 8, 9, 11, 12, 14, 15]], axis=1, inplace=True)\n",
    "\n",
    "t1_com.columns = ['Code Commune', 'Code Département','Commune', 'Inscrits', 'Taux Abstention', 'Taux Blanc', 'Taux Nul', 'Taux Exprimé',\n",
    "                  'ARTHAUD', 'ROUSSEL', 'MACRON', 'LASSALLE', 'LE PEN', 'ZEMMOUR', 'MÉLENCHON', 'HIDALGO', 'JADOT', 'PÉCRESSE', 'POUTOU', 'DUPONT-AIGNAN']"
   ]
  },
  {
   "cell_type": "code",
   "execution_count": null,
   "id": "d02df67a-a242-4870-8143-8e03e7ff49f8",
   "metadata": {},
   "outputs": [],
   "source": [
    "t1_com.head()"
   ]
  },
  {
   "cell_type": "code",
   "execution_count": null,
   "id": "d8e29f42-8c70-4a9d-bb49-9aa17fc7fda6",
   "metadata": {},
   "outputs": [],
   "source": [
    "geo_com = gpd.read_file('https://www.data.gouv.fr/fr/datasets/r/fb3580f6-e875-408d-809a-ad22fc418581')\n",
    "\n",
    "t1_com['Code Département'].replace(['ZA', 'ZB', 'ZC', 'ZD', 'ZM'], \n",
    "                                   ['971', '972', '973', '974', '976'], inplace=True)\n",
    "\n",
    "com_indices = geo_com[(geo_com['dep'] == '2A')\n",
    "                      | (geo_com['dep'] == '2B')\n",
    "                      | (geo_com['dep'] > '95')].index\n",
    "\n",
    "for i in com_indices:\n",
    "    com = geo_com.loc[i, 'libgeo']\n",
    "    code_com = geo_com.loc[i, 'codgeo']\n",
    "    com_dep = geo_com.loc[i, 'dep']\n",
    "    \n",
    "    t1_com.loc[(t1_com['Commune'].apply(unidecode) == unidecode(com))\n",
    "               & (t1_com['Code Département'] == com_dep), ['Code Commune', 'Commune']] = [code_com, com]"
   ]
  },
  {
   "cell_type": "code",
   "execution_count": null,
   "id": "fe95a596-d399-48dd-9d41-dcef6f9ed641",
   "metadata": {},
   "outputs": [],
   "source": [
    "geo_com.head()"
   ]
  },
  {
   "cell_type": "markdown",
   "id": "2fa197d8-eb99-4a1c-a7b8-8aed1e5146b6",
   "metadata": {},
   "source": [
    "## Cartes"
   ]
  },
  {
   "cell_type": "code",
   "execution_count": null,
   "id": "e546123a-7ddf-42a5-96fc-1d7725bef669",
   "metadata": {
    "tags": []
   },
   "outputs": [],
   "source": [
    "fig = px.choropleth_mapbox(t1_dep,\n",
    "                           locations='Code Département',\n",
    "                           geojson=geo_dep,\n",
    "                           color='Taux Abstention',\n",
    "                           color_continuous_scale='delta',\n",
    "                           range_color=[0, 100],\n",
    "                           featureidkey='properties.dep',\n",
    "                           hover_name='Département',\n",
    "                           mapbox_style='white-bg',\n",
    "                           center={'lat': 46.3, 'lon': 1.6751},\n",
    "                           zoom=4)\n",
    "fig.update_layout(margin={'l': 0, 'r': 0, 't': 0, 'b': 0})\n",
    "fig.show()"
   ]
  },
  {
   "cell_type": "code",
   "execution_count": null,
   "id": "426dbb56-a154-43fc-b915-631da8b95dc3",
   "metadata": {},
   "outputs": [],
   "source": []
  },
  {
   "cell_type": "code",
   "execution_count": null,
   "id": "3dedb9a3-7637-44b3-8705-e3f352979a45",
   "metadata": {
    "tags": []
   },
   "outputs": [],
   "source": [
    "fig = px.choropleth_mapbox(t1_com,\n",
    "                           locations='Code Commune',\n",
    "                           geojson=geo_com,\n",
    "                           color='Taux Abstention',\n",
    "                           color_continuous_scale='delta',\n",
    "                           range_color=[0, 100],\n",
    "                           featureidkey='properties.codgeo',\n",
    "                           hover_name='Commune',\n",
    "                           mapbox_style='white-bg',\n",
    "                           center={'lat': 46.3, 'lon': 1.6751},\n",
    "                           zoom=4)\n",
    "fig.update_traces(marker_line_width=0)\n",
    "fig.update_layout(margin={'l': 0, 'r': 0, 't': 0, 'b': 0})\n",
    "fig.show()"
   ]
  }
 ],
 "metadata": {
  "kernelspec": {
   "display_name": "Python 3",
   "language": "python",
   "name": "python3"
  },
  "language_info": {
   "codemirror_mode": {
    "name": "ipython",
    "version": 3
   },
   "file_extension": ".py",
   "mimetype": "text/x-python",
   "name": "python",
   "nbconvert_exporter": "python",
   "pygments_lexer": "ipython3",
   "version": "3.9.7"
  }
 },
 "nbformat": 4,
 "nbformat_minor": 5
}
