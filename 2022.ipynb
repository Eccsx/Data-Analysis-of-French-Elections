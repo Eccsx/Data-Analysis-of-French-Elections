{
 "cells": [
  {
   "cell_type": "code",
   "execution_count": null,
   "id": "f9bc9889-8afe-4667-b9c0-b36519ba28a5",
   "metadata": {},
   "outputs": [],
   "source": [
    "import geopandas as gpd\n",
    "import pandas as pd\n",
    "import plotly.graph_objects as go\n",
    "from plotly.subplots import make_subplots\n",
    "from unidecode import unidecode\n",
    "\n",
    "# pd.set_option('display.max_columns', None)"
   ]
  },
  {
   "cell_type": "markdown",
   "id": "3f09ca0a-e4ec-488f-a48d-c573a162cfc6",
   "metadata": {},
   "source": [
    "## Prétraitement des données"
   ]
  },
  {
   "cell_type": "markdown",
   "id": "142b6341-c119-4784-bb0d-5f3ba169d01d",
   "metadata": {},
   "source": [
    "### Premier tour"
   ]
  },
  {
   "cell_type": "code",
   "execution_count": null,
   "id": "0e9d15f5-164c-43ec-b13f-d881f6936d24",
   "metadata": {},
   "outputs": [],
   "source": [
    "t1_dep = pd.read_csv('https://www.data.gouv.fr/fr/datasets/r/bf616688-8478-46fa-8abe-cd1cc1a53b83')\n",
    "\n",
    "t1_dep.drop(t1_dep.columns[28:52], axis=1, inplace=True)\n",
    "t1_dep.drop(t1_dep.columns[[3, 5, 6, 7, 8, 10, 11, 13, 14]], axis=1, inplace=True)\n",
    "\n",
    "t1_dep.columns = ['Code Département','Département', 'Inscrits', 'Taux Abstention', 'Taux Blanc', 'Taux Nul', 'Taux Exprimé',\n",
    "                  'ARTHAUD', 'ROUSSEL', 'MACRON', 'LASSALLE', 'LE PEN', 'ZEMMOUR', 'MÉLENCHON', 'HIDALGO', 'JADOT', 'PÉCRESSE', 'POUTOU', 'DUPONT-AIGNAN']"
   ]
  },
  {
   "cell_type": "code",
   "execution_count": null,
   "id": "2d8a4de9-5110-476c-b7ea-6bcd92321522",
   "metadata": {},
   "outputs": [],
   "source": [
    "t1_dep.head()"
   ]
  },
  {
   "cell_type": "markdown",
   "id": "e258462b-752d-4bc9-b1a1-ad0d64226e6b",
   "metadata": {},
   "source": [
    "### Second tour"
   ]
  },
  {
   "cell_type": "code",
   "execution_count": null,
   "id": "e3bd7555-8263-481b-9245-877c2c8c17b4",
   "metadata": {},
   "outputs": [],
   "source": [
    "t2_dep = pd.read_csv('https://www.data.gouv.fr/fr/datasets/r/c7b72e78-5e78-4976-995f-30533f0a35d3')\n",
    "\n",
    "t2_dep.drop(t2_dep.columns[18:52], axis=1, inplace=True)\n",
    "t2_dep.drop(t2_dep.columns[[3, 5, 6, 7, 8, 10, 11, 13, 14]], axis=1, inplace=True)\n",
    "\n",
    "t2_dep.columns = ['Code Département','Département', 'Inscrits', 'Taux Abstention', 'Taux Blanc', 'Taux Nul', 'Taux Exprimé',\n",
    "                  'MACRON', 'LE PEN']"
   ]
  },
  {
   "cell_type": "code",
   "execution_count": null,
   "id": "76d41680-f0d3-4eaa-833c-4c175cd233da",
   "metadata": {},
   "outputs": [],
   "source": [
    "t2_dep.head()"
   ]
  },
  {
   "cell_type": "markdown",
   "id": "fb6c8d6f-b3b3-410b-a199-77ef5cff53fa",
   "metadata": {},
   "source": [
    "### Données géographiques"
   ]
  },
  {
   "cell_type": "code",
   "execution_count": null,
   "id": "aa5dad48-48b0-4391-8eef-bb67eb24eaa6",
   "metadata": {
    "tags": []
   },
   "outputs": [],
   "source": [
    "geo_dep = gpd.read_file('https://www.data.gouv.fr/fr/datasets/r/92f37c92-3aae-452c-8af1-c77e6dd590e5')\n",
    "\n",
    "for i in geo_dep.index[96:]:\n",
    "    dep = geo_dep.loc[i, 'libgeo']\n",
    "    code = geo_dep.loc[i, 'dep']\n",
    "    \n",
    "    t1_dep.loc[t1_dep['Département'] == dep, 'Code Département'] = code\n",
    "    t2_dep.loc[t2_dep['Département'] == dep, 'Code Département'] = code"
   ]
  },
  {
   "cell_type": "code",
   "execution_count": null,
   "id": "7af4be57-3351-43d4-9607-f5fab532b432",
   "metadata": {},
   "outputs": [],
   "source": [
    "geo_dep.head()"
   ]
  },
  {
   "cell_type": "markdown",
   "id": "aa3eb2de-2f2b-4213-a877-5a3f4d5d71c8",
   "metadata": {},
   "source": [
    "## Résultats du premier tour"
   ]
  },
  {
   "cell_type": "markdown",
   "id": "bb7ab903-5016-47de-86ad-319df7c630a0",
   "metadata": {},
   "source": [
    "### Participation"
   ]
  },
  {
   "cell_type": "markdown",
   "id": "9d823c98-2bf0-44e3-9337-dab4d284392e",
   "metadata": {},
   "source": [
    "### Répartition des votes"
   ]
  },
  {
   "cell_type": "code",
   "execution_count": null,
   "id": "14c2cd81-a92d-47f6-90e2-9a3b743398b8",
   "metadata": {},
   "outputs": [],
   "source": [
    "# Premier tour\n",
    "t1_rep_votes = t1_dep[t1_dep.columns[7:]].apply(sum).to_frame(name='Votes Obtenus')\n",
    "\n",
    "t1_rep_votes.reset_index(inplace=True)\n",
    "t1_rep_votes.rename(columns = {'index':'Candidats'}, inplace=True)\n",
    "t1_rep_votes.sort_values(ascending=False, by='Votes Obtenus', inplace=True)\n",
    "\n",
    "# Second tour\n",
    "t2_rep_votes = t2_dep[t2_dep.columns[7:]].apply(sum).to_frame(name='Votes Obtenus')\n",
    "\n",
    "t2_rep_votes.reset_index(inplace=True)\n",
    "t2_rep_votes.rename(columns = {'index':'Candidats'}, inplace=True)\n",
    "t2_rep_votes.sort_values(ascending=False, by='Votes Obtenus', inplace=True)"
   ]
  },
  {
   "cell_type": "code",
   "execution_count": null,
   "id": "d5c3b421-3154-41da-a026-e207bfce1798",
   "metadata": {},
   "outputs": [],
   "source": [
    "fig = make_subplots(rows=1, cols=2,\n",
    "                    column_widths=[0.6, 0.4],\n",
    "                    subplot_titles=['Premier tour', 'Second tour'],\n",
    "                    y_title='Votes obtenus')\n",
    "\n",
    "fig.add_trace(go.Bar(x=t1_rep_votes['Candidats'], y=t1_rep_votes['Votes Obtenus'],\n",
    "                     text=t1_rep_votes['Votes Obtenus']),\n",
    "             row=1, col=1)\n",
    "fig.add_trace(go.Bar(x=t2_rep_votes['Candidats'], y=t2_rep_votes['Votes Obtenus'],\n",
    "                     text=t2_rep_votes['Votes Obtenus']),\n",
    "             row=1, col=2)\n",
    "\n",
    "fig.update_layout(title_text='Élection Présidentielle 2022 - Répartition des votes',\n",
    "                  showlegend=False)\n",
    "fig.show()"
   ]
  },
  {
   "cell_type": "markdown",
   "id": "2fa197d8-eb99-4a1c-a7b8-8aed1e5146b6",
   "metadata": {},
   "source": [
    "## Analyse géographique"
   ]
  },
  {
   "cell_type": "markdown",
   "id": "d5ee1e2e-1b9d-483f-8e1d-f10c01ec3076",
   "metadata": {},
   "source": [
    "### Taux d'abstention"
   ]
  },
  {
   "cell_type": "code",
   "execution_count": null,
   "id": "e546123a-7ddf-42a5-96fc-1d7725bef669",
   "metadata": {
    "tags": []
   },
   "outputs": [],
   "source": [
    "fig_t1 = px.choropleth_mapbox(t1_dep,\n",
    "                              locations='Code Département',\n",
    "                              geojson=geo_dep,\n",
    "                              color='Taux Abstention',\n",
    "                              featureidkey='properties.dep',\n",
    "                              hover_name='Département')\n",
    "fig_t2 = px.choropleth_mapbox(t2_dep,\n",
    "                              locations='Code Département',\n",
    "                              geojson=geo_dep,\n",
    "                              color='Taux Abstention',\n",
    "                              featureidkey='properties.dep',\n",
    "                              hover_name='Département')\n",
    "\n",
    "fig = make_subplots(rows=1, cols=2,\n",
    "                    subplot_titles=['Premier tour', 'Second tour'],\n",
    "                    specs=[[{'type': 'choroplethmapbox'}, {'type': 'choroplethmapbox'}]])\n",
    "\n",
    "fig.add_trace(fig_t1['data'][0], row=1, col=1)\n",
    "fig.add_trace(fig_t2['data'][0], row=1, col=2)\n",
    "\n",
    "fig.update_mapboxes(style='white-bg',\n",
    "                    center={'lat': 46.3, 'lon': 1.6751},\n",
    "                    zoom=4.2)\n",
    "fig.update_layout(title_text='Élection Présidentielle 2022 - Taux d\\'abstention',\n",
    "                  margin={'l': 0, 'r': 0, 't': 100, 'b': 0},\n",
    "                  height=500,\n",
    "                  coloraxis = {'colorscale': 'delta',\n",
    "                               'cmin': 0,\n",
    "                               'cmax': 100})\n",
    "\n",
    "fig.show()"
   ]
  },
  {
   "cell_type": "markdown",
   "id": "580b3592-5f27-4ce7-884a-21adce5479e2",
   "metadata": {},
   "source": [
    "### Vainqueurs"
   ]
  },
  {
   "cell_type": "code",
   "execution_count": null,
   "id": "1d5f1020-3233-49ad-9fd1-f962abbf35d0",
   "metadata": {},
   "outputs": [],
   "source": [
    "t1_vainq_dep = t1_dep[t1_dep.columns[7:]].idxmax(axis=1).to_frame(name='Vainqueur')\n",
    "t1_vainq_dep['Code Département'] = t1_dep['Code Département']\n",
    "t1_vainq_dep['Département'] = t1_dep['Département']\n",
    "\n",
    "t2_vainq_dep = t2_dep[t2_dep.columns[7:]].idxmax(axis=1).to_frame(name='Vainqueur')\n",
    "t2_vainq_dep['Code Département'] = t2_dep['Code Département']\n",
    "t2_vainq_dep['Département'] = t2_dep['Département']"
   ]
  },
  {
   "cell_type": "code",
   "execution_count": null,
   "id": "9c2f38b8-7f35-4c29-832f-441a1d8a7ea6",
   "metadata": {},
   "outputs": [],
   "source": [
    "fig = px.choropleth_mapbox(t2_vainq_dep,\n",
    "                           locations='Code Département',\n",
    "                           geojson=geo_dep,\n",
    "                           color='Vainqueur',\n",
    "                           featureidkey='properties.dep',\n",
    "                           hover_name='Département',\n",
    "                           mapbox_style='white-bg',\n",
    "                           center={'lat': 46.3, 'lon': 1.6751},\n",
    "                           zoom=4)\n",
    "fig.update_layout(margin={'l': 0, 'r': 0, 't': 0, 'b': 0})\n",
    "fig.show()"
   ]
  },
  {
   "cell_type": "code",
   "execution_count": null,
   "id": "a2673b38-94e2-415e-a8f9-230600902681",
   "metadata": {},
   "outputs": [],
   "source": [
    "fig_t1 = px.choropleth_mapbox(t1_vainq_dep,\n",
    "                              locations='Code Département',\n",
    "                              geojson=geo_dep,\n",
    "                              color='Vainqueur',\n",
    "                              featureidkey='properties.dep',\n",
    "                              hover_name='Vainqueur')\n",
    "fig_t2 = px.choropleth_mapbox(t2_vainq_dep,\n",
    "                              locations='Code Département',\n",
    "                              geojson=geo_dep,\n",
    "                              color='Vainqueur',\n",
    "                              featureidkey='properties.dep',\n",
    "                              hover_name='Vainqueur')\n",
    "\n",
    "fig = make_subplots(rows=1, cols=2,\n",
    "                    subplot_titles=['Premier tour', 'Second tour'],\n",
    "                    specs=[[{'type': 'choroplethmapbox'}, {'type': 'choroplethmapbox'}]])\n",
    "\n",
    "fig.add_trace(fig_t1['data'][0], row=1, col=1)\n",
    "fig.add_trace(fig_t2['data'][0], row=1, col=2)\n",
    "\n",
    "fig.update_mapboxes(style='white-bg',\n",
    "                    center={'lat': 46.3, 'lon': 1.6751},\n",
    "                    zoom=4.2)\n",
    "fig.update_layout(title_text='Élection Présidentielle 2022 - Vainqueur par département',\n",
    "                  margin={'l': 0, 'r': 0, 't': 100, 'b': 0},\n",
    "                  height=500)\n",
    "\n",
    "fig.show()"
   ]
  }
 ],
 "metadata": {
  "kernelspec": {
   "display_name": "Python 3",
   "language": "python",
   "name": "python3"
  },
  "language_info": {
   "codemirror_mode": {
    "name": "ipython",
    "version": 3
   },
   "file_extension": ".py",
   "mimetype": "text/x-python",
   "name": "python",
   "nbconvert_exporter": "python",
   "pygments_lexer": "ipython3",
   "version": "3.9.7"
  }
 },
 "nbformat": 4,
 "nbformat_minor": 5
}
