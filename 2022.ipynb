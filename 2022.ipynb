{
 "cells": [
  {
   "cell_type": "code",
   "execution_count": null,
   "id": "f9bc9889-8afe-4667-b9c0-b36519ba28a5",
   "metadata": {},
   "outputs": [],
   "source": [
    "import geopandas as gpd\n",
    "import pandas as pd\n",
    "import plotly.express as px\n",
    "import plotly.graph_objects as go\n",
    "from plotly.subplots import make_subplots\n",
    "from unidecode import unidecode\n",
    "\n",
    "# pd.set_option('display.max_columns', None)"
   ]
  },
  {
   "cell_type": "markdown",
   "id": "3f09ca0a-e4ec-488f-a48d-c573a162cfc6",
   "metadata": {},
   "source": [
    "## Prétraitement des données"
   ]
  },
  {
   "cell_type": "markdown",
   "id": "142b6341-c119-4784-bb0d-5f3ba169d01d",
   "metadata": {},
   "source": [
    "### Premier tour"
   ]
  },
  {
   "cell_type": "code",
   "execution_count": null,
   "id": "0e9d15f5-164c-43ec-b13f-d881f6936d24",
   "metadata": {},
   "outputs": [],
   "source": [
    "t1_dep = pd.read_csv('https://www.data.gouv.fr/fr/datasets/r/bf616688-8478-46fa-8abe-cd1cc1a53b83')\n",
    "\n",
    "t1_dep.drop(t1_dep.columns[28:52], axis=1, inplace=True)\n",
    "t1_dep.drop(t1_dep.columns[[3, 5, 6, 7, 8, 10, 11, 13, 14]], axis=1, inplace=True)\n",
    "\n",
    "t1_dep.columns = ['Code Département','Département', 'Inscrits', 'Taux Abstention', 'Taux Blanc', 'Taux Nul', 'Taux Exprimé',\n",
    "                  'ARTHAUD', 'ROUSSEL', 'MACRON', 'LASSALLE', 'LE PEN', 'ZEMMOUR', 'MÉLENCHON', 'HIDALGO', 'JADOT', 'PÉCRESSE', 'POUTOU', 'DUPONT-AIGNAN']"
   ]
  },
  {
   "cell_type": "code",
   "execution_count": 22,
   "id": "2d8a4de9-5110-476c-b7ea-6bcd92321522",
   "metadata": {},
   "outputs": [
    {
     "data": {
      "text/html": [
       "<div>\n",
       "<style scoped>\n",
       "    .dataframe tbody tr th:only-of-type {\n",
       "        vertical-align: middle;\n",
       "    }\n",
       "\n",
       "    .dataframe tbody tr th {\n",
       "        vertical-align: top;\n",
       "    }\n",
       "\n",
       "    .dataframe thead th {\n",
       "        text-align: right;\n",
       "    }\n",
       "</style>\n",
       "<table border=\"1\" class=\"dataframe\">\n",
       "  <thead>\n",
       "    <tr style=\"text-align: right;\">\n",
       "      <th></th>\n",
       "      <th>Code Département</th>\n",
       "      <th>Département</th>\n",
       "      <th>Inscrits</th>\n",
       "      <th>Taux Abstention</th>\n",
       "      <th>Taux Blanc</th>\n",
       "      <th>Taux Nul</th>\n",
       "      <th>Taux Exprimé</th>\n",
       "      <th>ARTHAUD</th>\n",
       "      <th>ROUSSEL</th>\n",
       "      <th>MACRON</th>\n",
       "      <th>LASSALLE</th>\n",
       "      <th>LE PEN</th>\n",
       "      <th>ZEMMOUR</th>\n",
       "      <th>MÉLENCHON</th>\n",
       "      <th>HIDALGO</th>\n",
       "      <th>JADOT</th>\n",
       "      <th>PÉCRESSE</th>\n",
       "      <th>POUTOU</th>\n",
       "      <th>DUPONT-AIGNAN</th>\n",
       "    </tr>\n",
       "  </thead>\n",
       "  <tbody>\n",
       "    <tr>\n",
       "      <th>0</th>\n",
       "      <td>01</td>\n",
       "      <td>Ain</td>\n",
       "      <td>438109</td>\n",
       "      <td>22.264094</td>\n",
       "      <td>1.656351</td>\n",
       "      <td>0.558772</td>\n",
       "      <td>97.784877</td>\n",
       "      <td>1658</td>\n",
       "      <td>5938</td>\n",
       "      <td>92206</td>\n",
       "      <td>10876</td>\n",
       "      <td>86755</td>\n",
       "      <td>27530</td>\n",
       "      <td>57832</td>\n",
       "      <td>5644</td>\n",
       "      <td>15843</td>\n",
       "      <td>17572</td>\n",
       "      <td>2172</td>\n",
       "      <td>8998</td>\n",
       "    </tr>\n",
       "    <tr>\n",
       "      <th>1</th>\n",
       "      <td>02</td>\n",
       "      <td>Aisne</td>\n",
       "      <td>373544</td>\n",
       "      <td>27.062140</td>\n",
       "      <td>1.382614</td>\n",
       "      <td>1.037970</td>\n",
       "      <td>97.579417</td>\n",
       "      <td>2038</td>\n",
       "      <td>5968</td>\n",
       "      <td>58721</td>\n",
       "      <td>6468</td>\n",
       "      <td>104342</td>\n",
       "      <td>18266</td>\n",
       "      <td>41172</td>\n",
       "      <td>2983</td>\n",
       "      <td>7074</td>\n",
       "      <td>10920</td>\n",
       "      <td>2118</td>\n",
       "      <td>5790</td>\n",
       "    </tr>\n",
       "    <tr>\n",
       "      <th>2</th>\n",
       "      <td>03</td>\n",
       "      <td>Allier</td>\n",
       "      <td>249991</td>\n",
       "      <td>23.399642</td>\n",
       "      <td>1.957764</td>\n",
       "      <td>0.934755</td>\n",
       "      <td>97.107481</td>\n",
       "      <td>1359</td>\n",
       "      <td>8119</td>\n",
       "      <td>49706</td>\n",
       "      <td>7782</td>\n",
       "      <td>50315</td>\n",
       "      <td>12361</td>\n",
       "      <td>31013</td>\n",
       "      <td>3280</td>\n",
       "      <td>5982</td>\n",
       "      <td>10319</td>\n",
       "      <td>1503</td>\n",
       "      <td>4216</td>\n",
       "    </tr>\n",
       "    <tr>\n",
       "      <th>3</th>\n",
       "      <td>04</td>\n",
       "      <td>Alpes-de-Haute-Provence</td>\n",
       "      <td>128075</td>\n",
       "      <td>22.869412</td>\n",
       "      <td>1.496179</td>\n",
       "      <td>0.631675</td>\n",
       "      <td>97.872147</td>\n",
       "      <td>505</td>\n",
       "      <td>2721</td>\n",
       "      <td>20800</td>\n",
       "      <td>4309</td>\n",
       "      <td>26010</td>\n",
       "      <td>7926</td>\n",
       "      <td>21856</td>\n",
       "      <td>1396</td>\n",
       "      <td>3957</td>\n",
       "      <td>3834</td>\n",
       "      <td>865</td>\n",
       "      <td>2504</td>\n",
       "    </tr>\n",
       "    <tr>\n",
       "      <th>4</th>\n",
       "      <td>05</td>\n",
       "      <td>Hautes-Alpes</td>\n",
       "      <td>113519</td>\n",
       "      <td>22.337230</td>\n",
       "      <td>1.582314</td>\n",
       "      <td>0.603435</td>\n",
       "      <td>97.814251</td>\n",
       "      <td>428</td>\n",
       "      <td>1925</td>\n",
       "      <td>20507</td>\n",
       "      <td>3871</td>\n",
       "      <td>19696</td>\n",
       "      <td>6164</td>\n",
       "      <td>19718</td>\n",
       "      <td>1459</td>\n",
       "      <td>5013</td>\n",
       "      <td>4511</td>\n",
       "      <td>801</td>\n",
       "      <td>2142</td>\n",
       "    </tr>\n",
       "  </tbody>\n",
       "</table>\n",
       "</div>"
      ],
      "text/plain": [
       "  Code Département              Département  Inscrits  Taux Abstention  \\\n",
       "0               01                      Ain    438109        22.264094   \n",
       "1               02                    Aisne    373544        27.062140   \n",
       "2               03                   Allier    249991        23.399642   \n",
       "3               04  Alpes-de-Haute-Provence    128075        22.869412   \n",
       "4               05             Hautes-Alpes    113519        22.337230   \n",
       "\n",
       "   Taux Blanc  Taux Nul  Taux Exprimé  ARTHAUD  ROUSSEL  MACRON  LASSALLE  \\\n",
       "0    1.656351  0.558772     97.784877     1658     5938   92206     10876   \n",
       "1    1.382614  1.037970     97.579417     2038     5968   58721      6468   \n",
       "2    1.957764  0.934755     97.107481     1359     8119   49706      7782   \n",
       "3    1.496179  0.631675     97.872147      505     2721   20800      4309   \n",
       "4    1.582314  0.603435     97.814251      428     1925   20507      3871   \n",
       "\n",
       "   LE PEN  ZEMMOUR  MÉLENCHON  HIDALGO  JADOT  PÉCRESSE  POUTOU  DUPONT-AIGNAN  \n",
       "0   86755    27530      57832     5644  15843     17572    2172           8998  \n",
       "1  104342    18266      41172     2983   7074     10920    2118           5790  \n",
       "2   50315    12361      31013     3280   5982     10319    1503           4216  \n",
       "3   26010     7926      21856     1396   3957      3834     865           2504  \n",
       "4   19696     6164      19718     1459   5013      4511     801           2142  "
      ]
     },
     "execution_count": 22,
     "metadata": {},
     "output_type": "execute_result"
    }
   ],
   "source": [
    "t1_dep.head()"
   ]
  },
  {
   "cell_type": "code",
   "execution_count": null,
   "id": "50a5253b-b478-4622-8cda-4979af159e8c",
   "metadata": {},
   "outputs": [],
   "source": [
    "t1_parole = pd.read_csv('https://www.data.gouv.fr/fr/datasets/r/573e3191-c31d-4893-8bc2-d0429df3bf80',\n",
    "                         encoding='ISO-8859-1', sep=';')\n",
    "\n",
    "t1_parole.drop(t1_parole[t1_parole['Type de temps'] != 'Total Temps d\\'antenne'].index,\n",
    "               inplace=True)\n",
    "t1_parole.drop(['Circonscription'], axis=1, inplace=True)\n",
    "t1_parole.replace(['ARTHAUD NATHALIE','DUPONT AIGNAN NICOLAS', 'HIDALGO ANNE',\n",
    "                   'JADOT YANNICK', 'LASSALLE JEAN', 'LE PEN MARINE',\n",
    "                   'MACRON EMMANUEL', 'MELENCHON JEAN LUC', 'PECRESSE VALERIE',\n",
    "                   'POUTOU PHILIPPE', 'ROUSSEL FABIEN', 'ZEMMOUR ERIC'],\n",
    "                  ['ARTHAUD','DUPONT-AIGNAN', 'HIDALGO',\n",
    "                   'JADOT', 'LASSALLE', 'LE PEN',\n",
    "                   'MACRON', 'MELENCHON', 'PECRESSE',\n",
    "                   'POUTOU', 'ROUSSEL', 'ZEMMOUR'],\n",
    "                  inplace=True)        \n",
    "t1_parole.drop(t1_parole[~t1_parole['Candidat'].isin(t1_dep.columns[7:])].index,\n",
    "               inplace=True)\n",
    "t1_parole['Heures'] = pd.to_timedelta(t1_parole['Durée']).dt.seconds / 3600\n",
    "t1_parole.drop(['Type de temps', 'Durée'], axis=1, inplace=True)\n",
    "t1_parole.reset_index(drop=True, inplace=True)"
   ]
  },
  {
   "cell_type": "code",
   "execution_count": 37,
   "id": "886c6038-36d5-4d51-a8a3-d1c2a3930e5c",
   "metadata": {},
   "outputs": [
    {
     "data": {
      "text/html": [
       "<div>\n",
       "<style scoped>\n",
       "    .dataframe tbody tr th:only-of-type {\n",
       "        vertical-align: middle;\n",
       "    }\n",
       "\n",
       "    .dataframe tbody tr th {\n",
       "        vertical-align: top;\n",
       "    }\n",
       "\n",
       "    .dataframe thead th {\n",
       "        text-align: right;\n",
       "    }\n",
       "</style>\n",
       "<table border=\"1\" class=\"dataframe\">\n",
       "  <thead>\n",
       "    <tr style=\"text-align: right;\">\n",
       "      <th></th>\n",
       "      <th>Service</th>\n",
       "      <th>Candidat</th>\n",
       "      <th>Pourcentage</th>\n",
       "      <th>Heures</th>\n",
       "    </tr>\n",
       "  </thead>\n",
       "  <tbody>\n",
       "    <tr>\n",
       "      <th>0</th>\n",
       "      <td>TF1</td>\n",
       "      <td>ARTHAUD</td>\n",
       "      <td>1.29</td>\n",
       "      <td>0.068056</td>\n",
       "    </tr>\n",
       "    <tr>\n",
       "      <th>1</th>\n",
       "      <td>TF1</td>\n",
       "      <td>DUPONT-AIGNAN</td>\n",
       "      <td>2.85</td>\n",
       "      <td>0.150278</td>\n",
       "    </tr>\n",
       "    <tr>\n",
       "      <th>2</th>\n",
       "      <td>TF1</td>\n",
       "      <td>HIDALGO</td>\n",
       "      <td>5.16</td>\n",
       "      <td>0.271389</td>\n",
       "    </tr>\n",
       "    <tr>\n",
       "      <th>3</th>\n",
       "      <td>TF1</td>\n",
       "      <td>JADOT</td>\n",
       "      <td>7.11</td>\n",
       "      <td>0.374167</td>\n",
       "    </tr>\n",
       "    <tr>\n",
       "      <th>4</th>\n",
       "      <td>TF1</td>\n",
       "      <td>LASSALLE</td>\n",
       "      <td>1.27</td>\n",
       "      <td>0.066667</td>\n",
       "    </tr>\n",
       "    <tr>\n",
       "      <th>5</th>\n",
       "      <td>TF1</td>\n",
       "      <td>LE PEN</td>\n",
       "      <td>15.44</td>\n",
       "      <td>0.812778</td>\n",
       "    </tr>\n",
       "    <tr>\n",
       "      <th>6</th>\n",
       "      <td>TF1</td>\n",
       "      <td>MACRON</td>\n",
       "      <td>21.83</td>\n",
       "      <td>1.149444</td>\n",
       "    </tr>\n",
       "    <tr>\n",
       "      <th>7</th>\n",
       "      <td>TF1</td>\n",
       "      <td>POUTOU</td>\n",
       "      <td>0.71</td>\n",
       "      <td>0.037222</td>\n",
       "    </tr>\n",
       "    <tr>\n",
       "      <th>8</th>\n",
       "      <td>TF1</td>\n",
       "      <td>ROUSSEL</td>\n",
       "      <td>3.46</td>\n",
       "      <td>0.182222</td>\n",
       "    </tr>\n",
       "    <tr>\n",
       "      <th>9</th>\n",
       "      <td>TF1</td>\n",
       "      <td>ZEMMOUR</td>\n",
       "      <td>12.42</td>\n",
       "      <td>0.653889</td>\n",
       "    </tr>\n",
       "    <tr>\n",
       "      <th>10</th>\n",
       "      <td>France2</td>\n",
       "      <td>ARTHAUD</td>\n",
       "      <td>0.54</td>\n",
       "      <td>0.129444</td>\n",
       "    </tr>\n",
       "    <tr>\n",
       "      <th>11</th>\n",
       "      <td>France2</td>\n",
       "      <td>DUPONT-AIGNAN</td>\n",
       "      <td>2.74</td>\n",
       "      <td>0.659722</td>\n",
       "    </tr>\n",
       "  </tbody>\n",
       "</table>\n",
       "</div>"
      ],
      "text/plain": [
       "    Service       Candidat Pourcentage    Heures\n",
       "0       TF1        ARTHAUD        1.29  0.068056\n",
       "1       TF1  DUPONT-AIGNAN        2.85  0.150278\n",
       "2       TF1        HIDALGO        5.16  0.271389\n",
       "3       TF1          JADOT        7.11  0.374167\n",
       "4       TF1       LASSALLE        1.27  0.066667\n",
       "5       TF1         LE PEN       15.44  0.812778\n",
       "6       TF1         MACRON       21.83  1.149444\n",
       "7       TF1         POUTOU        0.71  0.037222\n",
       "8       TF1        ROUSSEL        3.46  0.182222\n",
       "9       TF1        ZEMMOUR       12.42  0.653889\n",
       "10  France2        ARTHAUD        0.54  0.129444\n",
       "11  France2  DUPONT-AIGNAN        2.74  0.659722"
      ]
     },
     "execution_count": 67,
     "metadata": {},
     "output_type": "execute_result"
    }
   ],
   "source": [
    "t1_parole.head()"
   ]
  },
  {
   "cell_type": "markdown",
   "id": "e258462b-752d-4bc9-b1a1-ad0d64226e6b",
   "metadata": {},
   "source": [
    "### Second tour"
   ]
  },
  {
   "cell_type": "code",
   "execution_count": null,
   "id": "e3bd7555-8263-481b-9245-877c2c8c17b4",
   "metadata": {},
   "outputs": [],
   "source": [
    "t2_dep = pd.read_csv('https://www.data.gouv.fr/fr/datasets/r/c7b72e78-5e78-4976-995f-30533f0a35d3')\n",
    "\n",
    "t2_dep.drop(t2_dep.columns[18:52], axis=1, inplace=True)\n",
    "t2_dep.drop(t2_dep.columns[[3, 5, 6, 7, 8, 10, 11, 13, 14]], axis=1, inplace=True)\n",
    "\n",
    "t2_dep.columns = ['Code Département','Département', 'Inscrits', 'Taux Abstention', 'Taux Blanc', 'Taux Nul', 'Taux Exprimé',\n",
    "                  'MACRON', 'LE PEN']"
   ]
  },
  {
   "cell_type": "code",
   "execution_count": null,
   "id": "76d41680-f0d3-4eaa-833c-4c175cd233da",
   "metadata": {},
   "outputs": [],
   "source": [
    "t2_dep.head()"
   ]
  },
  {
   "cell_type": "markdown",
   "id": "fb6c8d6f-b3b3-410b-a199-77ef5cff53fa",
   "metadata": {},
   "source": [
    "### Données géographiques"
   ]
  },
  {
   "cell_type": "code",
   "execution_count": null,
   "id": "aa5dad48-48b0-4391-8eef-bb67eb24eaa6",
   "metadata": {
    "tags": []
   },
   "outputs": [],
   "source": [
    "geo_dep = gpd.read_file('https://www.data.gouv.fr/fr/datasets/r/92f37c92-3aae-452c-8af1-c77e6dd590e5')\n",
    "\n",
    "for i in geo_dep.index[96:]:\n",
    "    dep = geo_dep.loc[i, 'libgeo']\n",
    "    code = geo_dep.loc[i, 'dep']\n",
    "    \n",
    "    t1_dep.loc[t1_dep['Département'] == dep, 'Code Département'] = code\n",
    "    t2_dep.loc[t2_dep['Département'] == dep, 'Code Département'] = code"
   ]
  },
  {
   "cell_type": "code",
   "execution_count": null,
   "id": "7af4be57-3351-43d4-9607-f5fab532b432",
   "metadata": {},
   "outputs": [],
   "source": [
    "geo_dep.head()"
   ]
  },
  {
   "cell_type": "markdown",
   "id": "58215e64-2d36-4148-9ef5-be9861cb9459",
   "metadata": {},
   "source": [
    "## Candidats"
   ]
  },
  {
   "cell_type": "markdown",
   "id": "a590977b-a3b8-4203-ba82-1dbc3d4e78bb",
   "metadata": {},
   "source": [
    "### Répartition de la parole"
   ]
  },
  {
   "cell_type": "code",
   "execution_count": 39,
   "id": "9d711cdc-7fb9-41b2-b782-de0422d735d2",
   "metadata": {},
   "outputs": [
    {
     "data": {
      "application/vnd.plotly.v1+json": {
       "config": {
        "plotlyServerURL": "https://plot.ly"
       },
       "data": [
        {
         "alignmentgroup": "True",
         "hovertemplate": "Candidat=ARTHAUD<br>Service=%{x}<br>Heures=%{y}<extra></extra>",
         "legendgroup": "ARTHAUD",
         "marker": {
          "color": "#636efa",
          "pattern": {
           "shape": ""
          }
         },
         "name": "ARTHAUD",
         "offsetgroup": "ARTHAUD",
         "orientation": "v",
         "showlegend": true,
         "textposition": "auto",
         "type": "bar",
         "x": [
          "TF1",
          "France2",
          "France3",
          "France5",
          "M6",
          "C8",
          "TMC",
          "BFMTV",
          "Cnews",
          "RT France",
          "RMCDecouverte",
          "RMC Story",
          "LCI",
          "FranceinfoTV",
          "TV5Monde",
          "France24",
          "Euronews",
          "RFI",
          "FranceInfo",
          "FranceCulture",
          "FranceInter",
          "RadioClassique",
          "BFMBusiness",
          "RMC",
          "RTL",
          "SudRadio"
         ],
         "xaxis": "x",
         "y": [
          0.06805555555555555,
          0.12944444444444445,
          0.025833333333333333,
          0.18888888888888888,
          0.01888888888888889,
          0.21083333333333334,
          0.12611111111111112,
          0.6441666666666667,
          0.3288888888888889,
          0.09444444444444444,
          0.006944444444444444,
          0.525,
          2.7319444444444443,
          0.8102777777777778,
          0.012777777777777779,
          0.4777777777777778,
          0.39222222222222225,
          0.5,
          0.4361111111111111,
          0.075,
          0.2811111111111111,
          0.02861111111111111,
          0.22583333333333333,
          1.2694444444444444,
          0.12361111111111112,
          0.3236111111111111
         ],
         "yaxis": "y"
        },
        {
         "alignmentgroup": "True",
         "hovertemplate": "Candidat=DUPONT-AIGNAN<br>Service=%{x}<br>Heures=%{y}<extra></extra>",
         "legendgroup": "DUPONT-AIGNAN",
         "marker": {
          "color": "#EF553B",
          "pattern": {
           "shape": ""
          }
         },
         "name": "DUPONT-AIGNAN",
         "offsetgroup": "DUPONT-AIGNAN",
         "orientation": "v",
         "showlegend": true,
         "textposition": "auto",
         "type": "bar",
         "x": [
          "TF1",
          "France2",
          "France3",
          "France5",
          "M6",
          "C8",
          "TMC",
          "BFMTV",
          "Cnews",
          "RT France",
          "RMC Story",
          "LCI",
          "FranceinfoTV",
          "TV5Monde",
          "France24",
          "Euronews",
          "RFI",
          "FranceInfo",
          "FranceCulture",
          "FranceInter",
          "RadioClassique",
          "BFMBusiness",
          "RMC",
          "RTL",
          "Europe1",
          "SudRadio"
         ],
         "xaxis": "x",
         "y": [
          0.1502777777777778,
          0.6597222222222222,
          0.185,
          0.9116666666666666,
          0.028888888888888888,
          0.39694444444444443,
          0.24138888888888888,
          1.1336111111111111,
          3.388333333333333,
          0.19527777777777777,
          0.16083333333333333,
          5.073333333333333,
          0.8791666666666667,
          0.029166666666666667,
          0.5994444444444444,
          0.3933333333333333,
          0.7555555555555555,
          1.0430555555555556,
          0.028055555555555556,
          0.3997222222222222,
          0.25416666666666665,
          0.7486111111111111,
          0.5188888888888888,
          0.45416666666666666,
          0.45805555555555555,
          0.3388888888888889
         ],
         "yaxis": "y"
        },
        {
         "alignmentgroup": "True",
         "hovertemplate": "Candidat=HIDALGO<br>Service=%{x}<br>Heures=%{y}<extra></extra>",
         "legendgroup": "HIDALGO",
         "marker": {
          "color": "#00cc96",
          "pattern": {
           "shape": ""
          }
         },
         "name": "HIDALGO",
         "offsetgroup": "HIDALGO",
         "orientation": "v",
         "showlegend": true,
         "textposition": "auto",
         "type": "bar",
         "x": [
          "TF1",
          "France2",
          "France3",
          "France5",
          "M6",
          "C8",
          "TMC",
          "BFMTV",
          "Cnews",
          "RT France",
          "RMCDecouverte",
          "RMC Story",
          "LCI",
          "FranceinfoTV",
          "TV5Monde",
          "France24",
          "Euronews",
          "RFI",
          "FranceInfo",
          "FranceCulture",
          "FranceInter",
          "RadioClassique",
          "BFMBusiness",
          "RMC",
          "RTL",
          "Europe1",
          "SudRadio"
         ],
         "xaxis": "x",
         "y": [
          0.2713888888888889,
          1.12,
          0.46055555555555555,
          2.0502777777777776,
          0.09083333333333334,
          1.1727777777777777,
          0.6436111111111111,
          4.2058333333333335,
          11.069722222222222,
          1.3822222222222222,
          0.06944444444444445,
          0.37027777777777776,
          19.859166666666667,
          8.146944444444445,
          1.8769444444444445,
          1.5997222222222223,
          1.0291666666666666,
          1.1525,
          5.170555555555556,
          0.6955555555555556,
          1.6630555555555555,
          0.9544444444444444,
          1.3388888888888888,
          1.5005555555555556,
          1.3480555555555556,
          3.8983333333333334,
          0.9552777777777778
         ],
         "yaxis": "y"
        },
        {
         "alignmentgroup": "True",
         "hovertemplate": "Candidat=JADOT<br>Service=%{x}<br>Heures=%{y}<extra></extra>",
         "legendgroup": "JADOT",
         "marker": {
          "color": "#ab63fa",
          "pattern": {
           "shape": ""
          }
         },
         "name": "JADOT",
         "offsetgroup": "JADOT",
         "orientation": "v",
         "showlegend": true,
         "textposition": "auto",
         "type": "bar",
         "x": [
          "TF1",
          "France2",
          "France3",
          "France5",
          "M6",
          "C8",
          "TMC",
          "BFMTV",
          "Cnews",
          "RT France",
          "RMCDecouverte",
          "RMC Story",
          "LCI",
          "FranceinfoTV",
          "TV5Monde",
          "France24",
          "Euronews",
          "RFI",
          "FranceInfo",
          "FranceCulture",
          "FranceInter",
          "RadioClassique",
          "BFMBusiness",
          "RMC",
          "RTL",
          "Europe1",
          "SudRadio"
         ],
         "xaxis": "x",
         "y": [
          0.37416666666666665,
          3.4366666666666665,
          0.5825,
          2.4844444444444442,
          0.14416666666666667,
          1.1541666666666666,
          0.71,
          9.253333333333334,
          11.249444444444444,
          1.2797222222222222,
          0.15166666666666667,
          1.4244444444444444,
          21.483333333333334,
          8.456666666666667,
          2.098888888888889,
          1.6152777777777778,
          0.9066666666666666,
          0.9508333333333333,
          7.393888888888889,
          1.0169444444444444,
          2.788611111111111,
          1.1266666666666667,
          1.4838888888888888,
          2.9186111111111113,
          3.734166666666667,
          1.6175,
          1.7016666666666667
         ],
         "yaxis": "y"
        },
        {
         "alignmentgroup": "True",
         "hovertemplate": "Candidat=LASSALLE<br>Service=%{x}<br>Heures=%{y}<extra></extra>",
         "legendgroup": "LASSALLE",
         "marker": {
          "color": "#FFA15A",
          "pattern": {
           "shape": ""
          }
         },
         "name": "LASSALLE",
         "offsetgroup": "LASSALLE",
         "orientation": "v",
         "showlegend": true,
         "textposition": "auto",
         "type": "bar",
         "x": [
          "TF1",
          "France2",
          "France3",
          "France5",
          "M6",
          "C8",
          "TMC",
          "BFMTV",
          "Cnews",
          "RT France",
          "RMCDecouverte",
          "RMC Story",
          "LCI",
          "FranceinfoTV",
          "TV5Monde",
          "France24",
          "Euronews",
          "RFI",
          "FranceInfo",
          "FranceCulture",
          "FranceInter",
          "RadioClassique",
          "BFMBusiness",
          "RMC",
          "RTL",
          "Europe1",
          "SudRadio"
         ],
         "xaxis": "x",
         "y": [
          0.06666666666666667,
          0.53,
          0.02277777777777778,
          0.35083333333333333,
          0.024166666666666666,
          0.15694444444444444,
          0.06388888888888888,
          0.5847222222222223,
          0.4305555555555556,
          0.01611111111111111,
          0.0075,
          0.5919444444444445,
          3.5436111111111113,
          0.2088888888888889,
          0.26555555555555554,
          0.09388888888888888,
          0.44666666666666666,
          0.16972222222222222,
          0.28305555555555556,
          0.02,
          0.0475,
          0.01611111111111111,
          0.11527777777777778,
          1.1391666666666667,
          0.1897222222222222,
          0.45694444444444443,
          0.18888888888888888
         ],
         "yaxis": "y"
        },
        {
         "alignmentgroup": "True",
         "hovertemplate": "Candidat=LE PEN<br>Service=%{x}<br>Heures=%{y}<extra></extra>",
         "legendgroup": "LE PEN",
         "marker": {
          "color": "#19d3f3",
          "pattern": {
           "shape": ""
          }
         },
         "name": "LE PEN",
         "offsetgroup": "LE PEN",
         "orientation": "v",
         "showlegend": true,
         "textposition": "auto",
         "type": "bar",
         "x": [
          "TF1",
          "France2",
          "France3",
          "France5",
          "M6",
          "C8",
          "TMC",
          "BFMTV",
          "Cnews",
          "RT France",
          "RMCDecouverte",
          "RMC Story",
          "LCI",
          "FranceinfoTV",
          "TV5Monde",
          "France24",
          "Euronews",
          "RFI",
          "FranceInfo",
          "FranceCulture",
          "FranceInter",
          "RadioClassique",
          "BFMBusiness",
          "RMC",
          "RTL",
          "Europe1",
          "SudRadio"
         ],
         "xaxis": "x",
         "y": [
          0.8127777777777778,
          3.6891666666666665,
          0.7672222222222222,
          5.2825,
          0.2752777777777778,
          3.701388888888889,
          2.558333333333333,
          7.456666666666667,
          23.40222222222222,
          4.219166666666666,
          0.17083333333333334,
          2.763611111111111,
          10.66611111111111,
          10.46111111111111,
          3.073888888888889,
          3.6275,
          1.5302777777777778,
          1.9833333333333334,
          11.331666666666667,
          0.9991666666666666,
          3.985,
          2.6169444444444445,
          2.7055555555555557,
          8.566666666666666,
          5.864722222222222,
          5.782777777777778,
          2.5155555555555558
         ],
         "yaxis": "y"
        },
        {
         "alignmentgroup": "True",
         "hovertemplate": "Candidat=MACRON<br>Service=%{x}<br>Heures=%{y}<extra></extra>",
         "legendgroup": "MACRON",
         "marker": {
          "color": "#FF6692",
          "pattern": {
           "shape": ""
          }
         },
         "name": "MACRON",
         "offsetgroup": "MACRON",
         "orientation": "v",
         "showlegend": true,
         "textposition": "auto",
         "type": "bar",
         "x": [
          "TF1",
          "France2",
          "France3",
          "France5",
          "M6",
          "C8",
          "TMC",
          "BFMTV",
          "Cnews",
          "RT France",
          "RMCDecouverte",
          "RMC Story",
          "LCI",
          "FranceinfoTV",
          "TV5Monde",
          "France24",
          "Euronews",
          "RFI",
          "FranceInfo",
          "FranceCulture",
          "FranceInter",
          "RadioClassique",
          "BFMBusiness",
          "RMC",
          "RTL",
          "Europe1",
          "SudRadio"
         ],
         "xaxis": "x",
         "y": [
          1.1494444444444445,
          3.075277777777778,
          0.9572222222222222,
          5.2027777777777775,
          0.49416666666666664,
          4.257777777777778,
          3.386388888888889,
          10.516388888888889,
          10.235277777777778,
          6.5505555555555555,
          0.8427777777777777,
          3.895277777777778,
          8.867222222222223,
          19.6275,
          2.6308333333333334,
          11.088611111111112,
          3.0605555555555557,
          2.371111111111111,
          6.114722222222222,
          4.154166666666667,
          5.998333333333333,
          5.2941666666666665,
          5.441666666666666,
          9.125555555555556,
          8.595833333333333,
          11.087777777777777,
          5.469166666666666
         ],
         "yaxis": "y"
        },
        {
         "alignmentgroup": "True",
         "hovertemplate": "Candidat=POUTOU<br>Service=%{x}<br>Heures=%{y}<extra></extra>",
         "legendgroup": "POUTOU",
         "marker": {
          "color": "#B6E880",
          "pattern": {
           "shape": ""
          }
         },
         "name": "POUTOU",
         "offsetgroup": "POUTOU",
         "orientation": "v",
         "showlegend": true,
         "textposition": "auto",
         "type": "bar",
         "x": [
          "TF1",
          "France2",
          "France3",
          "France5",
          "M6",
          "C8",
          "TMC",
          "BFMTV",
          "Cnews",
          "RT France",
          "RMC Story",
          "LCI",
          "FranceinfoTV",
          "TV5Monde",
          "France24",
          "Euronews",
          "RFI",
          "FranceInfo",
          "FranceCulture",
          "FranceInter",
          "RadioClassique",
          "RMC",
          "RTL",
          "SudRadio"
         ],
         "xaxis": "x",
         "y": [
          0.03722222222222222,
          0.47888888888888886,
          0.021111111111111112,
          0.30972222222222223,
          0.018055555555555554,
          0.1613888888888889,
          0.18138888888888888,
          0.09972222222222223,
          0.4411111111111111,
          0.1986111111111111,
          0.5605555555555556,
          2.7827777777777776,
          0.29583333333333334,
          0.3383333333333333,
          0.13472222222222222,
          0.35388888888888886,
          0.21666666666666667,
          0.8905555555555555,
          0.0375,
          0.28833333333333333,
          0.05138888888888889,
          0.5763888888888888,
          0.0475,
          0.14166666666666666
         ],
         "yaxis": "y"
        },
        {
         "alignmentgroup": "True",
         "hovertemplate": "Candidat=ROUSSEL<br>Service=%{x}<br>Heures=%{y}<extra></extra>",
         "legendgroup": "ROUSSEL",
         "marker": {
          "color": "#FF97FF",
          "pattern": {
           "shape": ""
          }
         },
         "name": "ROUSSEL",
         "offsetgroup": "ROUSSEL",
         "orientation": "v",
         "showlegend": true,
         "textposition": "auto",
         "type": "bar",
         "x": [
          "TF1",
          "France2",
          "France3",
          "France5",
          "M6",
          "C8",
          "TMC",
          "BFMTV",
          "Cnews",
          "RT France",
          "RMCDecouverte",
          "RMC Story",
          "LCI",
          "FranceinfoTV",
          "TV5Monde",
          "France24",
          "Euronews",
          "RFI",
          "FranceInfo",
          "FranceCulture",
          "FranceInter",
          "RadioClassique",
          "BFMBusiness",
          "RMC",
          "RTL",
          "Europe1",
          "SudRadio"
         ],
         "xaxis": "x",
         "y": [
          0.18222222222222223,
          0.8738888888888889,
          0.5691666666666667,
          2.468611111111111,
          0.11361111111111111,
          0.6936111111111111,
          0.3572222222222222,
          5.2375,
          7.936388888888889,
          1.4397222222222221,
          0.043055555555555555,
          1.225,
          11.025,
          4.883611111111111,
          0.14833333333333334,
          1.1180555555555556,
          1.4383333333333332,
          0.7733333333333333,
          4.686944444444444,
          0.5927777777777777,
          1.5769444444444445,
          0.7225,
          1.2002777777777778,
          2.691388888888889,
          1.561388888888889,
          1.833888888888889,
          1.0597222222222222
         ],
         "yaxis": "y"
        },
        {
         "alignmentgroup": "True",
         "hovertemplate": "Candidat=ZEMMOUR<br>Service=%{x}<br>Heures=%{y}<extra></extra>",
         "legendgroup": "ZEMMOUR",
         "marker": {
          "color": "#FECB52",
          "pattern": {
           "shape": ""
          }
         },
         "name": "ZEMMOUR",
         "offsetgroup": "ZEMMOUR",
         "orientation": "v",
         "showlegend": true,
         "textposition": "auto",
         "type": "bar",
         "x": [
          "TF1",
          "France2",
          "France3",
          "France5",
          "M6",
          "C8",
          "TMC",
          "BFMTV",
          "Cnews",
          "RT France",
          "RMCDecouverte",
          "RMC Story",
          "LCI",
          "FranceinfoTV",
          "TV5Monde",
          "France24",
          "Euronews",
          "RFI",
          "FranceInfo",
          "FranceCulture",
          "FranceInter",
          "RadioClassique",
          "BFMBusiness",
          "RMC",
          "RTL",
          "Europe1",
          "SudRadio"
         ],
         "xaxis": "x",
         "y": [
          0.6538888888888889,
          2.0455555555555556,
          0.6461111111111111,
          4.914722222222222,
          0.24861111111111112,
          2.733888888888889,
          1.7161111111111111,
          6.9325,
          16.239166666666666,
          3.6927777777777777,
          0.21083333333333334,
          2.4869444444444446,
          22.022777777777776,
          9.978055555555555,
          0.7583333333333333,
          2.528611111111111,
          1.6141666666666667,
          1.1852777777777779,
          10.768611111111111,
          1.2225,
          3.8969444444444443,
          1.5266666666666666,
          2.1633333333333336,
          5.8405555555555555,
          6.248055555555555,
          5.204166666666667,
          2.7505555555555556
         ],
         "yaxis": "y"
        }
       ],
       "layout": {
        "autosize": true,
        "barmode": "relative",
        "legend": {
         "title": {
          "text": "Candidat"
         },
         "tracegroupgap": 0
        },
        "margin": {
         "t": 60
        },
        "template": {
         "data": {
          "bar": [
           {
            "error_x": {
             "color": "#2a3f5f"
            },
            "error_y": {
             "color": "#2a3f5f"
            },
            "marker": {
             "line": {
              "color": "#E5ECF6",
              "width": 0.5
             },
             "pattern": {
              "fillmode": "overlay",
              "size": 10,
              "solidity": 0.2
             }
            },
            "type": "bar"
           }
          ],
          "barpolar": [
           {
            "marker": {
             "line": {
              "color": "#E5ECF6",
              "width": 0.5
             },
             "pattern": {
              "fillmode": "overlay",
              "size": 10,
              "solidity": 0.2
             }
            },
            "type": "barpolar"
           }
          ],
          "carpet": [
           {
            "aaxis": {
             "endlinecolor": "#2a3f5f",
             "gridcolor": "white",
             "linecolor": "white",
             "minorgridcolor": "white",
             "startlinecolor": "#2a3f5f"
            },
            "baxis": {
             "endlinecolor": "#2a3f5f",
             "gridcolor": "white",
             "linecolor": "white",
             "minorgridcolor": "white",
             "startlinecolor": "#2a3f5f"
            },
            "type": "carpet"
           }
          ],
          "choropleth": [
           {
            "colorbar": {
             "outlinewidth": 0,
             "ticks": ""
            },
            "type": "choropleth"
           }
          ],
          "contour": [
           {
            "colorbar": {
             "outlinewidth": 0,
             "ticks": ""
            },
            "colorscale": [
             [
              0,
              "#0d0887"
             ],
             [
              0.1111111111111111,
              "#46039f"
             ],
             [
              0.2222222222222222,
              "#7201a8"
             ],
             [
              0.3333333333333333,
              "#9c179e"
             ],
             [
              0.4444444444444444,
              "#bd3786"
             ],
             [
              0.5555555555555556,
              "#d8576b"
             ],
             [
              0.6666666666666666,
              "#ed7953"
             ],
             [
              0.7777777777777778,
              "#fb9f3a"
             ],
             [
              0.8888888888888888,
              "#fdca26"
             ],
             [
              1,
              "#f0f921"
             ]
            ],
            "type": "contour"
           }
          ],
          "contourcarpet": [
           {
            "colorbar": {
             "outlinewidth": 0,
             "ticks": ""
            },
            "type": "contourcarpet"
           }
          ],
          "heatmap": [
           {
            "colorbar": {
             "outlinewidth": 0,
             "ticks": ""
            },
            "colorscale": [
             [
              0,
              "#0d0887"
             ],
             [
              0.1111111111111111,
              "#46039f"
             ],
             [
              0.2222222222222222,
              "#7201a8"
             ],
             [
              0.3333333333333333,
              "#9c179e"
             ],
             [
              0.4444444444444444,
              "#bd3786"
             ],
             [
              0.5555555555555556,
              "#d8576b"
             ],
             [
              0.6666666666666666,
              "#ed7953"
             ],
             [
              0.7777777777777778,
              "#fb9f3a"
             ],
             [
              0.8888888888888888,
              "#fdca26"
             ],
             [
              1,
              "#f0f921"
             ]
            ],
            "type": "heatmap"
           }
          ],
          "heatmapgl": [
           {
            "colorbar": {
             "outlinewidth": 0,
             "ticks": ""
            },
            "colorscale": [
             [
              0,
              "#0d0887"
             ],
             [
              0.1111111111111111,
              "#46039f"
             ],
             [
              0.2222222222222222,
              "#7201a8"
             ],
             [
              0.3333333333333333,
              "#9c179e"
             ],
             [
              0.4444444444444444,
              "#bd3786"
             ],
             [
              0.5555555555555556,
              "#d8576b"
             ],
             [
              0.6666666666666666,
              "#ed7953"
             ],
             [
              0.7777777777777778,
              "#fb9f3a"
             ],
             [
              0.8888888888888888,
              "#fdca26"
             ],
             [
              1,
              "#f0f921"
             ]
            ],
            "type": "heatmapgl"
           }
          ],
          "histogram": [
           {
            "marker": {
             "pattern": {
              "fillmode": "overlay",
              "size": 10,
              "solidity": 0.2
             }
            },
            "type": "histogram"
           }
          ],
          "histogram2d": [
           {
            "colorbar": {
             "outlinewidth": 0,
             "ticks": ""
            },
            "colorscale": [
             [
              0,
              "#0d0887"
             ],
             [
              0.1111111111111111,
              "#46039f"
             ],
             [
              0.2222222222222222,
              "#7201a8"
             ],
             [
              0.3333333333333333,
              "#9c179e"
             ],
             [
              0.4444444444444444,
              "#bd3786"
             ],
             [
              0.5555555555555556,
              "#d8576b"
             ],
             [
              0.6666666666666666,
              "#ed7953"
             ],
             [
              0.7777777777777778,
              "#fb9f3a"
             ],
             [
              0.8888888888888888,
              "#fdca26"
             ],
             [
              1,
              "#f0f921"
             ]
            ],
            "type": "histogram2d"
           }
          ],
          "histogram2dcontour": [
           {
            "colorbar": {
             "outlinewidth": 0,
             "ticks": ""
            },
            "colorscale": [
             [
              0,
              "#0d0887"
             ],
             [
              0.1111111111111111,
              "#46039f"
             ],
             [
              0.2222222222222222,
              "#7201a8"
             ],
             [
              0.3333333333333333,
              "#9c179e"
             ],
             [
              0.4444444444444444,
              "#bd3786"
             ],
             [
              0.5555555555555556,
              "#d8576b"
             ],
             [
              0.6666666666666666,
              "#ed7953"
             ],
             [
              0.7777777777777778,
              "#fb9f3a"
             ],
             [
              0.8888888888888888,
              "#fdca26"
             ],
             [
              1,
              "#f0f921"
             ]
            ],
            "type": "histogram2dcontour"
           }
          ],
          "mesh3d": [
           {
            "colorbar": {
             "outlinewidth": 0,
             "ticks": ""
            },
            "type": "mesh3d"
           }
          ],
          "parcoords": [
           {
            "line": {
             "colorbar": {
              "outlinewidth": 0,
              "ticks": ""
             }
            },
            "type": "parcoords"
           }
          ],
          "pie": [
           {
            "automargin": true,
            "type": "pie"
           }
          ],
          "scatter": [
           {
            "fillpattern": {
             "fillmode": "overlay",
             "size": 10,
             "solidity": 0.2
            },
            "type": "scatter"
           }
          ],
          "scatter3d": [
           {
            "line": {
             "colorbar": {
              "outlinewidth": 0,
              "ticks": ""
             }
            },
            "marker": {
             "colorbar": {
              "outlinewidth": 0,
              "ticks": ""
             }
            },
            "type": "scatter3d"
           }
          ],
          "scattercarpet": [
           {
            "marker": {
             "colorbar": {
              "outlinewidth": 0,
              "ticks": ""
             }
            },
            "type": "scattercarpet"
           }
          ],
          "scattergeo": [
           {
            "marker": {
             "colorbar": {
              "outlinewidth": 0,
              "ticks": ""
             }
            },
            "type": "scattergeo"
           }
          ],
          "scattergl": [
           {
            "marker": {
             "colorbar": {
              "outlinewidth": 0,
              "ticks": ""
             }
            },
            "type": "scattergl"
           }
          ],
          "scattermapbox": [
           {
            "marker": {
             "colorbar": {
              "outlinewidth": 0,
              "ticks": ""
             }
            },
            "type": "scattermapbox"
           }
          ],
          "scatterpolar": [
           {
            "marker": {
             "colorbar": {
              "outlinewidth": 0,
              "ticks": ""
             }
            },
            "type": "scatterpolar"
           }
          ],
          "scatterpolargl": [
           {
            "marker": {
             "colorbar": {
              "outlinewidth": 0,
              "ticks": ""
             }
            },
            "type": "scatterpolargl"
           }
          ],
          "scatterternary": [
           {
            "marker": {
             "colorbar": {
              "outlinewidth": 0,
              "ticks": ""
             }
            },
            "type": "scatterternary"
           }
          ],
          "surface": [
           {
            "colorbar": {
             "outlinewidth": 0,
             "ticks": ""
            },
            "colorscale": [
             [
              0,
              "#0d0887"
             ],
             [
              0.1111111111111111,
              "#46039f"
             ],
             [
              0.2222222222222222,
              "#7201a8"
             ],
             [
              0.3333333333333333,
              "#9c179e"
             ],
             [
              0.4444444444444444,
              "#bd3786"
             ],
             [
              0.5555555555555556,
              "#d8576b"
             ],
             [
              0.6666666666666666,
              "#ed7953"
             ],
             [
              0.7777777777777778,
              "#fb9f3a"
             ],
             [
              0.8888888888888888,
              "#fdca26"
             ],
             [
              1,
              "#f0f921"
             ]
            ],
            "type": "surface"
           }
          ],
          "table": [
           {
            "cells": {
             "fill": {
              "color": "#EBF0F8"
             },
             "line": {
              "color": "white"
             }
            },
            "header": {
             "fill": {
              "color": "#C8D4E3"
             },
             "line": {
              "color": "white"
             }
            },
            "type": "table"
           }
          ]
         },
         "layout": {
          "annotationdefaults": {
           "arrowcolor": "#2a3f5f",
           "arrowhead": 0,
           "arrowwidth": 1
          },
          "autotypenumbers": "strict",
          "coloraxis": {
           "colorbar": {
            "outlinewidth": 0,
            "ticks": ""
           }
          },
          "colorscale": {
           "diverging": [
            [
             0,
             "#8e0152"
            ],
            [
             0.1,
             "#c51b7d"
            ],
            [
             0.2,
             "#de77ae"
            ],
            [
             0.3,
             "#f1b6da"
            ],
            [
             0.4,
             "#fde0ef"
            ],
            [
             0.5,
             "#f7f7f7"
            ],
            [
             0.6,
             "#e6f5d0"
            ],
            [
             0.7,
             "#b8e186"
            ],
            [
             0.8,
             "#7fbc41"
            ],
            [
             0.9,
             "#4d9221"
            ],
            [
             1,
             "#276419"
            ]
           ],
           "sequential": [
            [
             0,
             "#0d0887"
            ],
            [
             0.1111111111111111,
             "#46039f"
            ],
            [
             0.2222222222222222,
             "#7201a8"
            ],
            [
             0.3333333333333333,
             "#9c179e"
            ],
            [
             0.4444444444444444,
             "#bd3786"
            ],
            [
             0.5555555555555556,
             "#d8576b"
            ],
            [
             0.6666666666666666,
             "#ed7953"
            ],
            [
             0.7777777777777778,
             "#fb9f3a"
            ],
            [
             0.8888888888888888,
             "#fdca26"
            ],
            [
             1,
             "#f0f921"
            ]
           ],
           "sequentialminus": [
            [
             0,
             "#0d0887"
            ],
            [
             0.1111111111111111,
             "#46039f"
            ],
            [
             0.2222222222222222,
             "#7201a8"
            ],
            [
             0.3333333333333333,
             "#9c179e"
            ],
            [
             0.4444444444444444,
             "#bd3786"
            ],
            [
             0.5555555555555556,
             "#d8576b"
            ],
            [
             0.6666666666666666,
             "#ed7953"
            ],
            [
             0.7777777777777778,
             "#fb9f3a"
            ],
            [
             0.8888888888888888,
             "#fdca26"
            ],
            [
             1,
             "#f0f921"
            ]
           ]
          },
          "colorway": [
           "#636efa",
           "#EF553B",
           "#00cc96",
           "#ab63fa",
           "#FFA15A",
           "#19d3f3",
           "#FF6692",
           "#B6E880",
           "#FF97FF",
           "#FECB52"
          ],
          "font": {
           "color": "#2a3f5f"
          },
          "geo": {
           "bgcolor": "white",
           "lakecolor": "white",
           "landcolor": "#E5ECF6",
           "showlakes": true,
           "showland": true,
           "subunitcolor": "white"
          },
          "hoverlabel": {
           "align": "left"
          },
          "hovermode": "closest",
          "mapbox": {
           "style": "light"
          },
          "paper_bgcolor": "white",
          "plot_bgcolor": "#E5ECF6",
          "polar": {
           "angularaxis": {
            "gridcolor": "white",
            "linecolor": "white",
            "ticks": ""
           },
           "bgcolor": "#E5ECF6",
           "radialaxis": {
            "gridcolor": "white",
            "linecolor": "white",
            "ticks": ""
           }
          },
          "scene": {
           "xaxis": {
            "backgroundcolor": "#E5ECF6",
            "gridcolor": "white",
            "gridwidth": 2,
            "linecolor": "white",
            "showbackground": true,
            "ticks": "",
            "zerolinecolor": "white"
           },
           "yaxis": {
            "backgroundcolor": "#E5ECF6",
            "gridcolor": "white",
            "gridwidth": 2,
            "linecolor": "white",
            "showbackground": true,
            "ticks": "",
            "zerolinecolor": "white"
           },
           "zaxis": {
            "backgroundcolor": "#E5ECF6",
            "gridcolor": "white",
            "gridwidth": 2,
            "linecolor": "white",
            "showbackground": true,
            "ticks": "",
            "zerolinecolor": "white"
           }
          },
          "shapedefaults": {
           "line": {
            "color": "#2a3f5f"
           }
          },
          "ternary": {
           "aaxis": {
            "gridcolor": "white",
            "linecolor": "white",
            "ticks": ""
           },
           "baxis": {
            "gridcolor": "white",
            "linecolor": "white",
            "ticks": ""
           },
           "bgcolor": "#E5ECF6",
           "caxis": {
            "gridcolor": "white",
            "linecolor": "white",
            "ticks": ""
           }
          },
          "title": {
           "x": 0.05
          },
          "xaxis": {
           "automargin": true,
           "gridcolor": "white",
           "linecolor": "white",
           "ticks": "",
           "title": {
            "standoff": 15
           },
           "zerolinecolor": "white",
           "zerolinewidth": 2
          },
          "yaxis": {
           "automargin": true,
           "gridcolor": "white",
           "linecolor": "white",
           "ticks": "",
           "title": {
            "standoff": 15
           },
           "zerolinecolor": "white",
           "zerolinewidth": 2
          }
         }
        },
        "xaxis": {
         "anchor": "y",
         "autorange": true,
         "categoryorder": "total descending",
         "domain": [
          0,
          1
         ],
         "range": [
          -0.5,
          26.5
         ],
         "title": {
          "text": "Service"
         },
         "type": "category"
        },
        "yaxis": {
         "anchor": "x",
         "autorange": true,
         "domain": [
          0,
          1
         ],
         "range": [
          0,
          113.74239766081872
         ],
         "title": {
          "text": "Heures"
         },
         "type": "linear"
        }
       }
      },
      "image/png": "[encoded data removed]",
      "text/html": [
       "<div>                            <div id=\"08ba79eb-3a45-4bae-b2d8-060fd5afadfb\" class=\"plotly-graph-div\" style=\"height:525px; width:100%;\"></div>            <script type=\"text/javascript\">                require([\"plotly\"], function(Plotly) {                    window.PLOTLYENV=window.PLOTLYENV || {};                                    if (document.getElementById(\"08ba79eb-3a45-4bae-b2d8-060fd5afadfb\")) {                    Plotly.newPlot(                        \"08ba79eb-3a45-4bae-b2d8-060fd5afadfb\",                        [{\"alignmentgroup\":\"True\",\"hovertemplate\":\"Candidat=ARTHAUD<br>Service=%{x}<br>Heures=%{y}<extra></extra>\",\"legendgroup\":\"ARTHAUD\",\"marker\":{\"color\":\"#636efa\",\"pattern\":{\"shape\":\"\"}},\"name\":\"ARTHAUD\",\"offsetgroup\":\"ARTHAUD\",\"orientation\":\"v\",\"showlegend\":true,\"textposition\":\"auto\",\"x\":[\"TF1\",\"France2\",\"France3\",\"France5\",\"M6\",\"C8\",\"TMC\",\"BFMTV\",\"Cnews\",\"RT France\",\"RMCDecouverte\",\"RMC Story\",\"LCI\",\"FranceinfoTV\",\"TV5Monde\",\"France24\",\"Euronews\",\"RFI\",\"FranceInfo\",\"FranceCulture\",\"FranceInter\",\"RadioClassique\",\"BFMBusiness\",\"RMC\",\"RTL\",\"SudRadio\"],\"xaxis\":\"x\",\"y\":[0.06805555555555555,0.12944444444444445,0.025833333333333333,0.18888888888888888,0.01888888888888889,0.21083333333333334,0.12611111111111112,0.6441666666666667,0.3288888888888889,0.09444444444444444,0.006944444444444444,0.525,2.7319444444444443,0.8102777777777778,0.012777777777777779,0.4777777777777778,0.39222222222222225,0.5,0.4361111111111111,0.075,0.2811111111111111,0.02861111111111111,0.22583333333333333,1.2694444444444444,0.12361111111111112,0.3236111111111111],\"yaxis\":\"y\",\"type\":\"bar\"},{\"alignmentgroup\":\"True\",\"hovertemplate\":\"Candidat=DUPONT-AIGNAN<br>Service=%{x}<br>Heures=%{y}<extra></extra>\",\"legendgroup\":\"DUPONT-AIGNAN\",\"marker\":{\"color\":\"#EF553B\",\"pattern\":{\"shape\":\"\"}},\"name\":\"DUPONT-AIGNAN\",\"offsetgroup\":\"DUPONT-AIGNAN\",\"orientation\":\"v\",\"showlegend\":true,\"textposition\":\"auto\",\"x\":[\"TF1\",\"France2\",\"France3\",\"France5\",\"M6\",\"C8\",\"TMC\",\"BFMTV\",\"Cnews\",\"RT France\",\"RMC Story\",\"LCI\",\"FranceinfoTV\",\"TV5Monde\",\"France24\",\"Euronews\",\"RFI\",\"FranceInfo\",\"FranceCulture\",\"FranceInter\",\"RadioClassique\",\"BFMBusiness\",\"RMC\",\"RTL\",\"Europe1\",\"SudRadio\"],\"xaxis\":\"x\",\"y\":[0.1502777777777778,0.6597222222222222,0.185,0.9116666666666666,0.028888888888888888,0.39694444444444443,0.24138888888888888,1.1336111111111111,3.388333333333333,0.19527777777777777,0.16083333333333333,5.073333333333333,0.8791666666666667,0.029166666666666667,0.5994444444444444,0.3933333333333333,0.7555555555555555,1.0430555555555556,0.028055555555555556,0.3997222222222222,0.25416666666666665,0.7486111111111111,0.5188888888888888,0.45416666666666666,0.45805555555555555,0.3388888888888889],\"yaxis\":\"y\",\"type\":\"bar\"},{\"alignmentgroup\":\"True\",\"hovertemplate\":\"Candidat=HIDALGO<br>Service=%{x}<br>Heures=%{y}<extra></extra>\",\"legendgroup\":\"HIDALGO\",\"marker\":{\"color\":\"#00cc96\",\"pattern\":{\"shape\":\"\"}},\"name\":\"HIDALGO\",\"offsetgroup\":\"HIDALGO\",\"orientation\":\"v\",\"showlegend\":true,\"textposition\":\"auto\",\"x\":[\"TF1\",\"France2\",\"France3\",\"France5\",\"M6\",\"C8\",\"TMC\",\"BFMTV\",\"Cnews\",\"RT France\",\"RMCDecouverte\",\"RMC Story\",\"LCI\",\"FranceinfoTV\",\"TV5Monde\",\"France24\",\"Euronews\",\"RFI\",\"FranceInfo\",\"FranceCulture\",\"FranceInter\",\"RadioClassique\",\"BFMBusiness\",\"RMC\",\"RTL\",\"Europe1\",\"SudRadio\"],\"xaxis\":\"x\",\"y\":[0.2713888888888889,1.12,0.46055555555555555,2.0502777777777776,0.09083333333333334,1.1727777777777777,0.6436111111111111,4.2058333333333335,11.069722222222222,1.3822222222222222,0.06944444444444445,0.37027777777777776,19.859166666666667,8.146944444444445,1.8769444444444445,1.5997222222222223,1.0291666666666666,1.1525,5.170555555555556,0.6955555555555556,1.6630555555555555,0.9544444444444444,1.3388888888888888,1.5005555555555556,1.3480555555555556,3.8983333333333334,0.9552777777777778],\"yaxis\":\"y\",\"type\":\"bar\"},{\"alignmentgroup\":\"True\",\"hovertemplate\":\"Candidat=JADOT<br>Service=%{x}<br>Heures=%{y}<extra></extra>\",\"legendgroup\":\"JADOT\",\"marker\":{\"color\":\"#ab63fa\",\"pattern\":{\"shape\":\"\"}},\"name\":\"JADOT\",\"offsetgroup\":\"JADOT\",\"orientation\":\"v\",\"showlegend\":true,\"textposition\":\"auto\",\"x\":[\"TF1\",\"France2\",\"France3\",\"France5\",\"M6\",\"C8\",\"TMC\",\"BFMTV\",\"Cnews\",\"RT France\",\"RMCDecouverte\",\"RMC Story\",\"LCI\",\"FranceinfoTV\",\"TV5Monde\",\"France24\",\"Euronews\",\"RFI\",\"FranceInfo\",\"FranceCulture\",\"FranceInter\",\"RadioClassique\",\"BFMBusiness\",\"RMC\",\"RTL\",\"Europe1\",\"SudRadio\"],\"xaxis\":\"x\",\"y\":[0.37416666666666665,3.4366666666666665,0.5825,2.4844444444444442,0.14416666666666667,1.1541666666666666,0.71,9.253333333333334,11.249444444444444,1.2797222222222222,0.15166666666666667,1.4244444444444444,21.483333333333334,8.456666666666667,2.098888888888889,1.6152777777777778,0.9066666666666666,0.9508333333333333,7.393888888888889,1.0169444444444444,2.788611111111111,1.1266666666666667,1.4838888888888888,2.9186111111111113,3.734166666666667,1.6175,1.7016666666666667],\"yaxis\":\"y\",\"type\":\"bar\"},{\"alignmentgroup\":\"True\",\"hovertemplate\":\"Candidat=LASSALLE<br>Service=%{x}<br>Heures=%{y}<extra></extra>\",\"legendgroup\":\"LASSALLE\",\"marker\":{\"color\":\"#FFA15A\",\"pattern\":{\"shape\":\"\"}},\"name\":\"LASSALLE\",\"offsetgroup\":\"LASSALLE\",\"orientation\":\"v\",\"showlegend\":true,\"textposition\":\"auto\",\"x\":[\"TF1\",\"France2\",\"France3\",\"France5\",\"M6\",\"C8\",\"TMC\",\"BFMTV\",\"Cnews\",\"RT France\",\"RMCDecouverte\",\"RMC Story\",\"LCI\",\"FranceinfoTV\",\"TV5Monde\",\"France24\",\"Euronews\",\"RFI\",\"FranceInfo\",\"FranceCulture\",\"FranceInter\",\"RadioClassique\",\"BFMBusiness\",\"RMC\",\"RTL\",\"Europe1\",\"SudRadio\"],\"xaxis\":\"x\",\"y\":[0.06666666666666667,0.53,0.02277777777777778,0.35083333333333333,0.024166666666666666,0.15694444444444444,0.06388888888888888,0.5847222222222223,0.4305555555555556,0.01611111111111111,0.0075,0.5919444444444445,3.5436111111111113,0.2088888888888889,0.26555555555555554,0.09388888888888888,0.44666666666666666,0.16972222222222222,0.28305555555555556,0.02,0.0475,0.01611111111111111,0.11527777777777778,1.1391666666666667,0.1897222222222222,0.45694444444444443,0.18888888888888888],\"yaxis\":\"y\",\"type\":\"bar\"},{\"alignmentgroup\":\"True\",\"hovertemplate\":\"Candidat=LE PEN<br>Service=%{x}<br>Heures=%{y}<extra></extra>\",\"legendgroup\":\"LE PEN\",\"marker\":{\"color\":\"#19d3f3\",\"pattern\":{\"shape\":\"\"}},\"name\":\"LE PEN\",\"offsetgroup\":\"LE PEN\",\"orientation\":\"v\",\"showlegend\":true,\"textposition\":\"auto\",\"x\":[\"TF1\",\"France2\",\"France3\",\"France5\",\"M6\",\"C8\",\"TMC\",\"BFMTV\",\"Cnews\",\"RT France\",\"RMCDecouverte\",\"RMC Story\",\"LCI\",\"FranceinfoTV\",\"TV5Monde\",\"France24\",\"Euronews\",\"RFI\",\"FranceInfo\",\"FranceCulture\",\"FranceInter\",\"RadioClassique\",\"BFMBusiness\",\"RMC\",\"RTL\",\"Europe1\",\"SudRadio\"],\"xaxis\":\"x\",\"y\":[0.8127777777777778,3.6891666666666665,0.7672222222222222,5.2825,0.2752777777777778,3.701388888888889,2.558333333333333,7.456666666666667,23.40222222222222,4.219166666666666,0.17083333333333334,2.763611111111111,10.66611111111111,10.46111111111111,3.073888888888889,3.6275,1.5302777777777778,1.9833333333333334,11.331666666666667,0.9991666666666666,3.985,2.6169444444444445,2.7055555555555557,8.566666666666666,5.864722222222222,5.782777777777778,2.5155555555555558],\"yaxis\":\"y\",\"type\":\"bar\"},{\"alignmentgroup\":\"True\",\"hovertemplate\":\"Candidat=MACRON<br>Service=%{x}<br>Heures=%{y}<extra></extra>\",\"legendgroup\":\"MACRON\",\"marker\":{\"color\":\"#FF6692\",\"pattern\":{\"shape\":\"\"}},\"name\":\"MACRON\",\"offsetgroup\":\"MACRON\",\"orientation\":\"v\",\"showlegend\":true,\"textposition\":\"auto\",\"x\":[\"TF1\",\"France2\",\"France3\",\"France5\",\"M6\",\"C8\",\"TMC\",\"BFMTV\",\"Cnews\",\"RT France\",\"RMCDecouverte\",\"RMC Story\",\"LCI\",\"FranceinfoTV\",\"TV5Monde\",\"France24\",\"Euronews\",\"RFI\",\"FranceInfo\",\"FranceCulture\",\"FranceInter\",\"RadioClassique\",\"BFMBusiness\",\"RMC\",\"RTL\",\"Europe1\",\"SudRadio\"],\"xaxis\":\"x\",\"y\":[1.1494444444444445,3.075277777777778,0.9572222222222222,5.2027777777777775,0.49416666666666664,4.257777777777778,3.386388888888889,10.516388888888889,10.235277777777778,6.5505555555555555,0.8427777777777777,3.895277777777778,8.867222222222223,19.6275,2.6308333333333334,11.088611111111112,3.0605555555555557,2.371111111111111,6.114722222222222,4.154166666666667,5.998333333333333,5.2941666666666665,5.441666666666666,9.125555555555556,8.595833333333333,11.087777777777777,5.469166666666666],\"yaxis\":\"y\",\"type\":\"bar\"},{\"alignmentgroup\":\"True\",\"hovertemplate\":\"Candidat=POUTOU<br>Service=%{x}<br>Heures=%{y}<extra></extra>\",\"legendgroup\":\"POUTOU\",\"marker\":{\"color\":\"#B6E880\",\"pattern\":{\"shape\":\"\"}},\"name\":\"POUTOU\",\"offsetgroup\":\"POUTOU\",\"orientation\":\"v\",\"showlegend\":true,\"textposition\":\"auto\",\"x\":[\"TF1\",\"France2\",\"France3\",\"France5\",\"M6\",\"C8\",\"TMC\",\"BFMTV\",\"Cnews\",\"RT France\",\"RMC Story\",\"LCI\",\"FranceinfoTV\",\"TV5Monde\",\"France24\",\"Euronews\",\"RFI\",\"FranceInfo\",\"FranceCulture\",\"FranceInter\",\"RadioClassique\",\"RMC\",\"RTL\",\"SudRadio\"],\"xaxis\":\"x\",\"y\":[0.03722222222222222,0.47888888888888886,0.021111111111111112,0.30972222222222223,0.018055555555555554,0.1613888888888889,0.18138888888888888,0.09972222222222223,0.4411111111111111,0.1986111111111111,0.5605555555555556,2.7827777777777776,0.29583333333333334,0.3383333333333333,0.13472222222222222,0.35388888888888886,0.21666666666666667,0.8905555555555555,0.0375,0.28833333333333333,0.05138888888888889,0.5763888888888888,0.0475,0.14166666666666666],\"yaxis\":\"y\",\"type\":\"bar\"},{\"alignmentgroup\":\"True\",\"hovertemplate\":\"Candidat=ROUSSEL<br>Service=%{x}<br>Heures=%{y}<extra></extra>\",\"legendgroup\":\"ROUSSEL\",\"marker\":{\"color\":\"#FF97FF\",\"pattern\":{\"shape\":\"\"}},\"name\":\"ROUSSEL\",\"offsetgroup\":\"ROUSSEL\",\"orientation\":\"v\",\"showlegend\":true,\"textposition\":\"auto\",\"x\":[\"TF1\",\"France2\",\"France3\",\"France5\",\"M6\",\"C8\",\"TMC\",\"BFMTV\",\"Cnews\",\"RT France\",\"RMCDecouverte\",\"RMC Story\",\"LCI\",\"FranceinfoTV\",\"TV5Monde\",\"France24\",\"Euronews\",\"RFI\",\"FranceInfo\",\"FranceCulture\",\"FranceInter\",\"RadioClassique\",\"BFMBusiness\",\"RMC\",\"RTL\",\"Europe1\",\"SudRadio\"],\"xaxis\":\"x\",\"y\":[0.18222222222222223,0.8738888888888889,0.5691666666666667,2.468611111111111,0.11361111111111111,0.6936111111111111,0.3572222222222222,5.2375,7.936388888888889,1.4397222222222221,0.043055555555555555,1.225,11.025,4.883611111111111,0.14833333333333334,1.1180555555555556,1.4383333333333332,0.7733333333333333,4.686944444444444,0.5927777777777777,1.5769444444444445,0.7225,1.2002777777777778,2.691388888888889,1.561388888888889,1.833888888888889,1.0597222222222222],\"yaxis\":\"y\",\"type\":\"bar\"},{\"alignmentgroup\":\"True\",\"hovertemplate\":\"Candidat=ZEMMOUR<br>Service=%{x}<br>Heures=%{y}<extra></extra>\",\"legendgroup\":\"ZEMMOUR\",\"marker\":{\"color\":\"#FECB52\",\"pattern\":{\"shape\":\"\"}},\"name\":\"ZEMMOUR\",\"offsetgroup\":\"ZEMMOUR\",\"orientation\":\"v\",\"showlegend\":true,\"textposition\":\"auto\",\"x\":[\"TF1\",\"France2\",\"France3\",\"France5\",\"M6\",\"C8\",\"TMC\",\"BFMTV\",\"Cnews\",\"RT France\",\"RMCDecouverte\",\"RMC Story\",\"LCI\",\"FranceinfoTV\",\"TV5Monde\",\"France24\",\"Euronews\",\"RFI\",\"FranceInfo\",\"FranceCulture\",\"FranceInter\",\"RadioClassique\",\"BFMBusiness\",\"RMC\",\"RTL\",\"Europe1\",\"SudRadio\"],\"xaxis\":\"x\",\"y\":[0.6538888888888889,2.0455555555555556,0.6461111111111111,4.914722222222222,0.24861111111111112,2.733888888888889,1.7161111111111111,6.9325,16.239166666666666,3.6927777777777777,0.21083333333333334,2.4869444444444446,22.022777777777776,9.978055555555555,0.7583333333333333,2.528611111111111,1.6141666666666667,1.1852777777777779,10.768611111111111,1.2225,3.8969444444444443,1.5266666666666666,2.1633333333333336,5.8405555555555555,6.248055555555555,5.204166666666667,2.7505555555555556],\"yaxis\":\"y\",\"type\":\"bar\"}],                        {\"template\":{\"data\":{\"histogram2dcontour\":[{\"type\":\"histogram2dcontour\",\"colorbar\":{\"outlinewidth\":0,\"ticks\":\"\"},\"colorscale\":[[0.0,\"#0d0887\"],[0.1111111111111111,\"#46039f\"],[0.2222222222222222,\"#7201a8\"],[0.3333333333333333,\"#9c179e\"],[0.4444444444444444,\"#bd3786\"],[0.5555555555555556,\"#d8576b\"],[0.6666666666666666,\"#ed7953\"],[0.7777777777777778,\"#fb9f3a\"],[0.8888888888888888,\"#fdca26\"],[1.0,\"#f0f921\"]]}],\"choropleth\":[{\"type\":\"choropleth\",\"colorbar\":{\"outlinewidth\":0,\"ticks\":\"\"}}],\"histogram2d\":[{\"type\":\"histogram2d\",\"colorbar\":{\"outlinewidth\":0,\"ticks\":\"\"},\"colorscale\":[[0.0,\"#0d0887\"],[0.1111111111111111,\"#46039f\"],[0.2222222222222222,\"#7201a8\"],[0.3333333333333333,\"#9c179e\"],[0.4444444444444444,\"#bd3786\"],[0.5555555555555556,\"#d8576b\"],[0.6666666666666666,\"#ed7953\"],[0.7777777777777778,\"#fb9f3a\"],[0.8888888888888888,\"#fdca26\"],[1.0,\"#f0f921\"]]}],\"heatmap\":[{\"type\":\"heatmap\",\"colorbar\":{\"outlinewidth\":0,\"ticks\":\"\"},\"colorscale\":[[0.0,\"#0d0887\"],[0.1111111111111111,\"#46039f\"],[0.2222222222222222,\"#7201a8\"],[0.3333333333333333,\"#9c179e\"],[0.4444444444444444,\"#bd3786\"],[0.5555555555555556,\"#d8576b\"],[0.6666666666666666,\"#ed7953\"],[0.7777777777777778,\"#fb9f3a\"],[0.8888888888888888,\"#fdca26\"],[1.0,\"#f0f921\"]]}],\"heatmapgl\":[{\"type\":\"heatmapgl\",\"colorbar\":{\"outlinewidth\":0,\"ticks\":\"\"},\"colorscale\":[[0.0,\"#0d0887\"],[0.1111111111111111,\"#46039f\"],[0.2222222222222222,\"#7201a8\"],[0.3333333333333333,\"#9c179e\"],[0.4444444444444444,\"#bd3786\"],[0.5555555555555556,\"#d8576b\"],[0.6666666666666666,\"#ed7953\"],[0.7777777777777778,\"#fb9f3a\"],[0.8888888888888888,\"#fdca26\"],[1.0,\"#f0f921\"]]}],\"contourcarpet\":[{\"type\":\"contourcarpet\",\"colorbar\":{\"outlinewidth\":0,\"ticks\":\"\"}}],\"contour\":[{\"type\":\"contour\",\"colorbar\":{\"outlinewidth\":0,\"ticks\":\"\"},\"colorscale\":[[0.0,\"#0d0887\"],[0.1111111111111111,\"#46039f\"],[0.2222222222222222,\"#7201a8\"],[0.3333333333333333,\"#9c179e\"],[0.4444444444444444,\"#bd3786\"],[0.5555555555555556,\"#d8576b\"],[0.6666666666666666,\"#ed7953\"],[0.7777777777777778,\"#fb9f3a\"],[0.8888888888888888,\"#fdca26\"],[1.0,\"#f0f921\"]]}],\"surface\":[{\"type\":\"surface\",\"colorbar\":{\"outlinewidth\":0,\"ticks\":\"\"},\"colorscale\":[[0.0,\"#0d0887\"],[0.1111111111111111,\"#46039f\"],[0.2222222222222222,\"#7201a8\"],[0.3333333333333333,\"#9c179e\"],[0.4444444444444444,\"#bd3786\"],[0.5555555555555556,\"#d8576b\"],[0.6666666666666666,\"#ed7953\"],[0.7777777777777778,\"#fb9f3a\"],[0.8888888888888888,\"#fdca26\"],[1.0,\"#f0f921\"]]}],\"mesh3d\":[{\"type\":\"mesh3d\",\"colorbar\":{\"outlinewidth\":0,\"ticks\":\"\"}}],\"scatter\":[{\"fillpattern\":{\"fillmode\":\"overlay\",\"size\":10,\"solidity\":0.2},\"type\":\"scatter\"}],\"parcoords\":[{\"type\":\"parcoords\",\"line\":{\"colorbar\":{\"outlinewidth\":0,\"ticks\":\"\"}}}],\"scatterpolargl\":[{\"type\":\"scatterpolargl\",\"marker\":{\"colorbar\":{\"outlinewidth\":0,\"ticks\":\"\"}}}],\"bar\":[{\"error_x\":{\"color\":\"#2a3f5f\"},\"error_y\":{\"color\":\"#2a3f5f\"},\"marker\":{\"line\":{\"color\":\"#E5ECF6\",\"width\":0.5},\"pattern\":{\"fillmode\":\"overlay\",\"size\":10,\"solidity\":0.2}},\"type\":\"bar\"}],\"scattergeo\":[{\"type\":\"scattergeo\",\"marker\":{\"colorbar\":{\"outlinewidth\":0,\"ticks\":\"\"}}}],\"scatterpolar\":[{\"type\":\"scatterpolar\",\"marker\":{\"colorbar\":{\"outlinewidth\":0,\"ticks\":\"\"}}}],\"histogram\":[{\"marker\":{\"pattern\":{\"fillmode\":\"overlay\",\"size\":10,\"solidity\":0.2}},\"type\":\"histogram\"}],\"scattergl\":[{\"type\":\"scattergl\",\"marker\":{\"colorbar\":{\"outlinewidth\":0,\"ticks\":\"\"}}}],\"scatter3d\":[{\"type\":\"scatter3d\",\"line\":{\"colorbar\":{\"outlinewidth\":0,\"ticks\":\"\"}},\"marker\":{\"colorbar\":{\"outlinewidth\":0,\"ticks\":\"\"}}}],\"scattermapbox\":[{\"type\":\"scattermapbox\",\"marker\":{\"colorbar\":{\"outlinewidth\":0,\"ticks\":\"\"}}}],\"scatterternary\":[{\"type\":\"scatterternary\",\"marker\":{\"colorbar\":{\"outlinewidth\":0,\"ticks\":\"\"}}}],\"scattercarpet\":[{\"type\":\"scattercarpet\",\"marker\":{\"colorbar\":{\"outlinewidth\":0,\"ticks\":\"\"}}}],\"carpet\":[{\"aaxis\":{\"endlinecolor\":\"#2a3f5f\",\"gridcolor\":\"white\",\"linecolor\":\"white\",\"minorgridcolor\":\"white\",\"startlinecolor\":\"#2a3f5f\"},\"baxis\":{\"endlinecolor\":\"#2a3f5f\",\"gridcolor\":\"white\",\"linecolor\":\"white\",\"minorgridcolor\":\"white\",\"startlinecolor\":\"#2a3f5f\"},\"type\":\"carpet\"}],\"table\":[{\"cells\":{\"fill\":{\"color\":\"#EBF0F8\"},\"line\":{\"color\":\"white\"}},\"header\":{\"fill\":{\"color\":\"#C8D4E3\"},\"line\":{\"color\":\"white\"}},\"type\":\"table\"}],\"barpolar\":[{\"marker\":{\"line\":{\"color\":\"#E5ECF6\",\"width\":0.5},\"pattern\":{\"fillmode\":\"overlay\",\"size\":10,\"solidity\":0.2}},\"type\":\"barpolar\"}],\"pie\":[{\"automargin\":true,\"type\":\"pie\"}]},\"layout\":{\"autotypenumbers\":\"strict\",\"colorway\":[\"#636efa\",\"#EF553B\",\"#00cc96\",\"#ab63fa\",\"#FFA15A\",\"#19d3f3\",\"#FF6692\",\"#B6E880\",\"#FF97FF\",\"#FECB52\"],\"font\":{\"color\":\"#2a3f5f\"},\"hovermode\":\"closest\",\"hoverlabel\":{\"align\":\"left\"},\"paper_bgcolor\":\"white\",\"plot_bgcolor\":\"#E5ECF6\",\"polar\":{\"bgcolor\":\"#E5ECF6\",\"angularaxis\":{\"gridcolor\":\"white\",\"linecolor\":\"white\",\"ticks\":\"\"},\"radialaxis\":{\"gridcolor\":\"white\",\"linecolor\":\"white\",\"ticks\":\"\"}},\"ternary\":{\"bgcolor\":\"#E5ECF6\",\"aaxis\":{\"gridcolor\":\"white\",\"linecolor\":\"white\",\"ticks\":\"\"},\"baxis\":{\"gridcolor\":\"white\",\"linecolor\":\"white\",\"ticks\":\"\"},\"caxis\":{\"gridcolor\":\"white\",\"linecolor\":\"white\",\"ticks\":\"\"}},\"coloraxis\":{\"colorbar\":{\"outlinewidth\":0,\"ticks\":\"\"}},\"colorscale\":{\"sequential\":[[0.0,\"#0d0887\"],[0.1111111111111111,\"#46039f\"],[0.2222222222222222,\"#7201a8\"],[0.3333333333333333,\"#9c179e\"],[0.4444444444444444,\"#bd3786\"],[0.5555555555555556,\"#d8576b\"],[0.6666666666666666,\"#ed7953\"],[0.7777777777777778,\"#fb9f3a\"],[0.8888888888888888,\"#fdca26\"],[1.0,\"#f0f921\"]],\"sequentialminus\":[[0.0,\"#0d0887\"],[0.1111111111111111,\"#46039f\"],[0.2222222222222222,\"#7201a8\"],[0.3333333333333333,\"#9c179e\"],[0.4444444444444444,\"#bd3786\"],[0.5555555555555556,\"#d8576b\"],[0.6666666666666666,\"#ed7953\"],[0.7777777777777778,\"#fb9f3a\"],[0.8888888888888888,\"#fdca26\"],[1.0,\"#f0f921\"]],\"diverging\":[[0,\"#8e0152\"],[0.1,\"#c51b7d\"],[0.2,\"#de77ae\"],[0.3,\"#f1b6da\"],[0.4,\"#fde0ef\"],[0.5,\"#f7f7f7\"],[0.6,\"#e6f5d0\"],[0.7,\"#b8e186\"],[0.8,\"#7fbc41\"],[0.9,\"#4d9221\"],[1,\"#276419\"]]},\"xaxis\":{\"gridcolor\":\"white\",\"linecolor\":\"white\",\"ticks\":\"\",\"title\":{\"standoff\":15},\"zerolinecolor\":\"white\",\"automargin\":true,\"zerolinewidth\":2},\"yaxis\":{\"gridcolor\":\"white\",\"linecolor\":\"white\",\"ticks\":\"\",\"title\":{\"standoff\":15},\"zerolinecolor\":\"white\",\"automargin\":true,\"zerolinewidth\":2},\"scene\":{\"xaxis\":{\"backgroundcolor\":\"#E5ECF6\",\"gridcolor\":\"white\",\"linecolor\":\"white\",\"showbackground\":true,\"ticks\":\"\",\"zerolinecolor\":\"white\",\"gridwidth\":2},\"yaxis\":{\"backgroundcolor\":\"#E5ECF6\",\"gridcolor\":\"white\",\"linecolor\":\"white\",\"showbackground\":true,\"ticks\":\"\",\"zerolinecolor\":\"white\",\"gridwidth\":2},\"zaxis\":{\"backgroundcolor\":\"#E5ECF6\",\"gridcolor\":\"white\",\"linecolor\":\"white\",\"showbackground\":true,\"ticks\":\"\",\"zerolinecolor\":\"white\",\"gridwidth\":2}},\"shapedefaults\":{\"line\":{\"color\":\"#2a3f5f\"}},\"annotationdefaults\":{\"arrowcolor\":\"#2a3f5f\",\"arrowhead\":0,\"arrowwidth\":1},\"geo\":{\"bgcolor\":\"white\",\"landcolor\":\"#E5ECF6\",\"subunitcolor\":\"white\",\"showland\":true,\"showlakes\":true,\"lakecolor\":\"white\"},\"title\":{\"x\":0.05},\"mapbox\":{\"style\":\"light\"}}},\"xaxis\":{\"anchor\":\"y\",\"domain\":[0.0,1.0],\"title\":{\"text\":\"Service\"},\"categoryorder\":\"total descending\"},\"yaxis\":{\"anchor\":\"x\",\"domain\":[0.0,1.0],\"title\":{\"text\":\"Heures\"}},\"legend\":{\"title\":{\"text\":\"Candidat\"},\"tracegroupgap\":0},\"margin\":{\"t\":60},\"barmode\":\"relative\"},                        {\"responsive\": true}                    ).then(function(){\n",
       "                            \n",
       "var gd = document.getElementById('08ba79eb-3a45-4bae-b2d8-060fd5afadfb');\n",
       "var x = new MutationObserver(function (mutations, observer) {{\n",
       "        var display = window.getComputedStyle(gd).display;\n",
       "        if (!display || display === 'none') {{\n",
       "            console.log([gd, 'removed!']);\n",
       "            Plotly.purge(gd);\n",
       "            observer.disconnect();\n",
       "        }}\n",
       "}});\n",
       "\n",
       "// Listen for the removal of the full notebook cells\n",
       "var notebookContainer = gd.closest('#notebook-container');\n",
       "if (notebookContainer) {{\n",
       "    x.observe(notebookContainer, {childList: true});\n",
       "}}\n",
       "\n",
       "// Listen for the clearing of the current output cell\n",
       "var outputEl = gd.closest('.output');\n",
       "if (outputEl) {{\n",
       "    x.observe(outputEl, {childList: true});\n",
       "}}\n",
       "\n",
       "                        })                };                });            </script>        </div>"
      ]
     },
     "metadata": {},
     "output_type": "display_data"
    }
   ],
   "source": [
    "fig = px.bar(t1_parole,\n",
    "             x='Service', y='Heures',\n",
    "             color='Candidat')\n",
    "\n",
    "fig.update_layout(xaxis={'categoryorder': 'total descending'})\n",
    "\n",
    "fig.show()"
   ]
  },
  {
   "cell_type": "code",
   "execution_count": 59,
   "id": "cdbf8965-c92d-48df-b2e0-ad8eabbfb272",
   "metadata": {},
   "outputs": [
    {
     "data": {
      "application/vnd.plotly.v1+json": {
       "config": {
        "plotlyServerURL": "https://plot.ly"
       },
       "data": [
        {
         "alignmentgroup": "True",
         "hovertemplate": "Service=TF1<br>Candidat=%{x}<br>Heures=%{y}<extra></extra>",
         "legendgroup": "TF1",
         "marker": {
          "color": "#636efa",
          "pattern": {
           "shape": ""
          }
         },
         "name": "TF1",
         "offsetgroup": "TF1",
         "orientation": "v",
         "showlegend": true,
         "textposition": "auto",
         "type": "bar",
         "x": [
          "ARTHAUD",
          "DUPONT-AIGNAN",
          "HIDALGO",
          "JADOT",
          "LASSALLE",
          "LE PEN",
          "MACRON",
          "POUTOU",
          "ROUSSEL",
          "ZEMMOUR"
         ],
         "xaxis": "x",
         "y": [
          0.06805555555555555,
          0.1502777777777778,
          0.2713888888888889,
          0.37416666666666665,
          0.06666666666666667,
          0.8127777777777778,
          1.1494444444444445,
          0.03722222222222222,
          0.18222222222222223,
          0.6538888888888889
         ],
         "yaxis": "y"
        },
        {
         "alignmentgroup": "True",
         "hovertemplate": "Service=France2<br>Candidat=%{x}<br>Heures=%{y}<extra></extra>",
         "legendgroup": "France2",
         "marker": {
          "color": "#EF553B",
          "pattern": {
           "shape": ""
          }
         },
         "name": "France2",
         "offsetgroup": "France2",
         "orientation": "v",
         "showlegend": true,
         "textposition": "auto",
         "type": "bar",
         "x": [
          "ARTHAUD",
          "DUPONT-AIGNAN",
          "HIDALGO",
          "JADOT",
          "LASSALLE",
          "LE PEN",
          "MACRON",
          "POUTOU",
          "ROUSSEL",
          "ZEMMOUR"
         ],
         "xaxis": "x",
         "y": [
          0.12944444444444445,
          0.6597222222222222,
          1.12,
          3.4366666666666665,
          0.53,
          3.6891666666666665,
          3.075277777777778,
          0.47888888888888886,
          0.8738888888888889,
          2.0455555555555556
         ],
         "yaxis": "y"
        },
        {
         "alignmentgroup": "True",
         "hovertemplate": "Service=France3<br>Candidat=%{x}<br>Heures=%{y}<extra></extra>",
         "legendgroup": "France3",
         "marker": {
          "color": "#00cc96",
          "pattern": {
           "shape": ""
          }
         },
         "name": "France3",
         "offsetgroup": "France3",
         "orientation": "v",
         "showlegend": true,
         "textposition": "auto",
         "type": "bar",
         "x": [
          "ARTHAUD",
          "DUPONT-AIGNAN",
          "HIDALGO",
          "JADOT",
          "LASSALLE",
          "LE PEN",
          "MACRON",
          "POUTOU",
          "ROUSSEL",
          "ZEMMOUR"
         ],
         "xaxis": "x",
         "y": [
          0.025833333333333333,
          0.185,
          0.46055555555555555,
          0.5825,
          0.02277777777777778,
          0.7672222222222222,
          0.9572222222222222,
          0.021111111111111112,
          0.5691666666666667,
          0.6461111111111111
         ],
         "yaxis": "y"
        },
        {
         "alignmentgroup": "True",
         "hovertemplate": "Service=France5<br>Candidat=%{x}<br>Heures=%{y}<extra></extra>",
         "legendgroup": "France5",
         "marker": {
          "color": "#ab63fa",
          "pattern": {
           "shape": ""
          }
         },
         "name": "France5",
         "offsetgroup": "France5",
         "orientation": "v",
         "showlegend": true,
         "textposition": "auto",
         "type": "bar",
         "x": [
          "ARTHAUD",
          "DUPONT-AIGNAN",
          "HIDALGO",
          "JADOT",
          "LASSALLE",
          "LE PEN",
          "MACRON",
          "POUTOU",
          "ROUSSEL",
          "ZEMMOUR"
         ],
         "xaxis": "x",
         "y": [
          0.18888888888888888,
          0.9116666666666666,
          2.0502777777777776,
          2.4844444444444442,
          0.35083333333333333,
          5.2825,
          5.2027777777777775,
          0.30972222222222223,
          2.468611111111111,
          4.914722222222222
         ],
         "yaxis": "y"
        },
        {
         "alignmentgroup": "True",
         "hovertemplate": "Service=M6<br>Candidat=%{x}<br>Heures=%{y}<extra></extra>",
         "legendgroup": "M6",
         "marker": {
          "color": "#FFA15A",
          "pattern": {
           "shape": ""
          }
         },
         "name": "M6",
         "offsetgroup": "M6",
         "orientation": "v",
         "showlegend": true,
         "textposition": "auto",
         "type": "bar",
         "x": [
          "ARTHAUD",
          "DUPONT-AIGNAN",
          "HIDALGO",
          "JADOT",
          "LASSALLE",
          "LE PEN",
          "MACRON",
          "POUTOU",
          "ROUSSEL",
          "ZEMMOUR"
         ],
         "xaxis": "x",
         "y": [
          0.01888888888888889,
          0.028888888888888888,
          0.09083333333333334,
          0.14416666666666667,
          0.024166666666666666,
          0.2752777777777778,
          0.49416666666666664,
          0.018055555555555554,
          0.11361111111111111,
          0.24861111111111112
         ],
         "yaxis": "y"
        },
        {
         "alignmentgroup": "True",
         "hovertemplate": "Service=C8<br>Candidat=%{x}<br>Heures=%{y}<extra></extra>",
         "legendgroup": "C8",
         "marker": {
          "color": "#19d3f3",
          "pattern": {
           "shape": ""
          }
         },
         "name": "C8",
         "offsetgroup": "C8",
         "orientation": "v",
         "showlegend": true,
         "textposition": "auto",
         "type": "bar",
         "x": [
          "ARTHAUD",
          "DUPONT-AIGNAN",
          "HIDALGO",
          "JADOT",
          "LASSALLE",
          "LE PEN",
          "MACRON",
          "POUTOU",
          "ROUSSEL",
          "ZEMMOUR"
         ],
         "xaxis": "x",
         "y": [
          0.21083333333333334,
          0.39694444444444443,
          1.1727777777777777,
          1.1541666666666666,
          0.15694444444444444,
          3.701388888888889,
          4.257777777777778,
          0.1613888888888889,
          0.6936111111111111,
          2.733888888888889
         ],
         "yaxis": "y"
        },
        {
         "alignmentgroup": "True",
         "hovertemplate": "Service=TMC<br>Candidat=%{x}<br>Heures=%{y}<extra></extra>",
         "legendgroup": "TMC",
         "marker": {
          "color": "#FF6692",
          "pattern": {
           "shape": ""
          }
         },
         "name": "TMC",
         "offsetgroup": "TMC",
         "orientation": "v",
         "showlegend": true,
         "textposition": "auto",
         "type": "bar",
         "x": [
          "ARTHAUD",
          "DUPONT-AIGNAN",
          "HIDALGO",
          "JADOT",
          "LASSALLE",
          "LE PEN",
          "MACRON",
          "POUTOU",
          "ROUSSEL",
          "ZEMMOUR"
         ],
         "xaxis": "x",
         "y": [
          0.12611111111111112,
          0.24138888888888888,
          0.6436111111111111,
          0.71,
          0.06388888888888888,
          2.558333333333333,
          3.386388888888889,
          0.18138888888888888,
          0.3572222222222222,
          1.7161111111111111
         ],
         "yaxis": "y"
        },
        {
         "alignmentgroup": "True",
         "hovertemplate": "Service=BFMTV<br>Candidat=%{x}<br>Heures=%{y}<extra></extra>",
         "legendgroup": "BFMTV",
         "marker": {
          "color": "#B6E880",
          "pattern": {
           "shape": ""
          }
         },
         "name": "BFMTV",
         "offsetgroup": "BFMTV",
         "orientation": "v",
         "showlegend": true,
         "textposition": "auto",
         "type": "bar",
         "x": [
          "ARTHAUD",
          "DUPONT-AIGNAN",
          "HIDALGO",
          "JADOT",
          "LASSALLE",
          "LE PEN",
          "MACRON",
          "POUTOU",
          "ROUSSEL",
          "ZEMMOUR"
         ],
         "xaxis": "x",
         "y": [
          0.6441666666666667,
          1.1336111111111111,
          4.2058333333333335,
          9.253333333333334,
          0.5847222222222223,
          7.456666666666667,
          10.516388888888889,
          0.09972222222222223,
          5.2375,
          6.9325
         ],
         "yaxis": "y"
        },
        {
         "alignmentgroup": "True",
         "hovertemplate": "Service=Cnews<br>Candidat=%{x}<br>Heures=%{y}<extra></extra>",
         "legendgroup": "Cnews",
         "marker": {
          "color": "#FF97FF",
          "pattern": {
           "shape": ""
          }
         },
         "name": "Cnews",
         "offsetgroup": "Cnews",
         "orientation": "v",
         "showlegend": true,
         "textposition": "auto",
         "type": "bar",
         "x": [
          "ARTHAUD",
          "DUPONT-AIGNAN",
          "HIDALGO",
          "JADOT",
          "LASSALLE",
          "LE PEN",
          "MACRON",
          "POUTOU",
          "ROUSSEL",
          "ZEMMOUR"
         ],
         "xaxis": "x",
         "y": [
          0.3288888888888889,
          3.388333333333333,
          11.069722222222222,
          11.249444444444444,
          0.4305555555555556,
          23.40222222222222,
          10.235277777777778,
          0.4411111111111111,
          7.936388888888889,
          16.239166666666666
         ],
         "yaxis": "y"
        },
        {
         "alignmentgroup": "True",
         "hovertemplate": "Service=RT France<br>Candidat=%{x}<br>Heures=%{y}<extra></extra>",
         "legendgroup": "RT France",
         "marker": {
          "color": "#FECB52",
          "pattern": {
           "shape": ""
          }
         },
         "name": "RT France",
         "offsetgroup": "RT France",
         "orientation": "v",
         "showlegend": true,
         "textposition": "auto",
         "type": "bar",
         "x": [
          "ARTHAUD",
          "DUPONT-AIGNAN",
          "HIDALGO",
          "JADOT",
          "LASSALLE",
          "LE PEN",
          "MACRON",
          "POUTOU",
          "ROUSSEL",
          "ZEMMOUR"
         ],
         "xaxis": "x",
         "y": [
          0.09444444444444444,
          0.19527777777777777,
          1.3822222222222222,
          1.2797222222222222,
          0.01611111111111111,
          4.219166666666666,
          6.5505555555555555,
          0.1986111111111111,
          1.4397222222222221,
          3.6927777777777777
         ],
         "yaxis": "y"
        },
        {
         "alignmentgroup": "True",
         "hovertemplate": "Service=RMCDecouverte<br>Candidat=%{x}<br>Heures=%{y}<extra></extra>",
         "legendgroup": "RMCDecouverte",
         "marker": {
          "color": "#636efa",
          "pattern": {
           "shape": ""
          }
         },
         "name": "RMCDecouverte",
         "offsetgroup": "RMCDecouverte",
         "orientation": "v",
         "showlegend": true,
         "textposition": "auto",
         "type": "bar",
         "x": [
          "ARTHAUD",
          "HIDALGO",
          "JADOT",
          "LASSALLE",
          "LE PEN",
          "MACRON",
          "ROUSSEL",
          "ZEMMOUR"
         ],
         "xaxis": "x",
         "y": [
          0.006944444444444444,
          0.06944444444444445,
          0.15166666666666667,
          0.0075,
          0.17083333333333334,
          0.8427777777777777,
          0.043055555555555555,
          0.21083333333333334
         ],
         "yaxis": "y"
        },
        {
         "alignmentgroup": "True",
         "hovertemplate": "Service=RMC Story<br>Candidat=%{x}<br>Heures=%{y}<extra></extra>",
         "legendgroup": "RMC Story",
         "marker": {
          "color": "#EF553B",
          "pattern": {
           "shape": ""
          }
         },
         "name": "RMC Story",
         "offsetgroup": "RMC Story",
         "orientation": "v",
         "showlegend": true,
         "textposition": "auto",
         "type": "bar",
         "x": [
          "ARTHAUD",
          "DUPONT-AIGNAN",
          "HIDALGO",
          "JADOT",
          "LASSALLE",
          "LE PEN",
          "MACRON",
          "POUTOU",
          "ROUSSEL",
          "ZEMMOUR"
         ],
         "xaxis": "x",
         "y": [
          0.525,
          0.16083333333333333,
          0.37027777777777776,
          1.4244444444444444,
          0.5919444444444445,
          2.763611111111111,
          3.895277777777778,
          0.5605555555555556,
          1.225,
          2.4869444444444446
         ],
         "yaxis": "y"
        },
        {
         "alignmentgroup": "True",
         "hovertemplate": "Service=LCI<br>Candidat=%{x}<br>Heures=%{y}<extra></extra>",
         "legendgroup": "LCI",
         "marker": {
          "color": "#00cc96",
          "pattern": {
           "shape": ""
          }
         },
         "name": "LCI",
         "offsetgroup": "LCI",
         "orientation": "v",
         "showlegend": true,
         "textposition": "auto",
         "type": "bar",
         "x": [
          "ARTHAUD",
          "DUPONT-AIGNAN",
          "HIDALGO",
          "JADOT",
          "LASSALLE",
          "LE PEN",
          "MACRON",
          "POUTOU",
          "ROUSSEL",
          "ZEMMOUR"
         ],
         "xaxis": "x",
         "y": [
          2.7319444444444443,
          5.073333333333333,
          19.859166666666667,
          21.483333333333334,
          3.5436111111111113,
          10.66611111111111,
          8.867222222222223,
          2.7827777777777776,
          11.025,
          22.022777777777776
         ],
         "yaxis": "y"
        },
        {
         "alignmentgroup": "True",
         "hovertemplate": "Service=FranceinfoTV<br>Candidat=%{x}<br>Heures=%{y}<extra></extra>",
         "legendgroup": "FranceinfoTV",
         "marker": {
          "color": "#ab63fa",
          "pattern": {
           "shape": ""
          }
         },
         "name": "FranceinfoTV",
         "offsetgroup": "FranceinfoTV",
         "orientation": "v",
         "showlegend": true,
         "textposition": "auto",
         "type": "bar",
         "x": [
          "ARTHAUD",
          "DUPONT-AIGNAN",
          "HIDALGO",
          "JADOT",
          "LASSALLE",
          "LE PEN",
          "MACRON",
          "POUTOU",
          "ROUSSEL",
          "ZEMMOUR"
         ],
         "xaxis": "x",
         "y": [
          0.8102777777777778,
          0.8791666666666667,
          8.146944444444445,
          8.456666666666667,
          0.2088888888888889,
          10.46111111111111,
          19.6275,
          0.29583333333333334,
          4.883611111111111,
          9.978055555555555
         ],
         "yaxis": "y"
        },
        {
         "alignmentgroup": "True",
         "hovertemplate": "Service=TV5Monde<br>Candidat=%{x}<br>Heures=%{y}<extra></extra>",
         "legendgroup": "TV5Monde",
         "marker": {
          "color": "#FFA15A",
          "pattern": {
           "shape": ""
          }
         },
         "name": "TV5Monde",
         "offsetgroup": "TV5Monde",
         "orientation": "v",
         "showlegend": true,
         "textposition": "auto",
         "type": "bar",
         "x": [
          "ARTHAUD",
          "DUPONT-AIGNAN",
          "HIDALGO",
          "JADOT",
          "LASSALLE",
          "LE PEN",
          "MACRON",
          "POUTOU",
          "ROUSSEL",
          "ZEMMOUR"
         ],
         "xaxis": "x",
         "y": [
          0.012777777777777779,
          0.029166666666666667,
          1.8769444444444445,
          2.098888888888889,
          0.26555555555555554,
          3.073888888888889,
          2.6308333333333334,
          0.3383333333333333,
          0.14833333333333334,
          0.7583333333333333
         ],
         "yaxis": "y"
        },
        {
         "alignmentgroup": "True",
         "hovertemplate": "Service=France24<br>Candidat=%{x}<br>Heures=%{y}<extra></extra>",
         "legendgroup": "France24",
         "marker": {
          "color": "#19d3f3",
          "pattern": {
           "shape": ""
          }
         },
         "name": "France24",
         "offsetgroup": "France24",
         "orientation": "v",
         "showlegend": true,
         "textposition": "auto",
         "type": "bar",
         "x": [
          "ARTHAUD",
          "DUPONT-AIGNAN",
          "HIDALGO",
          "JADOT",
          "LASSALLE",
          "LE PEN",
          "MACRON",
          "POUTOU",
          "ROUSSEL",
          "ZEMMOUR"
         ],
         "xaxis": "x",
         "y": [
          0.4777777777777778,
          0.5994444444444444,
          1.5997222222222223,
          1.6152777777777778,
          0.09388888888888888,
          3.6275,
          11.088611111111112,
          0.13472222222222222,
          1.1180555555555556,
          2.528611111111111
         ],
         "yaxis": "y"
        },
        {
         "alignmentgroup": "True",
         "hovertemplate": "Service=Euronews<br>Candidat=%{x}<br>Heures=%{y}<extra></extra>",
         "legendgroup": "Euronews",
         "marker": {
          "color": "#FF6692",
          "pattern": {
           "shape": ""
          }
         },
         "name": "Euronews",
         "offsetgroup": "Euronews",
         "orientation": "v",
         "showlegend": true,
         "textposition": "auto",
         "type": "bar",
         "x": [
          "ARTHAUD",
          "DUPONT-AIGNAN",
          "HIDALGO",
          "JADOT",
          "LASSALLE",
          "LE PEN",
          "MACRON",
          "POUTOU",
          "ROUSSEL",
          "ZEMMOUR"
         ],
         "xaxis": "x",
         "y": [
          0.39222222222222225,
          0.3933333333333333,
          1.0291666666666666,
          0.9066666666666666,
          0.44666666666666666,
          1.5302777777777778,
          3.0605555555555557,
          0.35388888888888886,
          1.4383333333333332,
          1.6141666666666667
         ],
         "yaxis": "y"
        },
        {
         "alignmentgroup": "True",
         "hovertemplate": "Service=RFI<br>Candidat=%{x}<br>Heures=%{y}<extra></extra>",
         "legendgroup": "RFI",
         "marker": {
          "color": "#B6E880",
          "pattern": {
           "shape": ""
          }
         },
         "name": "RFI",
         "offsetgroup": "RFI",
         "orientation": "v",
         "showlegend": true,
         "textposition": "auto",
         "type": "bar",
         "x": [
          "ARTHAUD",
          "DUPONT-AIGNAN",
          "HIDALGO",
          "JADOT",
          "LASSALLE",
          "LE PEN",
          "MACRON",
          "POUTOU",
          "ROUSSEL",
          "ZEMMOUR"
         ],
         "xaxis": "x",
         "y": [
          0.5,
          0.7555555555555555,
          1.1525,
          0.9508333333333333,
          0.16972222222222222,
          1.9833333333333334,
          2.371111111111111,
          0.21666666666666667,
          0.7733333333333333,
          1.1852777777777779
         ],
         "yaxis": "y"
        },
        {
         "alignmentgroup": "True",
         "hovertemplate": "Service=FranceInfo<br>Candidat=%{x}<br>Heures=%{y}<extra></extra>",
         "legendgroup": "FranceInfo",
         "marker": {
          "color": "#FF97FF",
          "pattern": {
           "shape": ""
          }
         },
         "name": "FranceInfo",
         "offsetgroup": "FranceInfo",
         "orientation": "v",
         "showlegend": true,
         "textposition": "auto",
         "type": "bar",
         "x": [
          "ARTHAUD",
          "DUPONT-AIGNAN",
          "HIDALGO",
          "JADOT",
          "LASSALLE",
          "LE PEN",
          "MACRON",
          "POUTOU",
          "ROUSSEL",
          "ZEMMOUR"
         ],
         "xaxis": "x",
         "y": [
          0.4361111111111111,
          1.0430555555555556,
          5.170555555555556,
          7.393888888888889,
          0.28305555555555556,
          11.331666666666667,
          6.114722222222222,
          0.8905555555555555,
          4.686944444444444,
          10.768611111111111
         ],
         "yaxis": "y"
        },
        {
         "alignmentgroup": "True",
         "hovertemplate": "Service=FranceCulture<br>Candidat=%{x}<br>Heures=%{y}<extra></extra>",
         "legendgroup": "FranceCulture",
         "marker": {
          "color": "#FECB52",
          "pattern": {
           "shape": ""
          }
         },
         "name": "FranceCulture",
         "offsetgroup": "FranceCulture",
         "orientation": "v",
         "showlegend": true,
         "textposition": "auto",
         "type": "bar",
         "x": [
          "ARTHAUD",
          "DUPONT-AIGNAN",
          "HIDALGO",
          "JADOT",
          "LASSALLE",
          "LE PEN",
          "MACRON",
          "POUTOU",
          "ROUSSEL",
          "ZEMMOUR"
         ],
         "xaxis": "x",
         "y": [
          0.075,
          0.028055555555555556,
          0.6955555555555556,
          1.0169444444444444,
          0.02,
          0.9991666666666666,
          4.154166666666667,
          0.0375,
          0.5927777777777777,
          1.2225
         ],
         "yaxis": "y"
        },
        {
         "alignmentgroup": "True",
         "hovertemplate": "Service=FranceInter<br>Candidat=%{x}<br>Heures=%{y}<extra></extra>",
         "legendgroup": "FranceInter",
         "marker": {
          "color": "#636efa",
          "pattern": {
           "shape": ""
          }
         },
         "name": "FranceInter",
         "offsetgroup": "FranceInter",
         "orientation": "v",
         "showlegend": true,
         "textposition": "auto",
         "type": "bar",
         "x": [
          "ARTHAUD",
          "DUPONT-AIGNAN",
          "HIDALGO",
          "JADOT",
          "LASSALLE",
          "LE PEN",
          "MACRON",
          "POUTOU",
          "ROUSSEL",
          "ZEMMOUR"
         ],
         "xaxis": "x",
         "y": [
          0.2811111111111111,
          0.3997222222222222,
          1.6630555555555555,
          2.788611111111111,
          0.0475,
          3.985,
          5.998333333333333,
          0.28833333333333333,
          1.5769444444444445,
          3.8969444444444443
         ],
         "yaxis": "y"
        },
        {
         "alignmentgroup": "True",
         "hovertemplate": "Service=RadioClassique<br>Candidat=%{x}<br>Heures=%{y}<extra></extra>",
         "legendgroup": "RadioClassique",
         "marker": {
          "color": "#EF553B",
          "pattern": {
           "shape": ""
          }
         },
         "name": "RadioClassique",
         "offsetgroup": "RadioClassique",
         "orientation": "v",
         "showlegend": true,
         "textposition": "auto",
         "type": "bar",
         "x": [
          "ARTHAUD",
          "DUPONT-AIGNAN",
          "HIDALGO",
          "JADOT",
          "LASSALLE",
          "LE PEN",
          "MACRON",
          "POUTOU",
          "ROUSSEL",
          "ZEMMOUR"
         ],
         "xaxis": "x",
         "y": [
          0.02861111111111111,
          0.25416666666666665,
          0.9544444444444444,
          1.1266666666666667,
          0.01611111111111111,
          2.6169444444444445,
          5.2941666666666665,
          0.05138888888888889,
          0.7225,
          1.5266666666666666
         ],
         "yaxis": "y"
        },
        {
         "alignmentgroup": "True",
         "hovertemplate": "Service=BFMBusiness<br>Candidat=%{x}<br>Heures=%{y}<extra></extra>",
         "legendgroup": "BFMBusiness",
         "marker": {
          "color": "#00cc96",
          "pattern": {
           "shape": ""
          }
         },
         "name": "BFMBusiness",
         "offsetgroup": "BFMBusiness",
         "orientation": "v",
         "showlegend": true,
         "textposition": "auto",
         "type": "bar",
         "x": [
          "ARTHAUD",
          "DUPONT-AIGNAN",
          "HIDALGO",
          "JADOT",
          "LASSALLE",
          "LE PEN",
          "MACRON",
          "ROUSSEL",
          "ZEMMOUR"
         ],
         "xaxis": "x",
         "y": [
          0.22583333333333333,
          0.7486111111111111,
          1.3388888888888888,
          1.4838888888888888,
          0.11527777777777778,
          2.7055555555555557,
          5.441666666666666,
          1.2002777777777778,
          2.1633333333333336
         ],
         "yaxis": "y"
        },
        {
         "alignmentgroup": "True",
         "hovertemplate": "Service=RMC<br>Candidat=%{x}<br>Heures=%{y}<extra></extra>",
         "legendgroup": "RMC",
         "marker": {
          "color": "#ab63fa",
          "pattern": {
           "shape": ""
          }
         },
         "name": "RMC",
         "offsetgroup": "RMC",
         "orientation": "v",
         "showlegend": true,
         "textposition": "auto",
         "type": "bar",
         "x": [
          "ARTHAUD",
          "DUPONT-AIGNAN",
          "HIDALGO",
          "JADOT",
          "LASSALLE",
          "LE PEN",
          "MACRON",
          "POUTOU",
          "ROUSSEL",
          "ZEMMOUR"
         ],
         "xaxis": "x",
         "y": [
          1.2694444444444444,
          0.5188888888888888,
          1.5005555555555556,
          2.9186111111111113,
          1.1391666666666667,
          8.566666666666666,
          9.125555555555556,
          0.5763888888888888,
          2.691388888888889,
          5.8405555555555555
         ],
         "yaxis": "y"
        },
        {
         "alignmentgroup": "True",
         "hovertemplate": "Service=RTL<br>Candidat=%{x}<br>Heures=%{y}<extra></extra>",
         "legendgroup": "RTL",
         "marker": {
          "color": "#FFA15A",
          "pattern": {
           "shape": ""
          }
         },
         "name": "RTL",
         "offsetgroup": "RTL",
         "orientation": "v",
         "showlegend": true,
         "textposition": "auto",
         "type": "bar",
         "x": [
          "ARTHAUD",
          "DUPONT-AIGNAN",
          "HIDALGO",
          "JADOT",
          "LASSALLE",
          "LE PEN",
          "MACRON",
          "POUTOU",
          "ROUSSEL",
          "ZEMMOUR"
         ],
         "xaxis": "x",
         "y": [
          0.12361111111111112,
          0.45416666666666666,
          1.3480555555555556,
          3.734166666666667,
          0.1897222222222222,
          5.864722222222222,
          8.595833333333333,
          0.0475,
          1.561388888888889,
          6.248055555555555
         ],
         "yaxis": "y"
        },
        {
         "alignmentgroup": "True",
         "hovertemplate": "Service=Europe1<br>Candidat=%{x}<br>Heures=%{y}<extra></extra>",
         "legendgroup": "Europe1",
         "marker": {
          "color": "#19d3f3",
          "pattern": {
           "shape": ""
          }
         },
         "name": "Europe1",
         "offsetgroup": "Europe1",
         "orientation": "v",
         "showlegend": true,
         "textposition": "auto",
         "type": "bar",
         "x": [
          "DUPONT-AIGNAN",
          "HIDALGO",
          "JADOT",
          "LASSALLE",
          "LE PEN",
          "MACRON",
          "ROUSSEL",
          "ZEMMOUR"
         ],
         "xaxis": "x",
         "y": [
          0.45805555555555555,
          3.8983333333333334,
          1.6175,
          0.45694444444444443,
          5.782777777777778,
          11.087777777777777,
          1.833888888888889,
          5.204166666666667
         ],
         "yaxis": "y"
        },
        {
         "alignmentgroup": "True",
         "hovertemplate": "Service=SudRadio<br>Candidat=%{x}<br>Heures=%{y}<extra></extra>",
         "legendgroup": "SudRadio",
         "marker": {
          "color": "#FF6692",
          "pattern": {
           "shape": ""
          }
         },
         "name": "SudRadio",
         "offsetgroup": "SudRadio",
         "orientation": "v",
         "showlegend": true,
         "textposition": "auto",
         "type": "bar",
         "x": [
          "ARTHAUD",
          "DUPONT-AIGNAN",
          "HIDALGO",
          "JADOT",
          "LASSALLE",
          "LE PEN",
          "MACRON",
          "POUTOU",
          "ROUSSEL",
          "ZEMMOUR"
         ],
         "xaxis": "x",
         "y": [
          0.3236111111111111,
          0.3388888888888889,
          0.9552777777777778,
          1.7016666666666667,
          0.18888888888888888,
          2.5155555555555558,
          5.469166666666666,
          0.14166666666666666,
          1.0597222222222222,
          2.7505555555555556
         ],
         "yaxis": "y"
        }
       ],
       "layout": {
        "autosize": true,
        "barmode": "relative",
        "legend": {
         "title": {
          "text": "Service"
         },
         "tracegroupgap": 0
        },
        "margin": {
         "t": 60
        },
        "template": {
         "data": {
          "bar": [
           {
            "error_x": {
             "color": "#2a3f5f"
            },
            "error_y": {
             "color": "#2a3f5f"
            },
            "marker": {
             "line": {
              "color": "#E5ECF6",
              "width": 0.5
             },
             "pattern": {
              "fillmode": "overlay",
              "size": 10,
              "solidity": 0.2
             }
            },
            "type": "bar"
           }
          ],
          "barpolar": [
           {
            "marker": {
             "line": {
              "color": "#E5ECF6",
              "width": 0.5
             },
             "pattern": {
              "fillmode": "overlay",
              "size": 10,
              "solidity": 0.2
             }
            },
            "type": "barpolar"
           }
          ],
          "carpet": [
           {
            "aaxis": {
             "endlinecolor": "#2a3f5f",
             "gridcolor": "white",
             "linecolor": "white",
             "minorgridcolor": "white",
             "startlinecolor": "#2a3f5f"
            },
            "baxis": {
             "endlinecolor": "#2a3f5f",
             "gridcolor": "white",
             "linecolor": "white",
             "minorgridcolor": "white",
             "startlinecolor": "#2a3f5f"
            },
            "type": "carpet"
           }
          ],
          "choropleth": [
           {
            "colorbar": {
             "outlinewidth": 0,
             "ticks": ""
            },
            "type": "choropleth"
           }
          ],
          "contour": [
           {
            "colorbar": {
             "outlinewidth": 0,
             "ticks": ""
            },
            "colorscale": [
             [
              0,
              "#0d0887"
             ],
             [
              0.1111111111111111,
              "#46039f"
             ],
             [
              0.2222222222222222,
              "#7201a8"
             ],
             [
              0.3333333333333333,
              "#9c179e"
             ],
             [
              0.4444444444444444,
              "#bd3786"
             ],
             [
              0.5555555555555556,
              "#d8576b"
             ],
             [
              0.6666666666666666,
              "#ed7953"
             ],
             [
              0.7777777777777778,
              "#fb9f3a"
             ],
             [
              0.8888888888888888,
              "#fdca26"
             ],
             [
              1,
              "#f0f921"
             ]
            ],
            "type": "contour"
           }
          ],
          "contourcarpet": [
           {
            "colorbar": {
             "outlinewidth": 0,
             "ticks": ""
            },
            "type": "contourcarpet"
           }
          ],
          "heatmap": [
           {
            "colorbar": {
             "outlinewidth": 0,
             "ticks": ""
            },
            "colorscale": [
             [
              0,
              "#0d0887"
             ],
             [
              0.1111111111111111,
              "#46039f"
             ],
             [
              0.2222222222222222,
              "#7201a8"
             ],
             [
              0.3333333333333333,
              "#9c179e"
             ],
             [
              0.4444444444444444,
              "#bd3786"
             ],
             [
              0.5555555555555556,
              "#d8576b"
             ],
             [
              0.6666666666666666,
              "#ed7953"
             ],
             [
              0.7777777777777778,
              "#fb9f3a"
             ],
             [
              0.8888888888888888,
              "#fdca26"
             ],
             [
              1,
              "#f0f921"
             ]
            ],
            "type": "heatmap"
           }
          ],
          "heatmapgl": [
           {
            "colorbar": {
             "outlinewidth": 0,
             "ticks": ""
            },
            "colorscale": [
             [
              0,
              "#0d0887"
             ],
             [
              0.1111111111111111,
              "#46039f"
             ],
             [
              0.2222222222222222,
              "#7201a8"
             ],
             [
              0.3333333333333333,
              "#9c179e"
             ],
             [
              0.4444444444444444,
              "#bd3786"
             ],
             [
              0.5555555555555556,
              "#d8576b"
             ],
             [
              0.6666666666666666,
              "#ed7953"
             ],
             [
              0.7777777777777778,
              "#fb9f3a"
             ],
             [
              0.8888888888888888,
              "#fdca26"
             ],
             [
              1,
              "#f0f921"
             ]
            ],
            "type": "heatmapgl"
           }
          ],
          "histogram": [
           {
            "marker": {
             "pattern": {
              "fillmode": "overlay",
              "size": 10,
              "solidity": 0.2
             }
            },
            "type": "histogram"
           }
          ],
          "histogram2d": [
           {
            "colorbar": {
             "outlinewidth": 0,
             "ticks": ""
            },
            "colorscale": [
             [
              0,
              "#0d0887"
             ],
             [
              0.1111111111111111,
              "#46039f"
             ],
             [
              0.2222222222222222,
              "#7201a8"
             ],
             [
              0.3333333333333333,
              "#9c179e"
             ],
             [
              0.4444444444444444,
              "#bd3786"
             ],
             [
              0.5555555555555556,
              "#d8576b"
             ],
             [
              0.6666666666666666,
              "#ed7953"
             ],
             [
              0.7777777777777778,
              "#fb9f3a"
             ],
             [
              0.8888888888888888,
              "#fdca26"
             ],
             [
              1,
              "#f0f921"
             ]
            ],
            "type": "histogram2d"
           }
          ],
          "histogram2dcontour": [
           {
            "colorbar": {
             "outlinewidth": 0,
             "ticks": ""
            },
            "colorscale": [
             [
              0,
              "#0d0887"
             ],
             [
              0.1111111111111111,
              "#46039f"
             ],
             [
              0.2222222222222222,
              "#7201a8"
             ],
             [
              0.3333333333333333,
              "#9c179e"
             ],
             [
              0.4444444444444444,
              "#bd3786"
             ],
             [
              0.5555555555555556,
              "#d8576b"
             ],
             [
              0.6666666666666666,
              "#ed7953"
             ],
             [
              0.7777777777777778,
              "#fb9f3a"
             ],
             [
              0.8888888888888888,
              "#fdca26"
             ],
             [
              1,
              "#f0f921"
             ]
            ],
            "type": "histogram2dcontour"
           }
          ],
          "mesh3d": [
           {
            "colorbar": {
             "outlinewidth": 0,
             "ticks": ""
            },
            "type": "mesh3d"
           }
          ],
          "parcoords": [
           {
            "line": {
             "colorbar": {
              "outlinewidth": 0,
              "ticks": ""
             }
            },
            "type": "parcoords"
           }
          ],
          "pie": [
           {
            "automargin": true,
            "type": "pie"
           }
          ],
          "scatter": [
           {
            "fillpattern": {
             "fillmode": "overlay",
             "size": 10,
             "solidity": 0.2
            },
            "type": "scatter"
           }
          ],
          "scatter3d": [
           {
            "line": {
             "colorbar": {
              "outlinewidth": 0,
              "ticks": ""
             }
            },
            "marker": {
             "colorbar": {
              "outlinewidth": 0,
              "ticks": ""
             }
            },
            "type": "scatter3d"
           }
          ],
          "scattercarpet": [
           {
            "marker": {
             "colorbar": {
              "outlinewidth": 0,
              "ticks": ""
             }
            },
            "type": "scattercarpet"
           }
          ],
          "scattergeo": [
           {
            "marker": {
             "colorbar": {
              "outlinewidth": 0,
              "ticks": ""
             }
            },
            "type": "scattergeo"
           }
          ],
          "scattergl": [
           {
            "marker": {
             "colorbar": {
              "outlinewidth": 0,
              "ticks": ""
             }
            },
            "type": "scattergl"
           }
          ],
          "scattermapbox": [
           {
            "marker": {
             "colorbar": {
              "outlinewidth": 0,
              "ticks": ""
             }
            },
            "type": "scattermapbox"
           }
          ],
          "scatterpolar": [
           {
            "marker": {
             "colorbar": {
              "outlinewidth": 0,
              "ticks": ""
             }
            },
            "type": "scatterpolar"
           }
          ],
          "scatterpolargl": [
           {
            "marker": {
             "colorbar": {
              "outlinewidth": 0,
              "ticks": ""
             }
            },
            "type": "scatterpolargl"
           }
          ],
          "scatterternary": [
           {
            "marker": {
             "colorbar": {
              "outlinewidth": 0,
              "ticks": ""
             }
            },
            "type": "scatterternary"
           }
          ],
          "surface": [
           {
            "colorbar": {
             "outlinewidth": 0,
             "ticks": ""
            },
            "colorscale": [
             [
              0,
              "#0d0887"
             ],
             [
              0.1111111111111111,
              "#46039f"
             ],
             [
              0.2222222222222222,
              "#7201a8"
             ],
             [
              0.3333333333333333,
              "#9c179e"
             ],
             [
              0.4444444444444444,
              "#bd3786"
             ],
             [
              0.5555555555555556,
              "#d8576b"
             ],
             [
              0.6666666666666666,
              "#ed7953"
             ],
             [
              0.7777777777777778,
              "#fb9f3a"
             ],
             [
              0.8888888888888888,
              "#fdca26"
             ],
             [
              1,
              "#f0f921"
             ]
            ],
            "type": "surface"
           }
          ],
          "table": [
           {
            "cells": {
             "fill": {
              "color": "#EBF0F8"
             },
             "line": {
              "color": "white"
             }
            },
            "header": {
             "fill": {
              "color": "#C8D4E3"
             },
             "line": {
              "color": "white"
             }
            },
            "type": "table"
           }
          ]
         },
         "layout": {
          "annotationdefaults": {
           "arrowcolor": "#2a3f5f",
           "arrowhead": 0,
           "arrowwidth": 1
          },
          "autotypenumbers": "strict",
          "coloraxis": {
           "colorbar": {
            "outlinewidth": 0,
            "ticks": ""
           }
          },
          "colorscale": {
           "diverging": [
            [
             0,
             "#8e0152"
            ],
            [
             0.1,
             "#c51b7d"
            ],
            [
             0.2,
             "#de77ae"
            ],
            [
             0.3,
             "#f1b6da"
            ],
            [
             0.4,
             "#fde0ef"
            ],
            [
             0.5,
             "#f7f7f7"
            ],
            [
             0.6,
             "#e6f5d0"
            ],
            [
             0.7,
             "#b8e186"
            ],
            [
             0.8,
             "#7fbc41"
            ],
            [
             0.9,
             "#4d9221"
            ],
            [
             1,
             "#276419"
            ]
           ],
           "sequential": [
            [
             0,
             "#0d0887"
            ],
            [
             0.1111111111111111,
             "#46039f"
            ],
            [
             0.2222222222222222,
             "#7201a8"
            ],
            [
             0.3333333333333333,
             "#9c179e"
            ],
            [
             0.4444444444444444,
             "#bd3786"
            ],
            [
             0.5555555555555556,
             "#d8576b"
            ],
            [
             0.6666666666666666,
             "#ed7953"
            ],
            [
             0.7777777777777778,
             "#fb9f3a"
            ],
            [
             0.8888888888888888,
             "#fdca26"
            ],
            [
             1,
             "#f0f921"
            ]
           ],
           "sequentialminus": [
            [
             0,
             "#0d0887"
            ],
            [
             0.1111111111111111,
             "#46039f"
            ],
            [
             0.2222222222222222,
             "#7201a8"
            ],
            [
             0.3333333333333333,
             "#9c179e"
            ],
            [
             0.4444444444444444,
             "#bd3786"
            ],
            [
             0.5555555555555556,
             "#d8576b"
            ],
            [
             0.6666666666666666,
             "#ed7953"
            ],
            [
             0.7777777777777778,
             "#fb9f3a"
            ],
            [
             0.8888888888888888,
             "#fdca26"
            ],
            [
             1,
             "#f0f921"
            ]
           ]
          },
          "colorway": [
           "#636efa",
           "#EF553B",
           "#00cc96",
           "#ab63fa",
           "#FFA15A",
           "#19d3f3",
           "#FF6692",
           "#B6E880",
           "#FF97FF",
           "#FECB52"
          ],
          "font": {
           "color": "#2a3f5f"
          },
          "geo": {
           "bgcolor": "white",
           "lakecolor": "white",
           "landcolor": "#E5ECF6",
           "showlakes": true,
           "showland": true,
           "subunitcolor": "white"
          },
          "hoverlabel": {
           "align": "left"
          },
          "hovermode": "closest",
          "mapbox": {
           "style": "light"
          },
          "paper_bgcolor": "white",
          "plot_bgcolor": "#E5ECF6",
          "polar": {
           "angularaxis": {
            "gridcolor": "white",
            "linecolor": "white",
            "ticks": ""
           },
           "bgcolor": "#E5ECF6",
           "radialaxis": {
            "gridcolor": "white",
            "linecolor": "white",
            "ticks": ""
           }
          },
          "scene": {
           "xaxis": {
            "backgroundcolor": "#E5ECF6",
            "gridcolor": "white",
            "gridwidth": 2,
            "linecolor": "white",
            "showbackground": true,
            "ticks": "",
            "zerolinecolor": "white"
           },
           "yaxis": {
            "backgroundcolor": "#E5ECF6",
            "gridcolor": "white",
            "gridwidth": 2,
            "linecolor": "white",
            "showbackground": true,
            "ticks": "",
            "zerolinecolor": "white"
           },
           "zaxis": {
            "backgroundcolor": "#E5ECF6",
            "gridcolor": "white",
            "gridwidth": 2,
            "linecolor": "white",
            "showbackground": true,
            "ticks": "",
            "zerolinecolor": "white"
           }
          },
          "shapedefaults": {
           "line": {
            "color": "#2a3f5f"
           }
          },
          "ternary": {
           "aaxis": {
            "gridcolor": "white",
            "linecolor": "white",
            "ticks": ""
           },
           "baxis": {
            "gridcolor": "white",
            "linecolor": "white",
            "ticks": ""
           },
           "bgcolor": "#E5ECF6",
           "caxis": {
            "gridcolor": "white",
            "linecolor": "white",
            "ticks": ""
           }
          },
          "title": {
           "x": 0.05
          },
          "xaxis": {
           "automargin": true,
           "gridcolor": "white",
           "linecolor": "white",
           "ticks": "",
           "title": {
            "standoff": 15
           },
           "zerolinecolor": "white",
           "zerolinewidth": 2
          },
          "yaxis": {
           "automargin": true,
           "gridcolor": "white",
           "linecolor": "white",
           "ticks": "",
           "title": {
            "standoff": 15
           },
           "zerolinecolor": "white",
           "zerolinewidth": 2
          }
         }
        },
        "xaxis": {
         "anchor": "y",
         "autorange": true,
         "categoryorder": "total descending",
         "domain": [
          0,
          1
         ],
         "range": [
          -0.5,
          9.5
         ],
         "title": {
          "text": "Candidat"
         },
         "type": "category"
        },
        "yaxis": {
         "anchor": "x",
         "autorange": true,
         "domain": [
          0,
          1
         ],
         "range": [
          0,
          167.88479532163743
         ],
         "title": {
          "text": "Heures"
         },
         "type": "linear"
        }
       }
      },
      "image/png": "[encoded data removed]",
      "text/html": [
       "<div>                            <div id=\"c007a757-bdff-4d08-b4b9-2ddf65a37fd1\" class=\"plotly-graph-div\" style=\"height:525px; width:100%;\"></div>            <script type=\"text/javascript\">                require([\"plotly\"], function(Plotly) {                    window.PLOTLYENV=window.PLOTLYENV || {};                                    if (document.getElementById(\"c007a757-bdff-4d08-b4b9-2ddf65a37fd1\")) {                    Plotly.newPlot(                        \"c007a757-bdff-4d08-b4b9-2ddf65a37fd1\",                        [{\"alignmentgroup\":\"True\",\"hovertemplate\":\"Service=TF1<br>Candidat=%{x}<br>Heures=%{y}<extra></extra>\",\"legendgroup\":\"TF1\",\"marker\":{\"color\":\"#636efa\",\"pattern\":{\"shape\":\"\"}},\"name\":\"TF1\",\"offsetgroup\":\"TF1\",\"orientation\":\"v\",\"showlegend\":true,\"textposition\":\"auto\",\"x\":[\"ARTHAUD\",\"DUPONT-AIGNAN\",\"HIDALGO\",\"JADOT\",\"LASSALLE\",\"LE PEN\",\"MACRON\",\"POUTOU\",\"ROUSSEL\",\"ZEMMOUR\"],\"xaxis\":\"x\",\"y\":[0.06805555555555555,0.1502777777777778,0.2713888888888889,0.37416666666666665,0.06666666666666667,0.8127777777777778,1.1494444444444445,0.03722222222222222,0.18222222222222223,0.6538888888888889],\"yaxis\":\"y\",\"type\":\"bar\"},{\"alignmentgroup\":\"True\",\"hovertemplate\":\"Service=France2<br>Candidat=%{x}<br>Heures=%{y}<extra></extra>\",\"legendgroup\":\"France2\",\"marker\":{\"color\":\"#EF553B\",\"pattern\":{\"shape\":\"\"}},\"name\":\"France2\",\"offsetgroup\":\"France2\",\"orientation\":\"v\",\"showlegend\":true,\"textposition\":\"auto\",\"x\":[\"ARTHAUD\",\"DUPONT-AIGNAN\",\"HIDALGO\",\"JADOT\",\"LASSALLE\",\"LE PEN\",\"MACRON\",\"POUTOU\",\"ROUSSEL\",\"ZEMMOUR\"],\"xaxis\":\"x\",\"y\":[0.12944444444444445,0.6597222222222222,1.12,3.4366666666666665,0.53,3.6891666666666665,3.075277777777778,0.47888888888888886,0.8738888888888889,2.0455555555555556],\"yaxis\":\"y\",\"type\":\"bar\"},{\"alignmentgroup\":\"True\",\"hovertemplate\":\"Service=France3<br>Candidat=%{x}<br>Heures=%{y}<extra></extra>\",\"legendgroup\":\"France3\",\"marker\":{\"color\":\"#00cc96\",\"pattern\":{\"shape\":\"\"}},\"name\":\"France3\",\"offsetgroup\":\"France3\",\"orientation\":\"v\",\"showlegend\":true,\"textposition\":\"auto\",\"x\":[\"ARTHAUD\",\"DUPONT-AIGNAN\",\"HIDALGO\",\"JADOT\",\"LASSALLE\",\"LE PEN\",\"MACRON\",\"POUTOU\",\"ROUSSEL\",\"ZEMMOUR\"],\"xaxis\":\"x\",\"y\":[0.025833333333333333,0.185,0.46055555555555555,0.5825,0.02277777777777778,0.7672222222222222,0.9572222222222222,0.021111111111111112,0.5691666666666667,0.6461111111111111],\"yaxis\":\"y\",\"type\":\"bar\"},{\"alignmentgroup\":\"True\",\"hovertemplate\":\"Service=France5<br>Candidat=%{x}<br>Heures=%{y}<extra></extra>\",\"legendgroup\":\"France5\",\"marker\":{\"color\":\"#ab63fa\",\"pattern\":{\"shape\":\"\"}},\"name\":\"France5\",\"offsetgroup\":\"France5\",\"orientation\":\"v\",\"showlegend\":true,\"textposition\":\"auto\",\"x\":[\"ARTHAUD\",\"DUPONT-AIGNAN\",\"HIDALGO\",\"JADOT\",\"LASSALLE\",\"LE PEN\",\"MACRON\",\"POUTOU\",\"ROUSSEL\",\"ZEMMOUR\"],\"xaxis\":\"x\",\"y\":[0.18888888888888888,0.9116666666666666,2.0502777777777776,2.4844444444444442,0.35083333333333333,5.2825,5.2027777777777775,0.30972222222222223,2.468611111111111,4.914722222222222],\"yaxis\":\"y\",\"type\":\"bar\"},{\"alignmentgroup\":\"True\",\"hovertemplate\":\"Service=M6<br>Candidat=%{x}<br>Heures=%{y}<extra></extra>\",\"legendgroup\":\"M6\",\"marker\":{\"color\":\"#FFA15A\",\"pattern\":{\"shape\":\"\"}},\"name\":\"M6\",\"offsetgroup\":\"M6\",\"orientation\":\"v\",\"showlegend\":true,\"textposition\":\"auto\",\"x\":[\"ARTHAUD\",\"DUPONT-AIGNAN\",\"HIDALGO\",\"JADOT\",\"LASSALLE\",\"LE PEN\",\"MACRON\",\"POUTOU\",\"ROUSSEL\",\"ZEMMOUR\"],\"xaxis\":\"x\",\"y\":[0.01888888888888889,0.028888888888888888,0.09083333333333334,0.14416666666666667,0.024166666666666666,0.2752777777777778,0.49416666666666664,0.018055555555555554,0.11361111111111111,0.24861111111111112],\"yaxis\":\"y\",\"type\":\"bar\"},{\"alignmentgroup\":\"True\",\"hovertemplate\":\"Service=C8<br>Candidat=%{x}<br>Heures=%{y}<extra></extra>\",\"legendgroup\":\"C8\",\"marker\":{\"color\":\"#19d3f3\",\"pattern\":{\"shape\":\"\"}},\"name\":\"C8\",\"offsetgroup\":\"C8\",\"orientation\":\"v\",\"showlegend\":true,\"textposition\":\"auto\",\"x\":[\"ARTHAUD\",\"DUPONT-AIGNAN\",\"HIDALGO\",\"JADOT\",\"LASSALLE\",\"LE PEN\",\"MACRON\",\"POUTOU\",\"ROUSSEL\",\"ZEMMOUR\"],\"xaxis\":\"x\",\"y\":[0.21083333333333334,0.39694444444444443,1.1727777777777777,1.1541666666666666,0.15694444444444444,3.701388888888889,4.257777777777778,0.1613888888888889,0.6936111111111111,2.733888888888889],\"yaxis\":\"y\",\"type\":\"bar\"},{\"alignmentgroup\":\"True\",\"hovertemplate\":\"Service=TMC<br>Candidat=%{x}<br>Heures=%{y}<extra></extra>\",\"legendgroup\":\"TMC\",\"marker\":{\"color\":\"#FF6692\",\"pattern\":{\"shape\":\"\"}},\"name\":\"TMC\",\"offsetgroup\":\"TMC\",\"orientation\":\"v\",\"showlegend\":true,\"textposition\":\"auto\",\"x\":[\"ARTHAUD\",\"DUPONT-AIGNAN\",\"HIDALGO\",\"JADOT\",\"LASSALLE\",\"LE PEN\",\"MACRON\",\"POUTOU\",\"ROUSSEL\",\"ZEMMOUR\"],\"xaxis\":\"x\",\"y\":[0.12611111111111112,0.24138888888888888,0.6436111111111111,0.71,0.06388888888888888,2.558333333333333,3.386388888888889,0.18138888888888888,0.3572222222222222,1.7161111111111111],\"yaxis\":\"y\",\"type\":\"bar\"},{\"alignmentgroup\":\"True\",\"hovertemplate\":\"Service=BFMTV<br>Candidat=%{x}<br>Heures=%{y}<extra></extra>\",\"legendgroup\":\"BFMTV\",\"marker\":{\"color\":\"#B6E880\",\"pattern\":{\"shape\":\"\"}},\"name\":\"BFMTV\",\"offsetgroup\":\"BFMTV\",\"orientation\":\"v\",\"showlegend\":true,\"textposition\":\"auto\",\"x\":[\"ARTHAUD\",\"DUPONT-AIGNAN\",\"HIDALGO\",\"JADOT\",\"LASSALLE\",\"LE PEN\",\"MACRON\",\"POUTOU\",\"ROUSSEL\",\"ZEMMOUR\"],\"xaxis\":\"x\",\"y\":[0.6441666666666667,1.1336111111111111,4.2058333333333335,9.253333333333334,0.5847222222222223,7.456666666666667,10.516388888888889,0.09972222222222223,5.2375,6.9325],\"yaxis\":\"y\",\"type\":\"bar\"},{\"alignmentgroup\":\"True\",\"hovertemplate\":\"Service=Cnews<br>Candidat=%{x}<br>Heures=%{y}<extra></extra>\",\"legendgroup\":\"Cnews\",\"marker\":{\"color\":\"#FF97FF\",\"pattern\":{\"shape\":\"\"}},\"name\":\"Cnews\",\"offsetgroup\":\"Cnews\",\"orientation\":\"v\",\"showlegend\":true,\"textposition\":\"auto\",\"x\":[\"ARTHAUD\",\"DUPONT-AIGNAN\",\"HIDALGO\",\"JADOT\",\"LASSALLE\",\"LE PEN\",\"MACRON\",\"POUTOU\",\"ROUSSEL\",\"ZEMMOUR\"],\"xaxis\":\"x\",\"y\":[0.3288888888888889,3.388333333333333,11.069722222222222,11.249444444444444,0.4305555555555556,23.40222222222222,10.235277777777778,0.4411111111111111,7.936388888888889,16.239166666666666],\"yaxis\":\"y\",\"type\":\"bar\"},{\"alignmentgroup\":\"True\",\"hovertemplate\":\"Service=RT France<br>Candidat=%{x}<br>Heures=%{y}<extra></extra>\",\"legendgroup\":\"RT France\",\"marker\":{\"color\":\"#FECB52\",\"pattern\":{\"shape\":\"\"}},\"name\":\"RT France\",\"offsetgroup\":\"RT France\",\"orientation\":\"v\",\"showlegend\":true,\"textposition\":\"auto\",\"x\":[\"ARTHAUD\",\"DUPONT-AIGNAN\",\"HIDALGO\",\"JADOT\",\"LASSALLE\",\"LE PEN\",\"MACRON\",\"POUTOU\",\"ROUSSEL\",\"ZEMMOUR\"],\"xaxis\":\"x\",\"y\":[0.09444444444444444,0.19527777777777777,1.3822222222222222,1.2797222222222222,0.01611111111111111,4.219166666666666,6.5505555555555555,0.1986111111111111,1.4397222222222221,3.6927777777777777],\"yaxis\":\"y\",\"type\":\"bar\"},{\"alignmentgroup\":\"True\",\"hovertemplate\":\"Service=RMCDecouverte<br>Candidat=%{x}<br>Heures=%{y}<extra></extra>\",\"legendgroup\":\"RMCDecouverte\",\"marker\":{\"color\":\"#636efa\",\"pattern\":{\"shape\":\"\"}},\"name\":\"RMCDecouverte\",\"offsetgroup\":\"RMCDecouverte\",\"orientation\":\"v\",\"showlegend\":true,\"textposition\":\"auto\",\"x\":[\"ARTHAUD\",\"HIDALGO\",\"JADOT\",\"LASSALLE\",\"LE PEN\",\"MACRON\",\"ROUSSEL\",\"ZEMMOUR\"],\"xaxis\":\"x\",\"y\":[0.006944444444444444,0.06944444444444445,0.15166666666666667,0.0075,0.17083333333333334,0.8427777777777777,0.043055555555555555,0.21083333333333334],\"yaxis\":\"y\",\"type\":\"bar\"},{\"alignmentgroup\":\"True\",\"hovertemplate\":\"Service=RMC Story<br>Candidat=%{x}<br>Heures=%{y}<extra></extra>\",\"legendgroup\":\"RMC Story\",\"marker\":{\"color\":\"#EF553B\",\"pattern\":{\"shape\":\"\"}},\"name\":\"RMC Story\",\"offsetgroup\":\"RMC Story\",\"orientation\":\"v\",\"showlegend\":true,\"textposition\":\"auto\",\"x\":[\"ARTHAUD\",\"DUPONT-AIGNAN\",\"HIDALGO\",\"JADOT\",\"LASSALLE\",\"LE PEN\",\"MACRON\",\"POUTOU\",\"ROUSSEL\",\"ZEMMOUR\"],\"xaxis\":\"x\",\"y\":[0.525,0.16083333333333333,0.37027777777777776,1.4244444444444444,0.5919444444444445,2.763611111111111,3.895277777777778,0.5605555555555556,1.225,2.4869444444444446],\"yaxis\":\"y\",\"type\":\"bar\"},{\"alignmentgroup\":\"True\",\"hovertemplate\":\"Service=LCI<br>Candidat=%{x}<br>Heures=%{y}<extra></extra>\",\"legendgroup\":\"LCI\",\"marker\":{\"color\":\"#00cc96\",\"pattern\":{\"shape\":\"\"}},\"name\":\"LCI\",\"offsetgroup\":\"LCI\",\"orientation\":\"v\",\"showlegend\":true,\"textposition\":\"auto\",\"x\":[\"ARTHAUD\",\"DUPONT-AIGNAN\",\"HIDALGO\",\"JADOT\",\"LASSALLE\",\"LE PEN\",\"MACRON\",\"POUTOU\",\"ROUSSEL\",\"ZEMMOUR\"],\"xaxis\":\"x\",\"y\":[2.7319444444444443,5.073333333333333,19.859166666666667,21.483333333333334,3.5436111111111113,10.66611111111111,8.867222222222223,2.7827777777777776,11.025,22.022777777777776],\"yaxis\":\"y\",\"type\":\"bar\"},{\"alignmentgroup\":\"True\",\"hovertemplate\":\"Service=FranceinfoTV<br>Candidat=%{x}<br>Heures=%{y}<extra></extra>\",\"legendgroup\":\"FranceinfoTV\",\"marker\":{\"color\":\"#ab63fa\",\"pattern\":{\"shape\":\"\"}},\"name\":\"FranceinfoTV\",\"offsetgroup\":\"FranceinfoTV\",\"orientation\":\"v\",\"showlegend\":true,\"textposition\":\"auto\",\"x\":[\"ARTHAUD\",\"DUPONT-AIGNAN\",\"HIDALGO\",\"JADOT\",\"LASSALLE\",\"LE PEN\",\"MACRON\",\"POUTOU\",\"ROUSSEL\",\"ZEMMOUR\"],\"xaxis\":\"x\",\"y\":[0.8102777777777778,0.8791666666666667,8.146944444444445,8.456666666666667,0.2088888888888889,10.46111111111111,19.6275,0.29583333333333334,4.883611111111111,9.978055555555555],\"yaxis\":\"y\",\"type\":\"bar\"},{\"alignmentgroup\":\"True\",\"hovertemplate\":\"Service=TV5Monde<br>Candidat=%{x}<br>Heures=%{y}<extra></extra>\",\"legendgroup\":\"TV5Monde\",\"marker\":{\"color\":\"#FFA15A\",\"pattern\":{\"shape\":\"\"}},\"name\":\"TV5Monde\",\"offsetgroup\":\"TV5Monde\",\"orientation\":\"v\",\"showlegend\":true,\"textposition\":\"auto\",\"x\":[\"ARTHAUD\",\"DUPONT-AIGNAN\",\"HIDALGO\",\"JADOT\",\"LASSALLE\",\"LE PEN\",\"MACRON\",\"POUTOU\",\"ROUSSEL\",\"ZEMMOUR\"],\"xaxis\":\"x\",\"y\":[0.012777777777777779,0.029166666666666667,1.8769444444444445,2.098888888888889,0.26555555555555554,3.073888888888889,2.6308333333333334,0.3383333333333333,0.14833333333333334,0.7583333333333333],\"yaxis\":\"y\",\"type\":\"bar\"},{\"alignmentgroup\":\"True\",\"hovertemplate\":\"Service=France24<br>Candidat=%{x}<br>Heures=%{y}<extra></extra>\",\"legendgroup\":\"France24\",\"marker\":{\"color\":\"#19d3f3\",\"pattern\":{\"shape\":\"\"}},\"name\":\"France24\",\"offsetgroup\":\"France24\",\"orientation\":\"v\",\"showlegend\":true,\"textposition\":\"auto\",\"x\":[\"ARTHAUD\",\"DUPONT-AIGNAN\",\"HIDALGO\",\"JADOT\",\"LASSALLE\",\"LE PEN\",\"MACRON\",\"POUTOU\",\"ROUSSEL\",\"ZEMMOUR\"],\"xaxis\":\"x\",\"y\":[0.4777777777777778,0.5994444444444444,1.5997222222222223,1.6152777777777778,0.09388888888888888,3.6275,11.088611111111112,0.13472222222222222,1.1180555555555556,2.528611111111111],\"yaxis\":\"y\",\"type\":\"bar\"},{\"alignmentgroup\":\"True\",\"hovertemplate\":\"Service=Euronews<br>Candidat=%{x}<br>Heures=%{y}<extra></extra>\",\"legendgroup\":\"Euronews\",\"marker\":{\"color\":\"#FF6692\",\"pattern\":{\"shape\":\"\"}},\"name\":\"Euronews\",\"offsetgroup\":\"Euronews\",\"orientation\":\"v\",\"showlegend\":true,\"textposition\":\"auto\",\"x\":[\"ARTHAUD\",\"DUPONT-AIGNAN\",\"HIDALGO\",\"JADOT\",\"LASSALLE\",\"LE PEN\",\"MACRON\",\"POUTOU\",\"ROUSSEL\",\"ZEMMOUR\"],\"xaxis\":\"x\",\"y\":[0.39222222222222225,0.3933333333333333,1.0291666666666666,0.9066666666666666,0.44666666666666666,1.5302777777777778,3.0605555555555557,0.35388888888888886,1.4383333333333332,1.6141666666666667],\"yaxis\":\"y\",\"type\":\"bar\"},{\"alignmentgroup\":\"True\",\"hovertemplate\":\"Service=RFI<br>Candidat=%{x}<br>Heures=%{y}<extra></extra>\",\"legendgroup\":\"RFI\",\"marker\":{\"color\":\"#B6E880\",\"pattern\":{\"shape\":\"\"}},\"name\":\"RFI\",\"offsetgroup\":\"RFI\",\"orientation\":\"v\",\"showlegend\":true,\"textposition\":\"auto\",\"x\":[\"ARTHAUD\",\"DUPONT-AIGNAN\",\"HIDALGO\",\"JADOT\",\"LASSALLE\",\"LE PEN\",\"MACRON\",\"POUTOU\",\"ROUSSEL\",\"ZEMMOUR\"],\"xaxis\":\"x\",\"y\":[0.5,0.7555555555555555,1.1525,0.9508333333333333,0.16972222222222222,1.9833333333333334,2.371111111111111,0.21666666666666667,0.7733333333333333,1.1852777777777779],\"yaxis\":\"y\",\"type\":\"bar\"},{\"alignmentgroup\":\"True\",\"hovertemplate\":\"Service=FranceInfo<br>Candidat=%{x}<br>Heures=%{y}<extra></extra>\",\"legendgroup\":\"FranceInfo\",\"marker\":{\"color\":\"#FF97FF\",\"pattern\":{\"shape\":\"\"}},\"name\":\"FranceInfo\",\"offsetgroup\":\"FranceInfo\",\"orientation\":\"v\",\"showlegend\":true,\"textposition\":\"auto\",\"x\":[\"ARTHAUD\",\"DUPONT-AIGNAN\",\"HIDALGO\",\"JADOT\",\"LASSALLE\",\"LE PEN\",\"MACRON\",\"POUTOU\",\"ROUSSEL\",\"ZEMMOUR\"],\"xaxis\":\"x\",\"y\":[0.4361111111111111,1.0430555555555556,5.170555555555556,7.393888888888889,0.28305555555555556,11.331666666666667,6.114722222222222,0.8905555555555555,4.686944444444444,10.768611111111111],\"yaxis\":\"y\",\"type\":\"bar\"},{\"alignmentgroup\":\"True\",\"hovertemplate\":\"Service=FranceCulture<br>Candidat=%{x}<br>Heures=%{y}<extra></extra>\",\"legendgroup\":\"FranceCulture\",\"marker\":{\"color\":\"#FECB52\",\"pattern\":{\"shape\":\"\"}},\"name\":\"FranceCulture\",\"offsetgroup\":\"FranceCulture\",\"orientation\":\"v\",\"showlegend\":true,\"textposition\":\"auto\",\"x\":[\"ARTHAUD\",\"DUPONT-AIGNAN\",\"HIDALGO\",\"JADOT\",\"LASSALLE\",\"LE PEN\",\"MACRON\",\"POUTOU\",\"ROUSSEL\",\"ZEMMOUR\"],\"xaxis\":\"x\",\"y\":[0.075,0.028055555555555556,0.6955555555555556,1.0169444444444444,0.02,0.9991666666666666,4.154166666666667,0.0375,0.5927777777777777,1.2225],\"yaxis\":\"y\",\"type\":\"bar\"},{\"alignmentgroup\":\"True\",\"hovertemplate\":\"Service=FranceInter<br>Candidat=%{x}<br>Heures=%{y}<extra></extra>\",\"legendgroup\":\"FranceInter\",\"marker\":{\"color\":\"#636efa\",\"pattern\":{\"shape\":\"\"}},\"name\":\"FranceInter\",\"offsetgroup\":\"FranceInter\",\"orientation\":\"v\",\"showlegend\":true,\"textposition\":\"auto\",\"x\":[\"ARTHAUD\",\"DUPONT-AIGNAN\",\"HIDALGO\",\"JADOT\",\"LASSALLE\",\"LE PEN\",\"MACRON\",\"POUTOU\",\"ROUSSEL\",\"ZEMMOUR\"],\"xaxis\":\"x\",\"y\":[0.2811111111111111,0.3997222222222222,1.6630555555555555,2.788611111111111,0.0475,3.985,5.998333333333333,0.28833333333333333,1.5769444444444445,3.8969444444444443],\"yaxis\":\"y\",\"type\":\"bar\"},{\"alignmentgroup\":\"True\",\"hovertemplate\":\"Service=RadioClassique<br>Candidat=%{x}<br>Heures=%{y}<extra></extra>\",\"legendgroup\":\"RadioClassique\",\"marker\":{\"color\":\"#EF553B\",\"pattern\":{\"shape\":\"\"}},\"name\":\"RadioClassique\",\"offsetgroup\":\"RadioClassique\",\"orientation\":\"v\",\"showlegend\":true,\"textposition\":\"auto\",\"x\":[\"ARTHAUD\",\"DUPONT-AIGNAN\",\"HIDALGO\",\"JADOT\",\"LASSALLE\",\"LE PEN\",\"MACRON\",\"POUTOU\",\"ROUSSEL\",\"ZEMMOUR\"],\"xaxis\":\"x\",\"y\":[0.02861111111111111,0.25416666666666665,0.9544444444444444,1.1266666666666667,0.01611111111111111,2.6169444444444445,5.2941666666666665,0.05138888888888889,0.7225,1.5266666666666666],\"yaxis\":\"y\",\"type\":\"bar\"},{\"alignmentgroup\":\"True\",\"hovertemplate\":\"Service=BFMBusiness<br>Candidat=%{x}<br>Heures=%{y}<extra></extra>\",\"legendgroup\":\"BFMBusiness\",\"marker\":{\"color\":\"#00cc96\",\"pattern\":{\"shape\":\"\"}},\"name\":\"BFMBusiness\",\"offsetgroup\":\"BFMBusiness\",\"orientation\":\"v\",\"showlegend\":true,\"textposition\":\"auto\",\"x\":[\"ARTHAUD\",\"DUPONT-AIGNAN\",\"HIDALGO\",\"JADOT\",\"LASSALLE\",\"LE PEN\",\"MACRON\",\"ROUSSEL\",\"ZEMMOUR\"],\"xaxis\":\"x\",\"y\":[0.22583333333333333,0.7486111111111111,1.3388888888888888,1.4838888888888888,0.11527777777777778,2.7055555555555557,5.441666666666666,1.2002777777777778,2.1633333333333336],\"yaxis\":\"y\",\"type\":\"bar\"},{\"alignmentgroup\":\"True\",\"hovertemplate\":\"Service=RMC<br>Candidat=%{x}<br>Heures=%{y}<extra></extra>\",\"legendgroup\":\"RMC\",\"marker\":{\"color\":\"#ab63fa\",\"pattern\":{\"shape\":\"\"}},\"name\":\"RMC\",\"offsetgroup\":\"RMC\",\"orientation\":\"v\",\"showlegend\":true,\"textposition\":\"auto\",\"x\":[\"ARTHAUD\",\"DUPONT-AIGNAN\",\"HIDALGO\",\"JADOT\",\"LASSALLE\",\"LE PEN\",\"MACRON\",\"POUTOU\",\"ROUSSEL\",\"ZEMMOUR\"],\"xaxis\":\"x\",\"y\":[1.2694444444444444,0.5188888888888888,1.5005555555555556,2.9186111111111113,1.1391666666666667,8.566666666666666,9.125555555555556,0.5763888888888888,2.691388888888889,5.8405555555555555],\"yaxis\":\"y\",\"type\":\"bar\"},{\"alignmentgroup\":\"True\",\"hovertemplate\":\"Service=RTL<br>Candidat=%{x}<br>Heures=%{y}<extra></extra>\",\"legendgroup\":\"RTL\",\"marker\":{\"color\":\"#FFA15A\",\"pattern\":{\"shape\":\"\"}},\"name\":\"RTL\",\"offsetgroup\":\"RTL\",\"orientation\":\"v\",\"showlegend\":true,\"textposition\":\"auto\",\"x\":[\"ARTHAUD\",\"DUPONT-AIGNAN\",\"HIDALGO\",\"JADOT\",\"LASSALLE\",\"LE PEN\",\"MACRON\",\"POUTOU\",\"ROUSSEL\",\"ZEMMOUR\"],\"xaxis\":\"x\",\"y\":[0.12361111111111112,0.45416666666666666,1.3480555555555556,3.734166666666667,0.1897222222222222,5.864722222222222,8.595833333333333,0.0475,1.561388888888889,6.248055555555555],\"yaxis\":\"y\",\"type\":\"bar\"},{\"alignmentgroup\":\"True\",\"hovertemplate\":\"Service=Europe1<br>Candidat=%{x}<br>Heures=%{y}<extra></extra>\",\"legendgroup\":\"Europe1\",\"marker\":{\"color\":\"#19d3f3\",\"pattern\":{\"shape\":\"\"}},\"name\":\"Europe1\",\"offsetgroup\":\"Europe1\",\"orientation\":\"v\",\"showlegend\":true,\"textposition\":\"auto\",\"x\":[\"DUPONT-AIGNAN\",\"HIDALGO\",\"JADOT\",\"LASSALLE\",\"LE PEN\",\"MACRON\",\"ROUSSEL\",\"ZEMMOUR\"],\"xaxis\":\"x\",\"y\":[0.45805555555555555,3.8983333333333334,1.6175,0.45694444444444443,5.782777777777778,11.087777777777777,1.833888888888889,5.204166666666667],\"yaxis\":\"y\",\"type\":\"bar\"},{\"alignmentgroup\":\"True\",\"hovertemplate\":\"Service=SudRadio<br>Candidat=%{x}<br>Heures=%{y}<extra></extra>\",\"legendgroup\":\"SudRadio\",\"marker\":{\"color\":\"#FF6692\",\"pattern\":{\"shape\":\"\"}},\"name\":\"SudRadio\",\"offsetgroup\":\"SudRadio\",\"orientation\":\"v\",\"showlegend\":true,\"textposition\":\"auto\",\"x\":[\"ARTHAUD\",\"DUPONT-AIGNAN\",\"HIDALGO\",\"JADOT\",\"LASSALLE\",\"LE PEN\",\"MACRON\",\"POUTOU\",\"ROUSSEL\",\"ZEMMOUR\"],\"xaxis\":\"x\",\"y\":[0.3236111111111111,0.3388888888888889,0.9552777777777778,1.7016666666666667,0.18888888888888888,2.5155555555555558,5.469166666666666,0.14166666666666666,1.0597222222222222,2.7505555555555556],\"yaxis\":\"y\",\"type\":\"bar\"}],                        {\"template\":{\"data\":{\"histogram2dcontour\":[{\"type\":\"histogram2dcontour\",\"colorbar\":{\"outlinewidth\":0,\"ticks\":\"\"},\"colorscale\":[[0.0,\"#0d0887\"],[0.1111111111111111,\"#46039f\"],[0.2222222222222222,\"#7201a8\"],[0.3333333333333333,\"#9c179e\"],[0.4444444444444444,\"#bd3786\"],[0.5555555555555556,\"#d8576b\"],[0.6666666666666666,\"#ed7953\"],[0.7777777777777778,\"#fb9f3a\"],[0.8888888888888888,\"#fdca26\"],[1.0,\"#f0f921\"]]}],\"choropleth\":[{\"type\":\"choropleth\",\"colorbar\":{\"outlinewidth\":0,\"ticks\":\"\"}}],\"histogram2d\":[{\"type\":\"histogram2d\",\"colorbar\":{\"outlinewidth\":0,\"ticks\":\"\"},\"colorscale\":[[0.0,\"#0d0887\"],[0.1111111111111111,\"#46039f\"],[0.2222222222222222,\"#7201a8\"],[0.3333333333333333,\"#9c179e\"],[0.4444444444444444,\"#bd3786\"],[0.5555555555555556,\"#d8576b\"],[0.6666666666666666,\"#ed7953\"],[0.7777777777777778,\"#fb9f3a\"],[0.8888888888888888,\"#fdca26\"],[1.0,\"#f0f921\"]]}],\"heatmap\":[{\"type\":\"heatmap\",\"colorbar\":{\"outlinewidth\":0,\"ticks\":\"\"},\"colorscale\":[[0.0,\"#0d0887\"],[0.1111111111111111,\"#46039f\"],[0.2222222222222222,\"#7201a8\"],[0.3333333333333333,\"#9c179e\"],[0.4444444444444444,\"#bd3786\"],[0.5555555555555556,\"#d8576b\"],[0.6666666666666666,\"#ed7953\"],[0.7777777777777778,\"#fb9f3a\"],[0.8888888888888888,\"#fdca26\"],[1.0,\"#f0f921\"]]}],\"heatmapgl\":[{\"type\":\"heatmapgl\",\"colorbar\":{\"outlinewidth\":0,\"ticks\":\"\"},\"colorscale\":[[0.0,\"#0d0887\"],[0.1111111111111111,\"#46039f\"],[0.2222222222222222,\"#7201a8\"],[0.3333333333333333,\"#9c179e\"],[0.4444444444444444,\"#bd3786\"],[0.5555555555555556,\"#d8576b\"],[0.6666666666666666,\"#ed7953\"],[0.7777777777777778,\"#fb9f3a\"],[0.8888888888888888,\"#fdca26\"],[1.0,\"#f0f921\"]]}],\"contourcarpet\":[{\"type\":\"contourcarpet\",\"colorbar\":{\"outlinewidth\":0,\"ticks\":\"\"}}],\"contour\":[{\"type\":\"contour\",\"colorbar\":{\"outlinewidth\":0,\"ticks\":\"\"},\"colorscale\":[[0.0,\"#0d0887\"],[0.1111111111111111,\"#46039f\"],[0.2222222222222222,\"#7201a8\"],[0.3333333333333333,\"#9c179e\"],[0.4444444444444444,\"#bd3786\"],[0.5555555555555556,\"#d8576b\"],[0.6666666666666666,\"#ed7953\"],[0.7777777777777778,\"#fb9f3a\"],[0.8888888888888888,\"#fdca26\"],[1.0,\"#f0f921\"]]}],\"surface\":[{\"type\":\"surface\",\"colorbar\":{\"outlinewidth\":0,\"ticks\":\"\"},\"colorscale\":[[0.0,\"#0d0887\"],[0.1111111111111111,\"#46039f\"],[0.2222222222222222,\"#7201a8\"],[0.3333333333333333,\"#9c179e\"],[0.4444444444444444,\"#bd3786\"],[0.5555555555555556,\"#d8576b\"],[0.6666666666666666,\"#ed7953\"],[0.7777777777777778,\"#fb9f3a\"],[0.8888888888888888,\"#fdca26\"],[1.0,\"#f0f921\"]]}],\"mesh3d\":[{\"type\":\"mesh3d\",\"colorbar\":{\"outlinewidth\":0,\"ticks\":\"\"}}],\"scatter\":[{\"fillpattern\":{\"fillmode\":\"overlay\",\"size\":10,\"solidity\":0.2},\"type\":\"scatter\"}],\"parcoords\":[{\"type\":\"parcoords\",\"line\":{\"colorbar\":{\"outlinewidth\":0,\"ticks\":\"\"}}}],\"scatterpolargl\":[{\"type\":\"scatterpolargl\",\"marker\":{\"colorbar\":{\"outlinewidth\":0,\"ticks\":\"\"}}}],\"bar\":[{\"error_x\":{\"color\":\"#2a3f5f\"},\"error_y\":{\"color\":\"#2a3f5f\"},\"marker\":{\"line\":{\"color\":\"#E5ECF6\",\"width\":0.5},\"pattern\":{\"fillmode\":\"overlay\",\"size\":10,\"solidity\":0.2}},\"type\":\"bar\"}],\"scattergeo\":[{\"type\":\"scattergeo\",\"marker\":{\"colorbar\":{\"outlinewidth\":0,\"ticks\":\"\"}}}],\"scatterpolar\":[{\"type\":\"scatterpolar\",\"marker\":{\"colorbar\":{\"outlinewidth\":0,\"ticks\":\"\"}}}],\"histogram\":[{\"marker\":{\"pattern\":{\"fillmode\":\"overlay\",\"size\":10,\"solidity\":0.2}},\"type\":\"histogram\"}],\"scattergl\":[{\"type\":\"scattergl\",\"marker\":{\"colorbar\":{\"outlinewidth\":0,\"ticks\":\"\"}}}],\"scatter3d\":[{\"type\":\"scatter3d\",\"line\":{\"colorbar\":{\"outlinewidth\":0,\"ticks\":\"\"}},\"marker\":{\"colorbar\":{\"outlinewidth\":0,\"ticks\":\"\"}}}],\"scattermapbox\":[{\"type\":\"scattermapbox\",\"marker\":{\"colorbar\":{\"outlinewidth\":0,\"ticks\":\"\"}}}],\"scatterternary\":[{\"type\":\"scatterternary\",\"marker\":{\"colorbar\":{\"outlinewidth\":0,\"ticks\":\"\"}}}],\"scattercarpet\":[{\"type\":\"scattercarpet\",\"marker\":{\"colorbar\":{\"outlinewidth\":0,\"ticks\":\"\"}}}],\"carpet\":[{\"aaxis\":{\"endlinecolor\":\"#2a3f5f\",\"gridcolor\":\"white\",\"linecolor\":\"white\",\"minorgridcolor\":\"white\",\"startlinecolor\":\"#2a3f5f\"},\"baxis\":{\"endlinecolor\":\"#2a3f5f\",\"gridcolor\":\"white\",\"linecolor\":\"white\",\"minorgridcolor\":\"white\",\"startlinecolor\":\"#2a3f5f\"},\"type\":\"carpet\"}],\"table\":[{\"cells\":{\"fill\":{\"color\":\"#EBF0F8\"},\"line\":{\"color\":\"white\"}},\"header\":{\"fill\":{\"color\":\"#C8D4E3\"},\"line\":{\"color\":\"white\"}},\"type\":\"table\"}],\"barpolar\":[{\"marker\":{\"line\":{\"color\":\"#E5ECF6\",\"width\":0.5},\"pattern\":{\"fillmode\":\"overlay\",\"size\":10,\"solidity\":0.2}},\"type\":\"barpolar\"}],\"pie\":[{\"automargin\":true,\"type\":\"pie\"}]},\"layout\":{\"autotypenumbers\":\"strict\",\"colorway\":[\"#636efa\",\"#EF553B\",\"#00cc96\",\"#ab63fa\",\"#FFA15A\",\"#19d3f3\",\"#FF6692\",\"#B6E880\",\"#FF97FF\",\"#FECB52\"],\"font\":{\"color\":\"#2a3f5f\"},\"hovermode\":\"closest\",\"hoverlabel\":{\"align\":\"left\"},\"paper_bgcolor\":\"white\",\"plot_bgcolor\":\"#E5ECF6\",\"polar\":{\"bgcolor\":\"#E5ECF6\",\"angularaxis\":{\"gridcolor\":\"white\",\"linecolor\":\"white\",\"ticks\":\"\"},\"radialaxis\":{\"gridcolor\":\"white\",\"linecolor\":\"white\",\"ticks\":\"\"}},\"ternary\":{\"bgcolor\":\"#E5ECF6\",\"aaxis\":{\"gridcolor\":\"white\",\"linecolor\":\"white\",\"ticks\":\"\"},\"baxis\":{\"gridcolor\":\"white\",\"linecolor\":\"white\",\"ticks\":\"\"},\"caxis\":{\"gridcolor\":\"white\",\"linecolor\":\"white\",\"ticks\":\"\"}},\"coloraxis\":{\"colorbar\":{\"outlinewidth\":0,\"ticks\":\"\"}},\"colorscale\":{\"sequential\":[[0.0,\"#0d0887\"],[0.1111111111111111,\"#46039f\"],[0.2222222222222222,\"#7201a8\"],[0.3333333333333333,\"#9c179e\"],[0.4444444444444444,\"#bd3786\"],[0.5555555555555556,\"#d8576b\"],[0.6666666666666666,\"#ed7953\"],[0.7777777777777778,\"#fb9f3a\"],[0.8888888888888888,\"#fdca26\"],[1.0,\"#f0f921\"]],\"sequentialminus\":[[0.0,\"#0d0887\"],[0.1111111111111111,\"#46039f\"],[0.2222222222222222,\"#7201a8\"],[0.3333333333333333,\"#9c179e\"],[0.4444444444444444,\"#bd3786\"],[0.5555555555555556,\"#d8576b\"],[0.6666666666666666,\"#ed7953\"],[0.7777777777777778,\"#fb9f3a\"],[0.8888888888888888,\"#fdca26\"],[1.0,\"#f0f921\"]],\"diverging\":[[0,\"#8e0152\"],[0.1,\"#c51b7d\"],[0.2,\"#de77ae\"],[0.3,\"#f1b6da\"],[0.4,\"#fde0ef\"],[0.5,\"#f7f7f7\"],[0.6,\"#e6f5d0\"],[0.7,\"#b8e186\"],[0.8,\"#7fbc41\"],[0.9,\"#4d9221\"],[1,\"#276419\"]]},\"xaxis\":{\"gridcolor\":\"white\",\"linecolor\":\"white\",\"ticks\":\"\",\"title\":{\"standoff\":15},\"zerolinecolor\":\"white\",\"automargin\":true,\"zerolinewidth\":2},\"yaxis\":{\"gridcolor\":\"white\",\"linecolor\":\"white\",\"ticks\":\"\",\"title\":{\"standoff\":15},\"zerolinecolor\":\"white\",\"automargin\":true,\"zerolinewidth\":2},\"scene\":{\"xaxis\":{\"backgroundcolor\":\"#E5ECF6\",\"gridcolor\":\"white\",\"linecolor\":\"white\",\"showbackground\":true,\"ticks\":\"\",\"zerolinecolor\":\"white\",\"gridwidth\":2},\"yaxis\":{\"backgroundcolor\":\"#E5ECF6\",\"gridcolor\":\"white\",\"linecolor\":\"white\",\"showbackground\":true,\"ticks\":\"\",\"zerolinecolor\":\"white\",\"gridwidth\":2},\"zaxis\":{\"backgroundcolor\":\"#E5ECF6\",\"gridcolor\":\"white\",\"linecolor\":\"white\",\"showbackground\":true,\"ticks\":\"\",\"zerolinecolor\":\"white\",\"gridwidth\":2}},\"shapedefaults\":{\"line\":{\"color\":\"#2a3f5f\"}},\"annotationdefaults\":{\"arrowcolor\":\"#2a3f5f\",\"arrowhead\":0,\"arrowwidth\":1},\"geo\":{\"bgcolor\":\"white\",\"landcolor\":\"#E5ECF6\",\"subunitcolor\":\"white\",\"showland\":true,\"showlakes\":true,\"lakecolor\":\"white\"},\"title\":{\"x\":0.05},\"mapbox\":{\"style\":\"light\"}}},\"xaxis\":{\"anchor\":\"y\",\"domain\":[0.0,1.0],\"title\":{\"text\":\"Candidat\"},\"categoryorder\":\"total descending\"},\"yaxis\":{\"anchor\":\"x\",\"domain\":[0.0,1.0],\"title\":{\"text\":\"Heures\"}},\"legend\":{\"title\":{\"text\":\"Service\"},\"tracegroupgap\":0},\"margin\":{\"t\":60},\"barmode\":\"relative\"},                        {\"responsive\": true}                    ).then(function(){\n",
       "                            \n",
       "var gd = document.getElementById('c007a757-bdff-4d08-b4b9-2ddf65a37fd1');\n",
       "var x = new MutationObserver(function (mutations, observer) {{\n",
       "        var display = window.getComputedStyle(gd).display;\n",
       "        if (!display || display === 'none') {{\n",
       "            console.log([gd, 'removed!']);\n",
       "            Plotly.purge(gd);\n",
       "            observer.disconnect();\n",
       "        }}\n",
       "}});\n",
       "\n",
       "// Listen for the removal of the full notebook cells\n",
       "var notebookContainer = gd.closest('#notebook-container');\n",
       "if (notebookContainer) {{\n",
       "    x.observe(notebookContainer, {childList: true});\n",
       "}}\n",
       "\n",
       "// Listen for the clearing of the current output cell\n",
       "var outputEl = gd.closest('.output');\n",
       "if (outputEl) {{\n",
       "    x.observe(outputEl, {childList: true});\n",
       "}}\n",
       "\n",
       "                        })                };                });            </script>        </div>"
      ]
     },
     "metadata": {},
     "output_type": "display_data"
    }
   ],
   "source": [
    "fig = px.bar(t1_parole,\n",
    "             x='Candidat', y='Heures',\n",
    "             color='Service')\n",
    "\n",
    "fig.update_layout(xaxis={'categoryorder': 'total descending'})\n",
    "\n",
    "fig.show()"
   ]
  },
  {
   "cell_type": "markdown",
   "id": "aa3eb2de-2f2b-4213-a877-5a3f4d5d71c8",
   "metadata": {},
   "source": [
    "## Résultats du premier tour"
   ]
  },
  {
   "cell_type": "markdown",
   "id": "bb7ab903-5016-47de-86ad-319df7c630a0",
   "metadata": {
    "jp-MarkdownHeadingCollapsed": true,
    "tags": []
   },
   "source": [
    "### Participation"
   ]
  },
  {
   "cell_type": "markdown",
   "id": "9d823c98-2bf0-44e3-9337-dab4d284392e",
   "metadata": {},
   "source": [
    "### Répartition des votes"
   ]
  },
  {
   "cell_type": "code",
   "execution_count": null,
   "id": "14c2cd81-a92d-47f6-90e2-9a3b743398b8",
   "metadata": {},
   "outputs": [],
   "source": [
    "# Premier tour\n",
    "t1_rep_votes = t1_dep[t1_dep.columns[7:]].apply(sum).to_frame(name='Votes Obtenus')\n",
    "\n",
    "t1_rep_votes.reset_index(inplace=True)\n",
    "t1_rep_votes.rename(columns = {'index':'Candidats'}, inplace=True)\n",
    "t1_rep_votes.sort_values(ascending=False, by='Votes Obtenus', inplace=True)\n",
    "\n",
    "# Second tour\n",
    "t2_rep_votes = t2_dep[t2_dep.columns[7:]].apply(sum).to_frame(name='Votes Obtenus')\n",
    "\n",
    "t2_rep_votes.reset_index(inplace=True)\n",
    "t2_rep_votes.rename(columns = {'index':'Candidats'}, inplace=True)\n",
    "t2_rep_votes.sort_values(ascending=False, by='Votes Obtenus', inplace=True)"
   ]
  },
  {
   "cell_type": "code",
   "execution_count": null,
   "id": "d5c3b421-3154-41da-a026-e207bfce1798",
   "metadata": {},
   "outputs": [],
   "source": [
    "fig = make_subplots(rows=1, cols=2,\n",
    "                    column_widths=[0.6, 0.4],\n",
    "                    subplot_titles=['Premier tour', 'Second tour'],\n",
    "                    y_title='Votes obtenus')\n",
    "\n",
    "fig.add_trace(go.Bar(x=t1_rep_votes['Candidats'], y=t1_rep_votes['Votes Obtenus'],\n",
    "                     text=t1_rep_votes['Votes Obtenus']),\n",
    "             row=1, col=1)\n",
    "fig.add_trace(go.Bar(x=t2_rep_votes['Candidats'], y=t2_rep_votes['Votes Obtenus'],\n",
    "                     text=t2_rep_votes['Votes Obtenus']),\n",
    "             row=1, col=2)\n",
    "\n",
    "fig.update_layout(title_text='Élection Présidentielle 2022 - Répartition des votes',\n",
    "                  showlegend=False)\n",
    "fig.show()"
   ]
  },
  {
   "cell_type": "markdown",
   "id": "d5ee1e2e-1b9d-483f-8e1d-f10c01ec3076",
   "metadata": {},
   "source": [
    "### Taux d'abstention"
   ]
  },
  {
   "cell_type": "code",
   "execution_count": null,
   "id": "e546123a-7ddf-42a5-96fc-1d7725bef669",
   "metadata": {
    "tags": []
   },
   "outputs": [],
   "source": [
    "fig_t1 = px.choropleth_mapbox(t1_dep,\n",
    "                              locations='Code Département',\n",
    "                              geojson=geo_dep,\n",
    "                              color='Taux Abstention',\n",
    "                              featureidkey='properties.dep',\n",
    "                              hover_name='Département')\n",
    "fig_t2 = px.choropleth_mapbox(t2_dep,\n",
    "                              locations='Code Département',\n",
    "                              geojson=geo_dep,\n",
    "                              color='Taux Abstention',\n",
    "                              featureidkey='properties.dep',\n",
    "                              hover_name='Département')\n",
    "\n",
    "fig = make_subplots(rows=1, cols=2,\n",
    "                    subplot_titles=['Premier tour', 'Second tour'],\n",
    "                    specs=[[{'type': 'choroplethmapbox'}, {'type': 'choroplethmapbox'}]])\n",
    "\n",
    "fig.add_trace(fig_t1['data'][0], row=1, col=1)\n",
    "fig.add_trace(fig_t2['data'][0], row=1, col=2)\n",
    "\n",
    "fig.update_mapboxes(style='white-bg',\n",
    "                    center={'lat': 46.3, 'lon': 1.6751},\n",
    "                    zoom=4.2)\n",
    "fig.update_layout(title_text='Élection Présidentielle 2022 - Taux d\\'abstention',\n",
    "                  margin={'l': 0, 'r': 0, 't': 100, 'b': 0},\n",
    "                  height=500,\n",
    "                  coloraxis = {'colorscale': 'delta',\n",
    "                               'cmin': 0,\n",
    "                               'cmax': 100})\n",
    "\n",
    "fig.show()"
   ]
  },
  {
   "cell_type": "markdown",
   "id": "580b3592-5f27-4ce7-884a-21adce5479e2",
   "metadata": {},
   "source": [
    "### Vainqueurs"
   ]
  },
  {
   "cell_type": "code",
   "execution_count": null,
   "id": "1d5f1020-3233-49ad-9fd1-f962abbf35d0",
   "metadata": {},
   "outputs": [],
   "source": [
    "t1_vainq_dep = t1_dep[t1_dep.columns[7:]].idxmax(axis=1).to_frame(name='Vainqueur')\n",
    "t1_vainq_dep['Code Département'] = t1_dep['Code Département']\n",
    "t1_vainq_dep['Département'] = t1_dep['Département']\n",
    "\n",
    "t2_vainq_dep = t2_dep[t2_dep.columns[7:]].idxmax(axis=1).to_frame(name='Vainqueur')\n",
    "t2_vainq_dep['Code Département'] = t2_dep['Code Département']\n",
    "t2_vainq_dep['Département'] = t2_dep['Département']"
   ]
  },
  {
   "cell_type": "code",
   "execution_count": null,
   "id": "9c2f38b8-7f35-4c29-832f-441a1d8a7ea6",
   "metadata": {},
   "outputs": [],
   "source": [
    "fig = px.choropleth_mapbox(t2_vainq_dep,\n",
    "                           locations='Code Département',\n",
    "                           geojson=geo_dep,\n",
    "                           color='Vainqueur',\n",
    "                           featureidkey='properties.dep',\n",
    "                           hover_name='Département',\n",
    "                           mapbox_style='white-bg',\n",
    "                           center={'lat': 46.3, 'lon': 1.6751},\n",
    "                           zoom=4)\n",
    "fig.update_layout(margin={'l': 0, 'r': 0, 't': 0, 'b': 0})\n",
    "fig.show()"
   ]
  },
  {
   "cell_type": "code",
   "execution_count": null,
   "id": "a2673b38-94e2-415e-a8f9-230600902681",
   "metadata": {},
   "outputs": [],
   "source": [
    "fig_t1 = px.choropleth_mapbox(t1_vainq_dep,\n",
    "                              locations='Code Département',\n",
    "                              geojson=geo_dep,\n",
    "                              color='Vainqueur',\n",
    "                              featureidkey='properties.dep',\n",
    "                              hover_name='Vainqueur')\n",
    "fig_t2 = px.choropleth_mapbox(t2_vainq_dep,\n",
    "                              locations='Code Département',\n",
    "                              geojson=geo_dep,\n",
    "                              color='Vainqueur',\n",
    "                              featureidkey='properties.dep',\n",
    "                              hover_name='Vainqueur')\n",
    "\n",
    "fig = make_subplots(rows=1, cols=2,\n",
    "                    subplot_titles=['Premier tour', 'Second tour'],\n",
    "                    specs=[[{'type': 'choroplethmapbox'}, {'type': 'choroplethmapbox'}]])\n",
    "\n",
    "fig.add_trace(fig_t1['data'][0], row=1, col=1)\n",
    "fig.add_trace(fig_t2['data'][0], row=1, col=2)\n",
    "\n",
    "fig.update_mapboxes(style='white-bg',\n",
    "                    center={'lat': 46.3, 'lon': 1.6751},\n",
    "                    zoom=4.2)\n",
    "fig.update_layout(title_text='Élection Présidentielle 2022 - Vainqueur par département',\n",
    "                  margin={'l': 0, 'r': 0, 't': 100, 'b': 0},\n",
    "                  height=500)\n",
    "\n",
    "fig.show()"
   ]
  },
  {
   "cell_type": "markdown",
   "id": "ebb44412-0dd7-4f92-86cd-1edc79a65244",
   "metadata": {
    "tags": []
   },
   "source": [
    "# Correlation\n",
    "\n",
    "age, patrimoine, bugjet campagne, temps antennes\n",
    "\n",
    "https://www.lemonde.fr/les-decodeurs/article/2022/03/10/presidentielle-2022-ce-que-revelent-les-declarations-d-interets-et-de-patrimoine-des-candidats_6116984_4355770.html"
   ]
  },
  {
   "cell_type": "markdown",
   "id": "2a8f0357-a132-47fd-bfe4-d0b632c59504",
   "metadata": {},
   "source": [
    "## Correlations ?"
   ]
  },
  {
   "cell_type": "code",
   "execution_count": 33,
   "id": "d81e59cc-1638-4b19-9f0f-94a628e4dc28",
   "metadata": {
    "collapsed": true,
    "jupyter": {
     "outputs_hidden": true
    },
    "tags": []
   },
   "outputs": [
    {
     "data": {
      "text/html": [
       "<div>\n",
       "<style scoped>\n",
       "    .dataframe tbody tr th:only-of-type {\n",
       "        vertical-align: middle;\n",
       "    }\n",
       "\n",
       "    .dataframe tbody tr th {\n",
       "        vertical-align: top;\n",
       "    }\n",
       "\n",
       "    .dataframe thead th {\n",
       "        text-align: right;\n",
       "    }\n",
       "</style>\n",
       "<table border=\"1\" class=\"dataframe\">\n",
       "  <thead>\n",
       "    <tr style=\"text-align: right;\">\n",
       "      <th></th>\n",
       "      <th>Nom</th>\n",
       "      <th>Age</th>\n",
       "      <th>Patrimoine (EUR)</th>\n",
       "      <th>Votes</th>\n",
       "    </tr>\n",
       "  </thead>\n",
       "  <tbody>\n",
       "    <tr>\n",
       "      <th>0</th>\n",
       "      <td>ARTHAUD</td>\n",
       "      <td>52</td>\n",
       "      <td>219000</td>\n",
       "      <td>197094</td>\n",
       "    </tr>\n",
       "    <tr>\n",
       "      <th>1</th>\n",
       "      <td>ROUSSEL</td>\n",
       "      <td>53</td>\n",
       "      <td>220000</td>\n",
       "      <td>802422</td>\n",
       "    </tr>\n",
       "    <tr>\n",
       "      <th>2</th>\n",
       "      <td>MACRON</td>\n",
       "      <td>44</td>\n",
       "      <td>550000</td>\n",
       "      <td>9783058</td>\n",
       "    </tr>\n",
       "    <tr>\n",
       "      <th>3</th>\n",
       "      <td>LASSALLE</td>\n",
       "      <td>66</td>\n",
       "      <td>630000</td>\n",
       "      <td>1101387</td>\n",
       "    </tr>\n",
       "    <tr>\n",
       "      <th>4</th>\n",
       "      <td>LE PEN</td>\n",
       "      <td>53</td>\n",
       "      <td>1200000</td>\n",
       "      <td>8133828</td>\n",
       "    </tr>\n",
       "    <tr>\n",
       "      <th>5</th>\n",
       "      <td>ZEMMOUR</td>\n",
       "      <td>63</td>\n",
       "      <td>4200000</td>\n",
       "      <td>2485226</td>\n",
       "    </tr>\n",
       "    <tr>\n",
       "      <th>6</th>\n",
       "      <td>MÉLENCHON</td>\n",
       "      <td>70</td>\n",
       "      <td>1400000</td>\n",
       "      <td>7712520</td>\n",
       "    </tr>\n",
       "    <tr>\n",
       "      <th>7</th>\n",
       "      <td>HIDALGO</td>\n",
       "      <td>62</td>\n",
       "      <td>575000</td>\n",
       "      <td>616478</td>\n",
       "    </tr>\n",
       "    <tr>\n",
       "      <th>8</th>\n",
       "      <td>JADOT</td>\n",
       "      <td>54</td>\n",
       "      <td>412000</td>\n",
       "      <td>1627853</td>\n",
       "    </tr>\n",
       "    <tr>\n",
       "      <th>9</th>\n",
       "      <td>PÉCRESSE</td>\n",
       "      <td>54</td>\n",
       "      <td>9700000</td>\n",
       "      <td>1679001</td>\n",
       "    </tr>\n",
       "    <tr>\n",
       "      <th>10</th>\n",
       "      <td>POUTOU</td>\n",
       "      <td>55</td>\n",
       "      <td>122000</td>\n",
       "      <td>268904</td>\n",
       "    </tr>\n",
       "    <tr>\n",
       "      <th>11</th>\n",
       "      <td>DUPONT-AIGNAN</td>\n",
       "      <td>61</td>\n",
       "      <td>2000000</td>\n",
       "      <td>725176</td>\n",
       "    </tr>\n",
       "  </tbody>\n",
       "</table>\n",
       "</div>"
      ],
      "text/plain": [
       "              Nom  Age  Patrimoine (EUR)    Votes\n",
       "0         ARTHAUD   52            219000   197094\n",
       "1         ROUSSEL   53            220000   802422\n",
       "2          MACRON   44            550000  9783058\n",
       "3        LASSALLE   66            630000  1101387\n",
       "4          LE PEN   53           1200000  8133828\n",
       "5         ZEMMOUR   63           4200000  2485226\n",
       "6       MÉLENCHON   70           1400000  7712520\n",
       "7         HIDALGO   62            575000   616478\n",
       "8           JADOT   54            412000  1627853\n",
       "9        PÉCRESSE   54           9700000  1679001\n",
       "10         POUTOU   55            122000   268904\n",
       "11  DUPONT-AIGNAN   61           2000000   725176"
      ]
     },
     "execution_count": 33,
     "metadata": {},
     "output_type": "execute_result"
    }
   ],
   "source": [
    "candidats = pd.DataFrame()\n",
    "\n",
    "candidats['Nom'] = t1_dep.columns[7:].values\n",
    "candidats['Age'] = [52, 53, 44, 66, 53, 63, 70, 62, 54, 54, 55, 61]\n",
    "candidats['Patrimoine (EUR)'] = [219_000, 220_000, 550_000, 630_000, 1_200_000,\n",
    "                                 4_200_000, 1_400_000, 575_000, 412_000,\n",
    "                                 9_700_000, 122_000, 2_000_000]\n",
    "candidats['Votes'] = t1_dep[t1_dep.columns[7:]].apply(sum).values\n",
    "# candidat['Temps de parole'] = t1_parole.\n",
    "\n",
    "# https://www.europe1.fr/politique/presidentielle-voici-les-declarations-de-patrimoine-et-dinterets-des-12-candidats-4098301\n",
    "candidats"
   ]
  },
  {
   "cell_type": "code",
   "execution_count": 66,
   "id": "10b1a14f-d138-4c44-b948-80c6bbfa9179",
   "metadata": {},
   "outputs": [
    {
     "data": {
      "text/plain": [
       "Candidat\n",
       "ARTHAUD           10.055833\n",
       "DUPONT-AIGNAN     19.425556\n",
       "HIDALGO           74.096111\n",
       "JADOT             91.538333\n",
       "LASSALLE          10.031111\n",
       "LE PEN           130.809444\n",
       "MACRON           159.490556\n",
       "POUTOU             8.663333\n",
       "ROUSSEL           56.452500\n",
       "ZEMMOUR          120.229722\n",
       "Name: Heures, dtype: float64"
      ]
     },
     "execution_count": 66,
     "metadata": {},
     "output_type": "execute_result"
    }
   ],
   "source": [
    "t1_parole.groupby('Candidat', sort=False)['Heures'].sum()"
   ]
  },
  {
   "cell_type": "code",
   "execution_count": 55,
   "id": "9c7e2f6a-8c7e-423d-ab82-a9ec920b5aee",
   "metadata": {},
   "outputs": [
    {
     "data": {
      "application/vnd.plotly.v1+json": {
       "config": {
        "plotlyServerURL": "https://plot.ly"
       },
       "data": [
        {
         "hovertemplate": "Votes=%{x}<br>Age=%{y}<br>Patrimoine (EUR)=%{marker.size}<extra></extra>",
         "legendgroup": "",
         "marker": {
          "color": "#636efa",
          "size": [
           219000,
           220000,
           550000,
           630000,
           1200000,
           4200000,
           1400000,
           575000,
           412000,
           9700000,
           122000,
           2000000
          ],
          "sizemode": "area",
          "sizeref": 24250,
          "symbol": "circle"
         },
         "mode": "markers",
         "name": "",
         "orientation": "v",
         "showlegend": false,
         "type": "scatter",
         "x": [
          197094,
          802422,
          9783058,
          1101387,
          8133828,
          2485226,
          7712520,
          616478,
          1627853,
          1679001,
          268904,
          725176
         ],
         "xaxis": "x",
         "y": [
          52,
          53,
          44,
          66,
          53,
          63,
          70,
          62,
          54,
          54,
          55,
          61
         ],
         "yaxis": "y"
        }
       ],
       "layout": {
        "autosize": true,
        "legend": {
         "itemsizing": "constant",
         "tracegroupgap": 0
        },
        "margin": {
         "t": 60
        },
        "template": {
         "data": {
          "bar": [
           {
            "error_x": {
             "color": "#2a3f5f"
            },
            "error_y": {
             "color": "#2a3f5f"
            },
            "marker": {
             "line": {
              "color": "#E5ECF6",
              "width": 0.5
             },
             "pattern": {
              "fillmode": "overlay",
              "size": 10,
              "solidity": 0.2
             }
            },
            "type": "bar"
           }
          ],
          "barpolar": [
           {
            "marker": {
             "line": {
              "color": "#E5ECF6",
              "width": 0.5
             },
             "pattern": {
              "fillmode": "overlay",
              "size": 10,
              "solidity": 0.2
             }
            },
            "type": "barpolar"
           }
          ],
          "carpet": [
           {
            "aaxis": {
             "endlinecolor": "#2a3f5f",
             "gridcolor": "white",
             "linecolor": "white",
             "minorgridcolor": "white",
             "startlinecolor": "#2a3f5f"
            },
            "baxis": {
             "endlinecolor": "#2a3f5f",
             "gridcolor": "white",
             "linecolor": "white",
             "minorgridcolor": "white",
             "startlinecolor": "#2a3f5f"
            },
            "type": "carpet"
           }
          ],
          "choropleth": [
           {
            "colorbar": {
             "outlinewidth": 0,
             "ticks": ""
            },
            "type": "choropleth"
           }
          ],
          "contour": [
           {
            "colorbar": {
             "outlinewidth": 0,
             "ticks": ""
            },
            "colorscale": [
             [
              0,
              "#0d0887"
             ],
             [
              0.1111111111111111,
              "#46039f"
             ],
             [
              0.2222222222222222,
              "#7201a8"
             ],
             [
              0.3333333333333333,
              "#9c179e"
             ],
             [
              0.4444444444444444,
              "#bd3786"
             ],
             [
              0.5555555555555556,
              "#d8576b"
             ],
             [
              0.6666666666666666,
              "#ed7953"
             ],
             [
              0.7777777777777778,
              "#fb9f3a"
             ],
             [
              0.8888888888888888,
              "#fdca26"
             ],
             [
              1,
              "#f0f921"
             ]
            ],
            "type": "contour"
           }
          ],
          "contourcarpet": [
           {
            "colorbar": {
             "outlinewidth": 0,
             "ticks": ""
            },
            "type": "contourcarpet"
           }
          ],
          "heatmap": [
           {
            "colorbar": {
             "outlinewidth": 0,
             "ticks": ""
            },
            "colorscale": [
             [
              0,
              "#0d0887"
             ],
             [
              0.1111111111111111,
              "#46039f"
             ],
             [
              0.2222222222222222,
              "#7201a8"
             ],
             [
              0.3333333333333333,
              "#9c179e"
             ],
             [
              0.4444444444444444,
              "#bd3786"
             ],
             [
              0.5555555555555556,
              "#d8576b"
             ],
             [
              0.6666666666666666,
              "#ed7953"
             ],
             [
              0.7777777777777778,
              "#fb9f3a"
             ],
             [
              0.8888888888888888,
              "#fdca26"
             ],
             [
              1,
              "#f0f921"
             ]
            ],
            "type": "heatmap"
           }
          ],
          "heatmapgl": [
           {
            "colorbar": {
             "outlinewidth": 0,
             "ticks": ""
            },
            "colorscale": [
             [
              0,
              "#0d0887"
             ],
             [
              0.1111111111111111,
              "#46039f"
             ],
             [
              0.2222222222222222,
              "#7201a8"
             ],
             [
              0.3333333333333333,
              "#9c179e"
             ],
             [
              0.4444444444444444,
              "#bd3786"
             ],
             [
              0.5555555555555556,
              "#d8576b"
             ],
             [
              0.6666666666666666,
              "#ed7953"
             ],
             [
              0.7777777777777778,
              "#fb9f3a"
             ],
             [
              0.8888888888888888,
              "#fdca26"
             ],
             [
              1,
              "#f0f921"
             ]
            ],
            "type": "heatmapgl"
           }
          ],
          "histogram": [
           {
            "marker": {
             "pattern": {
              "fillmode": "overlay",
              "size": 10,
              "solidity": 0.2
             }
            },
            "type": "histogram"
           }
          ],
          "histogram2d": [
           {
            "colorbar": {
             "outlinewidth": 0,
             "ticks": ""
            },
            "colorscale": [
             [
              0,
              "#0d0887"
             ],
             [
              0.1111111111111111,
              "#46039f"
             ],
             [
              0.2222222222222222,
              "#7201a8"
             ],
             [
              0.3333333333333333,
              "#9c179e"
             ],
             [
              0.4444444444444444,
              "#bd3786"
             ],
             [
              0.5555555555555556,
              "#d8576b"
             ],
             [
              0.6666666666666666,
              "#ed7953"
             ],
             [
              0.7777777777777778,
              "#fb9f3a"
             ],
             [
              0.8888888888888888,
              "#fdca26"
             ],
             [
              1,
              "#f0f921"
             ]
            ],
            "type": "histogram2d"
           }
          ],
          "histogram2dcontour": [
           {
            "colorbar": {
             "outlinewidth": 0,
             "ticks": ""
            },
            "colorscale": [
             [
              0,
              "#0d0887"
             ],
             [
              0.1111111111111111,
              "#46039f"
             ],
             [
              0.2222222222222222,
              "#7201a8"
             ],
             [
              0.3333333333333333,
              "#9c179e"
             ],
             [
              0.4444444444444444,
              "#bd3786"
             ],
             [
              0.5555555555555556,
              "#d8576b"
             ],
             [
              0.6666666666666666,
              "#ed7953"
             ],
             [
              0.7777777777777778,
              "#fb9f3a"
             ],
             [
              0.8888888888888888,
              "#fdca26"
             ],
             [
              1,
              "#f0f921"
             ]
            ],
            "type": "histogram2dcontour"
           }
          ],
          "mesh3d": [
           {
            "colorbar": {
             "outlinewidth": 0,
             "ticks": ""
            },
            "type": "mesh3d"
           }
          ],
          "parcoords": [
           {
            "line": {
             "colorbar": {
              "outlinewidth": 0,
              "ticks": ""
             }
            },
            "type": "parcoords"
           }
          ],
          "pie": [
           {
            "automargin": true,
            "type": "pie"
           }
          ],
          "scatter": [
           {
            "fillpattern": {
             "fillmode": "overlay",
             "size": 10,
             "solidity": 0.2
            },
            "type": "scatter"
           }
          ],
          "scatter3d": [
           {
            "line": {
             "colorbar": {
              "outlinewidth": 0,
              "ticks": ""
             }
            },
            "marker": {
             "colorbar": {
              "outlinewidth": 0,
              "ticks": ""
             }
            },
            "type": "scatter3d"
           }
          ],
          "scattercarpet": [
           {
            "marker": {
             "colorbar": {
              "outlinewidth": 0,
              "ticks": ""
             }
            },
            "type": "scattercarpet"
           }
          ],
          "scattergeo": [
           {
            "marker": {
             "colorbar": {
              "outlinewidth": 0,
              "ticks": ""
             }
            },
            "type": "scattergeo"
           }
          ],
          "scattergl": [
           {
            "marker": {
             "colorbar": {
              "outlinewidth": 0,
              "ticks": ""
             }
            },
            "type": "scattergl"
           }
          ],
          "scattermapbox": [
           {
            "marker": {
             "colorbar": {
              "outlinewidth": 0,
              "ticks": ""
             }
            },
            "type": "scattermapbox"
           }
          ],
          "scatterpolar": [
           {
            "marker": {
             "colorbar": {
              "outlinewidth": 0,
              "ticks": ""
             }
            },
            "type": "scatterpolar"
           }
          ],
          "scatterpolargl": [
           {
            "marker": {
             "colorbar": {
              "outlinewidth": 0,
              "ticks": ""
             }
            },
            "type": "scatterpolargl"
           }
          ],
          "scatterternary": [
           {
            "marker": {
             "colorbar": {
              "outlinewidth": 0,
              "ticks": ""
             }
            },
            "type": "scatterternary"
           }
          ],
          "surface": [
           {
            "colorbar": {
             "outlinewidth": 0,
             "ticks": ""
            },
            "colorscale": [
             [
              0,
              "#0d0887"
             ],
             [
              0.1111111111111111,
              "#46039f"
             ],
             [
              0.2222222222222222,
              "#7201a8"
             ],
             [
              0.3333333333333333,
              "#9c179e"
             ],
             [
              0.4444444444444444,
              "#bd3786"
             ],
             [
              0.5555555555555556,
              "#d8576b"
             ],
             [
              0.6666666666666666,
              "#ed7953"
             ],
             [
              0.7777777777777778,
              "#fb9f3a"
             ],
             [
              0.8888888888888888,
              "#fdca26"
             ],
             [
              1,
              "#f0f921"
             ]
            ],
            "type": "surface"
           }
          ],
          "table": [
           {
            "cells": {
             "fill": {
              "color": "#EBF0F8"
             },
             "line": {
              "color": "white"
             }
            },
            "header": {
             "fill": {
              "color": "#C8D4E3"
             },
             "line": {
              "color": "white"
             }
            },
            "type": "table"
           }
          ]
         },
         "layout": {
          "annotationdefaults": {
           "arrowcolor": "#2a3f5f",
           "arrowhead": 0,
           "arrowwidth": 1
          },
          "autotypenumbers": "strict",
          "coloraxis": {
           "colorbar": {
            "outlinewidth": 0,
            "ticks": ""
           }
          },
          "colorscale": {
           "diverging": [
            [
             0,
             "#8e0152"
            ],
            [
             0.1,
             "#c51b7d"
            ],
            [
             0.2,
             "#de77ae"
            ],
            [
             0.3,
             "#f1b6da"
            ],
            [
             0.4,
             "#fde0ef"
            ],
            [
             0.5,
             "#f7f7f7"
            ],
            [
             0.6,
             "#e6f5d0"
            ],
            [
             0.7,
             "#b8e186"
            ],
            [
             0.8,
             "#7fbc41"
            ],
            [
             0.9,
             "#4d9221"
            ],
            [
             1,
             "#276419"
            ]
           ],
           "sequential": [
            [
             0,
             "#0d0887"
            ],
            [
             0.1111111111111111,
             "#46039f"
            ],
            [
             0.2222222222222222,
             "#7201a8"
            ],
            [
             0.3333333333333333,
             "#9c179e"
            ],
            [
             0.4444444444444444,
             "#bd3786"
            ],
            [
             0.5555555555555556,
             "#d8576b"
            ],
            [
             0.6666666666666666,
             "#ed7953"
            ],
            [
             0.7777777777777778,
             "#fb9f3a"
            ],
            [
             0.8888888888888888,
             "#fdca26"
            ],
            [
             1,
             "#f0f921"
            ]
           ],
           "sequentialminus": [
            [
             0,
             "#0d0887"
            ],
            [
             0.1111111111111111,
             "#46039f"
            ],
            [
             0.2222222222222222,
             "#7201a8"
            ],
            [
             0.3333333333333333,
             "#9c179e"
            ],
            [
             0.4444444444444444,
             "#bd3786"
            ],
            [
             0.5555555555555556,
             "#d8576b"
            ],
            [
             0.6666666666666666,
             "#ed7953"
            ],
            [
             0.7777777777777778,
             "#fb9f3a"
            ],
            [
             0.8888888888888888,
             "#fdca26"
            ],
            [
             1,
             "#f0f921"
            ]
           ]
          },
          "colorway": [
           "#636efa",
           "#EF553B",
           "#00cc96",
           "#ab63fa",
           "#FFA15A",
           "#19d3f3",
           "#FF6692",
           "#B6E880",
           "#FF97FF",
           "#FECB52"
          ],
          "font": {
           "color": "#2a3f5f"
          },
          "geo": {
           "bgcolor": "white",
           "lakecolor": "white",
           "landcolor": "#E5ECF6",
           "showlakes": true,
           "showland": true,
           "subunitcolor": "white"
          },
          "hoverlabel": {
           "align": "left"
          },
          "hovermode": "closest",
          "mapbox": {
           "style": "light"
          },
          "paper_bgcolor": "white",
          "plot_bgcolor": "#E5ECF6",
          "polar": {
           "angularaxis": {
            "gridcolor": "white",
            "linecolor": "white",
            "ticks": ""
           },
           "bgcolor": "#E5ECF6",
           "radialaxis": {
            "gridcolor": "white",
            "linecolor": "white",
            "ticks": ""
           }
          },
          "scene": {
           "xaxis": {
            "backgroundcolor": "#E5ECF6",
            "gridcolor": "white",
            "gridwidth": 2,
            "linecolor": "white",
            "showbackground": true,
            "ticks": "",
            "zerolinecolor": "white"
           },
           "yaxis": {
            "backgroundcolor": "#E5ECF6",
            "gridcolor": "white",
            "gridwidth": 2,
            "linecolor": "white",
            "showbackground": true,
            "ticks": "",
            "zerolinecolor": "white"
           },
           "zaxis": {
            "backgroundcolor": "#E5ECF6",
            "gridcolor": "white",
            "gridwidth": 2,
            "linecolor": "white",
            "showbackground": true,
            "ticks": "",
            "zerolinecolor": "white"
           }
          },
          "shapedefaults": {
           "line": {
            "color": "#2a3f5f"
           }
          },
          "ternary": {
           "aaxis": {
            "gridcolor": "white",
            "linecolor": "white",
            "ticks": ""
           },
           "baxis": {
            "gridcolor": "white",
            "linecolor": "white",
            "ticks": ""
           },
           "bgcolor": "#E5ECF6",
           "caxis": {
            "gridcolor": "white",
            "linecolor": "white",
            "ticks": ""
           }
          },
          "title": {
           "x": 0.05
          },
          "xaxis": {
           "automargin": true,
           "gridcolor": "white",
           "linecolor": "white",
           "ticks": "",
           "title": {
            "standoff": 15
           },
           "zerolinecolor": "white",
           "zerolinewidth": 2
          },
          "yaxis": {
           "automargin": true,
           "gridcolor": "white",
           "linecolor": "white",
           "ticks": "",
           "title": {
            "standoff": 15
           },
           "zerolinecolor": "white",
           "zerolinewidth": 2
          }
         }
        },
        "xaxis": {
         "anchor": "y",
         "autorange": true,
         "domain": [
          0,
          1
         ],
         "range": [
          -370386.04971939826,
          10358452.81188527
         ],
         "title": {
          "text": "Votes"
         },
         "type": "linear"
        },
        "yaxis": {
         "anchor": "x",
         "autorange": true,
         "domain": [
          0,
          1
         ],
         "range": [
          41.96050611732572,
          72.34916321808862
         ],
         "title": {
          "text": "Age"
         },
         "type": "linear"
        }
       }
      },
      "image/png": "[encoded data removed]",
      "text/html": [
       "<div>                            <div id=\"076bd672-773a-4a9d-91f6-207db16864d2\" class=\"plotly-graph-div\" style=\"height:525px; width:100%;\"></div>            <script type=\"text/javascript\">                require([\"plotly\"], function(Plotly) {                    window.PLOTLYENV=window.PLOTLYENV || {};                                    if (document.getElementById(\"076bd672-773a-4a9d-91f6-207db16864d2\")) {                    Plotly.newPlot(                        \"076bd672-773a-4a9d-91f6-207db16864d2\",                        [{\"hovertemplate\":\"Votes=%{x}<br>Age=%{y}<br>Patrimoine (EUR)=%{marker.size}<extra></extra>\",\"legendgroup\":\"\",\"marker\":{\"color\":\"#636efa\",\"size\":[219000,220000,550000,630000,1200000,4200000,1400000,575000,412000,9700000,122000,2000000],\"sizemode\":\"area\",\"sizeref\":24250.0,\"symbol\":\"circle\"},\"mode\":\"markers\",\"name\":\"\",\"orientation\":\"v\",\"showlegend\":false,\"x\":[197094,802422,9783058,1101387,8133828,2485226,7712520,616478,1627853,1679001,268904,725176],\"xaxis\":\"x\",\"y\":[52,53,44,66,53,63,70,62,54,54,55,61],\"yaxis\":\"y\",\"type\":\"scatter\"}],                        {\"template\":{\"data\":{\"histogram2dcontour\":[{\"type\":\"histogram2dcontour\",\"colorbar\":{\"outlinewidth\":0,\"ticks\":\"\"},\"colorscale\":[[0.0,\"#0d0887\"],[0.1111111111111111,\"#46039f\"],[0.2222222222222222,\"#7201a8\"],[0.3333333333333333,\"#9c179e\"],[0.4444444444444444,\"#bd3786\"],[0.5555555555555556,\"#d8576b\"],[0.6666666666666666,\"#ed7953\"],[0.7777777777777778,\"#fb9f3a\"],[0.8888888888888888,\"#fdca26\"],[1.0,\"#f0f921\"]]}],\"choropleth\":[{\"type\":\"choropleth\",\"colorbar\":{\"outlinewidth\":0,\"ticks\":\"\"}}],\"histogram2d\":[{\"type\":\"histogram2d\",\"colorbar\":{\"outlinewidth\":0,\"ticks\":\"\"},\"colorscale\":[[0.0,\"#0d0887\"],[0.1111111111111111,\"#46039f\"],[0.2222222222222222,\"#7201a8\"],[0.3333333333333333,\"#9c179e\"],[0.4444444444444444,\"#bd3786\"],[0.5555555555555556,\"#d8576b\"],[0.6666666666666666,\"#ed7953\"],[0.7777777777777778,\"#fb9f3a\"],[0.8888888888888888,\"#fdca26\"],[1.0,\"#f0f921\"]]}],\"heatmap\":[{\"type\":\"heatmap\",\"colorbar\":{\"outlinewidth\":0,\"ticks\":\"\"},\"colorscale\":[[0.0,\"#0d0887\"],[0.1111111111111111,\"#46039f\"],[0.2222222222222222,\"#7201a8\"],[0.3333333333333333,\"#9c179e\"],[0.4444444444444444,\"#bd3786\"],[0.5555555555555556,\"#d8576b\"],[0.6666666666666666,\"#ed7953\"],[0.7777777777777778,\"#fb9f3a\"],[0.8888888888888888,\"#fdca26\"],[1.0,\"#f0f921\"]]}],\"heatmapgl\":[{\"type\":\"heatmapgl\",\"colorbar\":{\"outlinewidth\":0,\"ticks\":\"\"},\"colorscale\":[[0.0,\"#0d0887\"],[0.1111111111111111,\"#46039f\"],[0.2222222222222222,\"#7201a8\"],[0.3333333333333333,\"#9c179e\"],[0.4444444444444444,\"#bd3786\"],[0.5555555555555556,\"#d8576b\"],[0.6666666666666666,\"#ed7953\"],[0.7777777777777778,\"#fb9f3a\"],[0.8888888888888888,\"#fdca26\"],[1.0,\"#f0f921\"]]}],\"contourcarpet\":[{\"type\":\"contourcarpet\",\"colorbar\":{\"outlinewidth\":0,\"ticks\":\"\"}}],\"contour\":[{\"type\":\"contour\",\"colorbar\":{\"outlinewidth\":0,\"ticks\":\"\"},\"colorscale\":[[0.0,\"#0d0887\"],[0.1111111111111111,\"#46039f\"],[0.2222222222222222,\"#7201a8\"],[0.3333333333333333,\"#9c179e\"],[0.4444444444444444,\"#bd3786\"],[0.5555555555555556,\"#d8576b\"],[0.6666666666666666,\"#ed7953\"],[0.7777777777777778,\"#fb9f3a\"],[0.8888888888888888,\"#fdca26\"],[1.0,\"#f0f921\"]]}],\"surface\":[{\"type\":\"surface\",\"colorbar\":{\"outlinewidth\":0,\"ticks\":\"\"},\"colorscale\":[[0.0,\"#0d0887\"],[0.1111111111111111,\"#46039f\"],[0.2222222222222222,\"#7201a8\"],[0.3333333333333333,\"#9c179e\"],[0.4444444444444444,\"#bd3786\"],[0.5555555555555556,\"#d8576b\"],[0.6666666666666666,\"#ed7953\"],[0.7777777777777778,\"#fb9f3a\"],[0.8888888888888888,\"#fdca26\"],[1.0,\"#f0f921\"]]}],\"mesh3d\":[{\"type\":\"mesh3d\",\"colorbar\":{\"outlinewidth\":0,\"ticks\":\"\"}}],\"scatter\":[{\"fillpattern\":{\"fillmode\":\"overlay\",\"size\":10,\"solidity\":0.2},\"type\":\"scatter\"}],\"parcoords\":[{\"type\":\"parcoords\",\"line\":{\"colorbar\":{\"outlinewidth\":0,\"ticks\":\"\"}}}],\"scatterpolargl\":[{\"type\":\"scatterpolargl\",\"marker\":{\"colorbar\":{\"outlinewidth\":0,\"ticks\":\"\"}}}],\"bar\":[{\"error_x\":{\"color\":\"#2a3f5f\"},\"error_y\":{\"color\":\"#2a3f5f\"},\"marker\":{\"line\":{\"color\":\"#E5ECF6\",\"width\":0.5},\"pattern\":{\"fillmode\":\"overlay\",\"size\":10,\"solidity\":0.2}},\"type\":\"bar\"}],\"scattergeo\":[{\"type\":\"scattergeo\",\"marker\":{\"colorbar\":{\"outlinewidth\":0,\"ticks\":\"\"}}}],\"scatterpolar\":[{\"type\":\"scatterpolar\",\"marker\":{\"colorbar\":{\"outlinewidth\":0,\"ticks\":\"\"}}}],\"histogram\":[{\"marker\":{\"pattern\":{\"fillmode\":\"overlay\",\"size\":10,\"solidity\":0.2}},\"type\":\"histogram\"}],\"scattergl\":[{\"type\":\"scattergl\",\"marker\":{\"colorbar\":{\"outlinewidth\":0,\"ticks\":\"\"}}}],\"scatter3d\":[{\"type\":\"scatter3d\",\"line\":{\"colorbar\":{\"outlinewidth\":0,\"ticks\":\"\"}},\"marker\":{\"colorbar\":{\"outlinewidth\":0,\"ticks\":\"\"}}}],\"scattermapbox\":[{\"type\":\"scattermapbox\",\"marker\":{\"colorbar\":{\"outlinewidth\":0,\"ticks\":\"\"}}}],\"scatterternary\":[{\"type\":\"scatterternary\",\"marker\":{\"colorbar\":{\"outlinewidth\":0,\"ticks\":\"\"}}}],\"scattercarpet\":[{\"type\":\"scattercarpet\",\"marker\":{\"colorbar\":{\"outlinewidth\":0,\"ticks\":\"\"}}}],\"carpet\":[{\"aaxis\":{\"endlinecolor\":\"#2a3f5f\",\"gridcolor\":\"white\",\"linecolor\":\"white\",\"minorgridcolor\":\"white\",\"startlinecolor\":\"#2a3f5f\"},\"baxis\":{\"endlinecolor\":\"#2a3f5f\",\"gridcolor\":\"white\",\"linecolor\":\"white\",\"minorgridcolor\":\"white\",\"startlinecolor\":\"#2a3f5f\"},\"type\":\"carpet\"}],\"table\":[{\"cells\":{\"fill\":{\"color\":\"#EBF0F8\"},\"line\":{\"color\":\"white\"}},\"header\":{\"fill\":{\"color\":\"#C8D4E3\"},\"line\":{\"color\":\"white\"}},\"type\":\"table\"}],\"barpolar\":[{\"marker\":{\"line\":{\"color\":\"#E5ECF6\",\"width\":0.5},\"pattern\":{\"fillmode\":\"overlay\",\"size\":10,\"solidity\":0.2}},\"type\":\"barpolar\"}],\"pie\":[{\"automargin\":true,\"type\":\"pie\"}]},\"layout\":{\"autotypenumbers\":\"strict\",\"colorway\":[\"#636efa\",\"#EF553B\",\"#00cc96\",\"#ab63fa\",\"#FFA15A\",\"#19d3f3\",\"#FF6692\",\"#B6E880\",\"#FF97FF\",\"#FECB52\"],\"font\":{\"color\":\"#2a3f5f\"},\"hovermode\":\"closest\",\"hoverlabel\":{\"align\":\"left\"},\"paper_bgcolor\":\"white\",\"plot_bgcolor\":\"#E5ECF6\",\"polar\":{\"bgcolor\":\"#E5ECF6\",\"angularaxis\":{\"gridcolor\":\"white\",\"linecolor\":\"white\",\"ticks\":\"\"},\"radialaxis\":{\"gridcolor\":\"white\",\"linecolor\":\"white\",\"ticks\":\"\"}},\"ternary\":{\"bgcolor\":\"#E5ECF6\",\"aaxis\":{\"gridcolor\":\"white\",\"linecolor\":\"white\",\"ticks\":\"\"},\"baxis\":{\"gridcolor\":\"white\",\"linecolor\":\"white\",\"ticks\":\"\"},\"caxis\":{\"gridcolor\":\"white\",\"linecolor\":\"white\",\"ticks\":\"\"}},\"coloraxis\":{\"colorbar\":{\"outlinewidth\":0,\"ticks\":\"\"}},\"colorscale\":{\"sequential\":[[0.0,\"#0d0887\"],[0.1111111111111111,\"#46039f\"],[0.2222222222222222,\"#7201a8\"],[0.3333333333333333,\"#9c179e\"],[0.4444444444444444,\"#bd3786\"],[0.5555555555555556,\"#d8576b\"],[0.6666666666666666,\"#ed7953\"],[0.7777777777777778,\"#fb9f3a\"],[0.8888888888888888,\"#fdca26\"],[1.0,\"#f0f921\"]],\"sequentialminus\":[[0.0,\"#0d0887\"],[0.1111111111111111,\"#46039f\"],[0.2222222222222222,\"#7201a8\"],[0.3333333333333333,\"#9c179e\"],[0.4444444444444444,\"#bd3786\"],[0.5555555555555556,\"#d8576b\"],[0.6666666666666666,\"#ed7953\"],[0.7777777777777778,\"#fb9f3a\"],[0.8888888888888888,\"#fdca26\"],[1.0,\"#f0f921\"]],\"diverging\":[[0,\"#8e0152\"],[0.1,\"#c51b7d\"],[0.2,\"#de77ae\"],[0.3,\"#f1b6da\"],[0.4,\"#fde0ef\"],[0.5,\"#f7f7f7\"],[0.6,\"#e6f5d0\"],[0.7,\"#b8e186\"],[0.8,\"#7fbc41\"],[0.9,\"#4d9221\"],[1,\"#276419\"]]},\"xaxis\":{\"gridcolor\":\"white\",\"linecolor\":\"white\",\"ticks\":\"\",\"title\":{\"standoff\":15},\"zerolinecolor\":\"white\",\"automargin\":true,\"zerolinewidth\":2},\"yaxis\":{\"gridcolor\":\"white\",\"linecolor\":\"white\",\"ticks\":\"\",\"title\":{\"standoff\":15},\"zerolinecolor\":\"white\",\"automargin\":true,\"zerolinewidth\":2},\"scene\":{\"xaxis\":{\"backgroundcolor\":\"#E5ECF6\",\"gridcolor\":\"white\",\"linecolor\":\"white\",\"showbackground\":true,\"ticks\":\"\",\"zerolinecolor\":\"white\",\"gridwidth\":2},\"yaxis\":{\"backgroundcolor\":\"#E5ECF6\",\"gridcolor\":\"white\",\"linecolor\":\"white\",\"showbackground\":true,\"ticks\":\"\",\"zerolinecolor\":\"white\",\"gridwidth\":2},\"zaxis\":{\"backgroundcolor\":\"#E5ECF6\",\"gridcolor\":\"white\",\"linecolor\":\"white\",\"showbackground\":true,\"ticks\":\"\",\"zerolinecolor\":\"white\",\"gridwidth\":2}},\"shapedefaults\":{\"line\":{\"color\":\"#2a3f5f\"}},\"annotationdefaults\":{\"arrowcolor\":\"#2a3f5f\",\"arrowhead\":0,\"arrowwidth\":1},\"geo\":{\"bgcolor\":\"white\",\"landcolor\":\"#E5ECF6\",\"subunitcolor\":\"white\",\"showland\":true,\"showlakes\":true,\"lakecolor\":\"white\"},\"title\":{\"x\":0.05},\"mapbox\":{\"style\":\"light\"}}},\"xaxis\":{\"anchor\":\"y\",\"domain\":[0.0,1.0],\"title\":{\"text\":\"Votes\"}},\"yaxis\":{\"anchor\":\"x\",\"domain\":[0.0,1.0],\"title\":{\"text\":\"Age\"}},\"legend\":{\"tracegroupgap\":0,\"itemsizing\":\"constant\"},\"margin\":{\"t\":60}},                        {\"responsive\": true}                    ).then(function(){\n",
       "                            \n",
       "var gd = document.getElementById('076bd672-773a-4a9d-91f6-207db16864d2');\n",
       "var x = new MutationObserver(function (mutations, observer) {{\n",
       "        var display = window.getComputedStyle(gd).display;\n",
       "        if (!display || display === 'none') {{\n",
       "            console.log([gd, 'removed!']);\n",
       "            Plotly.purge(gd);\n",
       "            observer.disconnect();\n",
       "        }}\n",
       "}});\n",
       "\n",
       "// Listen for the removal of the full notebook cells\n",
       "var notebookContainer = gd.closest('#notebook-container');\n",
       "if (notebookContainer) {{\n",
       "    x.observe(notebookContainer, {childList: true});\n",
       "}}\n",
       "\n",
       "// Listen for the clearing of the current output cell\n",
       "var outputEl = gd.closest('.output');\n",
       "if (outputEl) {{\n",
       "    x.observe(outputEl, {childList: true});\n",
       "}}\n",
       "\n",
       "                        })                };                });            </script>        </div>"
      ]
     },
     "metadata": {},
     "output_type": "display_data"
    }
   ],
   "source": [
    "fig = px.scatter()\n",
    "\n",
    "fig.show()"
   ]
  }
 ],
 "metadata": {
  "kernelspec": {
   "display_name": "Python 3 (ipykernel)",
   "language": "python",
   "name": "python3"
  },
  "language_info": {
   "codemirror_mode": {
    "name": "ipython",
    "version": 3
   },
   "file_extension": ".py",
   "mimetype": "text/x-python",
   "name": "python",
   "nbconvert_exporter": "python",
   "pygments_lexer": "ipython3",
   "version": "3.10.4"
  }
 },
 "nbformat": 4,
 "nbformat_minor": 5
}
